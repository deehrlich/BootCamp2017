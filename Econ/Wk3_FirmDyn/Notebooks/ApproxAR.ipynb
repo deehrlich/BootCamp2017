{
 "cells": [
  {
   "cell_type": "markdown",
   "metadata": {},
   "source": [
    "# Approximating Autoregressive Processes\n",
    "### by [Jason DeBacker](http://jasondebacker.com), July 2017\n",
    "This Jupyter notebook was written using Python 3.6. To execute all the code here, one will need a the Python script `ar1_approx.py` to be located in a directory with the relative path `..\\Code\\`.\n",
    "\n",
    "Consider the AR(1) process given by:\n",
    "\n",
    "$$ ln(z_{t+1}) = \\rho ln(z_{t}) + (1-\\rho)\\mu + \\varepsilon_{t}, $$\n",
    "\n",
    "where $\\varepsilon_{t}\\sim N(0,\\sigma_{\\varepsilon})$.  \n",
    "\n",
    "With such a process, $z$ can take on any value on the real line.  The distribution of $z$ looks like:"
   ]
  },
  {
   "cell_type": "code",
<<<<<<< HEAD
<<<<<<< HEAD
   "execution_count": 1,
   "metadata": {},
   "outputs": [
    {
     "data": {
      "text/plain": [
       "<matplotlib.axes._subplots.AxesSubplot at 0x11bc6ce10>"
      ]
     },
     "execution_count": 1,
     "metadata": {},
     "output_type": "execute_result"
    },
    {
     "data": {
      "image/png": "iVBORw0KGgoAAAANSUhEUgAAAXIAAAD3CAYAAAAALt/WAAAABHNCSVQICAgIfAhkiAAAAAlwSFlz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\nyIUQwuIkyIUQwuIkyIUQwuL+P358JHzI5o6xAAAAAElFTkSuQmCC\n",
      "text/plain": [
       "<matplotlib.figure.Figure at 0x11bbdb860>"
      ]
     },
     "metadata": {},
     "output_type": "display_data"
    }
   ],
=======
   "execution_count": null,
   "metadata": {
    "collapsed": false
   },
   "outputs": [],
>>>>>>> upstream/master
=======
   "execution_count": 2,
   "metadata": {
    "collapsed": false
   },
   "outputs": [
    {
     "data": {
      "text/plain": [
       "<matplotlib.axes._subplots.AxesSubplot at 0x1161241d0>"
      ]
     },
     "execution_count": 2,
     "metadata": {},
     "output_type": "execute_result"
    },
    {
     "data": {
      "image/png": "iVBORw0KGgoAAAANSUhEUgAAAXIAAAD3CAYAAAAALt/WAAAABHNCSVQICAgIfAhkiAAAAAlwSFlz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\n0gAAAABJRU5ErkJggg==\n",
      "text/plain": [
       "<matplotlib.figure.Figure at 0x10e86e400>"
      ]
     },
     "metadata": {},
     "output_type": "display_data"
    }
   ],
>>>>>>> upstream/master
   "source": [
    "# import packages\n",
    "import matplotlib.pyplot as plt\n",
    "import seaborn as sns\n",
    "import numpy as np\n",
    "\n",
    "# to print plots inline\n",
    "%matplotlib inline\n",
    "\n",
    "# set our parameters\n",
    "rho = 0.8\n",
    "mu = 0.0\n",
    "sigma_eps = 0.2\n",
    "\n",
    "# draw our shocks\n",
    "num_draws = 100000 # number of shocks to draw\n",
    "eps = np.random.normal(0.0, sigma_eps, size=(num_draws))\n",
    "\n",
    "# Compute z\n",
    "z = np.empty(num_draws)\n",
    "z[0] = 0.0 + eps[0]\n",
    "for i in range(1, num_draws):\n",
    "    z[i] = rho * z[i - 1] + (1 - rho) * mu + eps[i]\n",
    "    \n",
    "\n",
    "# plot distribution of z\n",
    "# sns.distplot(z, hist=False)\n",
    "sns.kdeplot(np.array(z), bw=0.5)"
   ]
  },
  {
   "cell_type": "markdown",
   "metadata": {},
   "source": [
    "The distribution of $z$ should have variance = $\\sigma_{z}^{2} = \\frac{\\sigma_{\\epsilon}^{2}}{(1-\\rho)}$.  Let's check: "
   ]
  },
  {
   "cell_type": "code",
<<<<<<< HEAD
<<<<<<< HEAD
   "execution_count": 2,
   "metadata": {},
   "outputs": [
    {
     "name": "stdout",
     "output_type": "stream",
     "text": [
      "Theoretical sigma_z =  0.3333333333333334\n",
      "Simulated sigma_z =  0.333792396876\n"
     ]
    }
   ],
=======
   "execution_count": null,
   "metadata": {
    "collapsed": false
   },
   "outputs": [],
>>>>>>> upstream/master
=======
   "execution_count": 3,
   "metadata": {
    "collapsed": false
   },
   "outputs": [
    {
     "name": "stdout",
     "output_type": "stream",
     "text": [
      "Theoretical sigma_z =  0.3333333333333334\n",
      "Simulated sigma_z =  0.332545794167\n"
     ]
    }
   ],
>>>>>>> upstream/master
   "source": [
    "# theory says:\n",
    "sigma_z = sigma_eps / ((1 - rho ** 2) ** (1 / 2))\n",
    "print('Theoretical sigma_z = ', sigma_z)\n",
    "\n",
    "# from our simulation:\n",
    "sigma_z_simul = z.std()\n",
    "print('Simulated sigma_z = ', sigma_z_simul)"
   ]
  },
  {
   "cell_type": "markdown",
   "metadata": {},
   "source": [
    "Pretty close.  And it will get closer as you increae `N`.  \n",
    "\n",
    "For the computational solution to our dynamic programming problem, we'll want to approximate this continuous distribution with something over a finite grid.  There are a number of methods to do this (see Adda and Cooper (2003, pp. 56-59), Tauchen and Hussey (1991), and Rouwenhorst (1995) for some approaches).  What all of these approaches have in common is that they approximate the autoregressive process with a Markov process (technically a Markov chain, since it's over a finite grid). Generally, the approach is to divide the real line over which $z$ is defined into a finite set of intervals.  These approaches then compute the probabilities of transitioning between one interval and another to match the autoregressive processs.\n",
    "\n",
    "## 1. Adda-Cooper (2003) method\n",
    "\n",
    "Let us illustrate the general approach of these approximation methods through the Adda and Cooper (2003, pp. 56-59) (henceforth AC) method.  \n",
    "\n",
    "AC start by dividing the real line into intervals.  In particular, they divide the real line into intervals such that $z_{t}$ has an equal probability of falling into any of the intervals.  Since $\\varepsilon$ is distributed normally, the cut-off points given by $\\left\\{z^{i}\\right\\}_{i=0}^{N}$ for these intervals are defined by:\n",
    "\n",
    "$$ \\Phi\\left(\\frac{z^{i+1}-\\mu}{\\sigma_{z}}\\right) - \\Phi\\left(\\frac{z^{i}-\\mu}{\\sigma_{z}}\\right) = \\frac{1}{N}, $$\n",
    "\n",
    "where $N$ are the number of grid points in our discretized grid space and $\\Phi(\\cdot)$ is the cumulative density function of the standard normal distribution.  Solving this recursively we find that each cut-off point is given by:\n",
    "\n",
    "$$ z^{i} = \\sigma_{z} \\Phi^{-1}\\left(\\frac{i-1}{N}\\right) + \\mu $$ "
   ]
  },
  {
   "cell_type": "code",
<<<<<<< HEAD
<<<<<<< HEAD
   "execution_count": 3,
   "metadata": {},
   "outputs": [
    {
     "name": "stdout",
     "output_type": "stream",
     "text": [
      "Cut-off values =  [       -inf -0.28054041 -0.08444903  0.08444903  0.28054041         inf]\n"
     ]
    }
   ],
=======
   "execution_count": null,
   "metadata": {
    "collapsed": false
   },
   "outputs": [],
>>>>>>> upstream/master
=======
   "execution_count": 4,
   "metadata": {
    "collapsed": false
   },
   "outputs": [
    {
     "name": "stdout",
     "output_type": "stream",
     "text": [
      "Cut-off values =  [       -inf -0.28054041 -0.08444903  0.08444903  0.28054041         inf]\n"
     ]
    }
   ],
>>>>>>> upstream/master
   "source": [
    "# import packages\n",
    "from scipy.stats import norm\n",
    "\n",
    "# Compute cut-off values\n",
    "N = 5  # number of grid points (will have one more cut-off point than this)\n",
    "z_cutoffs = (sigma_z * norm.ppf(np.arange(N + 1) / N)) + mu\n",
    "print('Cut-off values = ', z_cutoffs)"
   ]
  },
  {
   "cell_type": "markdown",
   "metadata": {},
   "source": [
    "Now that we've defined the intervals through these cut-off values, we'll next want to compute the average value of $z$ in each of these intervals.  These values will be our grid points.  Let $z_{p}^{i}$ be grid point $i$ and define $z_{p}^{i}$ as the mean value of $z_{t}$ conditional on $z_{t}\\in\\left[z^{i},z^{i+1}\\right]$.  That is:\n",
    "\n",
    "$$ z_{p}^{i} = E\\left(z_{t}|z_{t}\\in \\left[z^{i},z^{i+1}\\right] \\right) = \\sigma_{z} \\frac{\\phi((z^{i}-\\mu)/\\sigma_z) - \\phi((z^{i+1}-\\mu)/\\sigma_z)}{\\Phi((z^{i+1}-\\mu)/\\sigma_z) - \\Phi((z^{i}-\\mu)/\\sigma_z)} + \\mu $$\n",
    "\n",
    "Simplifying:\n",
    "\n",
    "$$ z_{p}^{i} = N \\sigma_z \\left(\\phi\\left(\\frac{z^{i}-\\mu}{\\sigma_z}\\right) - \\phi\\left(\\frac{z^{i+1}-\\mu}{\\sigma_z}\\right) \\right) + \\mu $$"
   ]
  },
  {
   "cell_type": "code",
<<<<<<< HEAD
<<<<<<< HEAD
   "execution_count": 4,
   "metadata": {},
   "outputs": [
    {
     "name": "stdout",
     "output_type": "stream",
     "text": [
      "Grid points =  [-0.4666032  -0.17730102  0.          0.17730102  0.4666032 ]\n"
     ]
    }
   ],
=======
   "execution_count": null,
   "metadata": {
    "collapsed": false
   },
   "outputs": [],
>>>>>>> upstream/master
=======
   "execution_count": 5,
   "metadata": {
    "collapsed": false
   },
   "outputs": [
    {
     "name": "stdout",
     "output_type": "stream",
     "text": [
      "Grid points =  [-0.4666032  -0.17730102  0.          0.17730102  0.4666032 ]\n"
     ]
    }
   ],
>>>>>>> upstream/master
   "source": [
    "# compute grid points for z\n",
    "z_grid = ((N * sigma_z * (norm.pdf((z_cutoffs[:-1] - mu) / sigma_z)\n",
    "                              - norm.pdf((z_cutoffs[1:] - mu) / sigma_z)))\n",
    "              + mu)\n",
    "print('Grid points = ', z_grid)"
   ]
  },
  {
   "cell_type": "markdown",
   "metadata": {},
   "source": [
    "Now we have our grid points.  Next, we need to determine the transitions between these grid points.  We want these transition probabilities to be such they they match the autocorrelation in the AR(1) process we are modeling using a first over Markov process.\n",
    "\n",
    "Define the probability of transitioning between grid point i and grid point j as: \n",
    "\n",
    "$$ \\pi_{i,j} = P\\left( z_{t} \\in \\left[z^{j},z^{j+1} \\right] | z_{t-1} \\in \\left[z^{i},z^{i+1} \\right] \\right) $$\n",
    "\n",
    "Using the fact that $\\varepsilon \\sim N(0,\\sigma_{\\varepsilon})$, we have:\n",
    "\n",
    "$$ \\pi_{i,j} = \\frac{N}{\\sqrt{2\\pi\\sigma_{z}^{2}}} \\int_{z^{i}}^{z^{i+1}} e^{-(\\varepsilon - \\mu)^{2}/(2\\sigma_{z}^{2})} \\left[ \\Phi\\left(\\frac{z^{j+1} - \\mu(1-\\rho) - \\rho\\mu}{\\sigma_{\\varepsilon}}\\right) - \\Phi\\left(\\frac{z^{j} - \\mu(1-\\rho) - \\rho\\mu}{\\sigma_{\\varepsilon}}\\right) \\right] d\\varepsilon $$\n",
    "\n",
    "To find each $\\pi_{i,j}$, we ned to evaluate this integral.  We'll do so numerically."
   ]
  },
  {
   "cell_type": "code",
<<<<<<< HEAD
<<<<<<< HEAD
   "execution_count": 5,
=======
   "execution_count": null,
>>>>>>> upstream/master
=======
   "execution_count": 6,
>>>>>>> upstream/master
   "metadata": {
    "collapsed": true
   },
   "outputs": [],
   "source": [
    "# import packages\n",
    "import scipy.integrate as integrate\n",
    "\n",
    "# define function that we will integrate\n",
    "def integrand(x, sigma_z, sigma_eps, rho, mu, z_j, z_jp1):\n",
    "    val = (np.exp((-1 * ((x - mu) ** 2)) / (2 * (sigma_z ** 2)))\n",
    "            * (norm.cdf((z_jp1 - (mu * (1 - rho)) - (rho * x)) / sigma_eps)\n",
    "               - norm.cdf((z_j - (mu * (1 - rho)) - (rho * x)) / sigma_eps)))\n",
    "    \n",
    "    return val\n",
    "\n",
    "# compute transition probabilities\n",
    "pi = np.empty((N, N))\n",
    "for i in range(N):\n",
    "    for j in range(N):\n",
    "        results = integrate.quad(integrand, z_cutoffs[i], z_cutoffs[i + 1],\n",
    "                                 args = (sigma_z, sigma_eps, rho, mu,\n",
    "                                         z_cutoffs[j], z_cutoffs[j + 1]))\n",
    "        pi[i,j] = (N / np.sqrt(2 * np.pi * sigma_z ** 2)) * results[0]\n",
    "        \n",
    "# print('Transition matrix = ', pi)\n",
    "# print('pi sums = ', pi.sum(axis=0), pi.sum(axis=1))"
   ]
  },
  {
   "cell_type": "markdown",
   "metadata": {},
   "source": [
    "We've now found \n",
    "\n",
    "$$ \\pi_{i,j} = P(z_{t}=z_{p}^{j}|z_{t-1}=z_{p}^{i}) $$\n",
    "\n",
    "Let's see how well this Markov process approximates the AR(1) above..."
   ]
  },
  {
   "cell_type": "code",
<<<<<<< HEAD
<<<<<<< HEAD
   "execution_count": 14,
   "metadata": {},
   "outputs": [
    {
     "name": "stdout",
     "output_type": "stream",
     "text": [
      "[ 0.          0.          0.17730102 ..., -0.17730102 -0.17730102\n",
      " -0.4666032 ]\n"
     ]
    },
    {
     "data": {
      "text/plain": [
       "<matplotlib.axes._subplots.AxesSubplot at 0x1248026a0>"
      ]
     },
     "execution_count": 14,
     "metadata": {},
     "output_type": "execute_result"
    },
    {
     "data": {
      "image/png": "iVBORw0KGgoAAAANSUhEUgAAAW8AAAD3CAYAAADSftWOAAAABHNCSVQICAgIfAhkiAAAAAlwSFlz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\nSpDhLUkJMrwlKUGGtyQlyPCWpAT9P5zJqXVmyky5AAAAAElFTkSuQmCC\n",
      "text/plain": [
       "<matplotlib.figure.Figure at 0x11133ec50>"
      ]
     },
     "metadata": {},
     "output_type": "display_data"
    }
   ],
=======
   "execution_count": null,
   "metadata": {
    "collapsed": false
   },
   "outputs": [],
>>>>>>> upstream/master
=======
   "execution_count": 7,
   "metadata": {
    "collapsed": false
   },
   "outputs": [
    {
     "data": {
      "text/plain": [
       "<matplotlib.axes._subplots.AxesSubplot at 0x11670b0b8>"
      ]
     },
     "execution_count": 7,
     "metadata": {},
     "output_type": "execute_result"
    },
    {
     "data": {
      "image/png": "iVBORw0KGgoAAAANSUhEUgAAAW8AAAD3CAYAAADSftWOAAAABHNCSVQICAgIfAhkiAAAAAlwSFlz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\n",
      "text/plain": [
       "<matplotlib.figure.Figure at 0x10886be10>"
      ]
     },
     "metadata": {},
     "output_type": "display_data"
    }
   ],
>>>>>>> upstream/master
   "source": [
    "# Simulate the Markov process - will make this a function so can call later\n",
    "def sim_markov(z_grid, pi, num_draws):\n",
    "    # draw some random numbers on [0, 1]\n",
    "    u = np.random.uniform(size=num_draws)\n",
    "\n",
    "    # Do simulations\n",
    "    z_discrete = np.empty(num_draws)  # this will be a vector of values \n",
    "    # we land on in the discretized grid for z\n",
    "    N = z_grid.shape[0]\n",
    "    oldind = int(np.ceil((N - 1) / 2)) # set initial value to median of grid\n",
    "    z_discrete[0] = z_grid[oldind]  \n",
    "    for i in range(1, num_draws):\n",
    "        sum_p = 0\n",
    "        ind = 0\n",
    "        while sum_p < u[i]:\n",
    "            sum_p = sum_p + pi[ind, oldind]\n",
    "#             print('inds =  ', ind, oldind)\n",
    "            ind += 1\n",
    "        if ind > 0:\n",
    "            ind -= 1\n",
    "        z_discrete[i] = z_grid[ind]\n",
    "        oldind = ind\n",
    "                            \n",
    "    return z_discrete\n",
    "\n",
    "\n",
    "# Call simulation function to get simulated values\n",
    "z_discrete = sim_markov(z_grid, np.transpose(pi), num_draws)\n",
    "print(z_discrete)\n",
    "                            \n",
    "# Plot AR(1) and Markov approximation\n",
    "sns.distplot(z_discrete, hist=True, kde=False, norm_hist=True)\n",
    "sns.kdeplot(np.array(z), bw=0.5)"
   ]
  },
  {
   "cell_type": "markdown",
   "metadata": {},
   "source": [
    " ## 2.  Comparing methods\n",
    "    \n",
    "Working through the Adda-Cooper method was illustrative of how these approximations work.  Now let's compare across a few methods.  "
   ]
  },
  {
   "cell_type": "code",
<<<<<<< HEAD
<<<<<<< HEAD
   "execution_count": 7,
   "metadata": {},
   "outputs": [
    {
     "data": {
      "text/plain": [
       "<matplotlib.axes._subplots.AxesSubplot at 0x11f7cd7b8>"
      ]
     },
     "execution_count": 7,
     "metadata": {},
     "output_type": "execute_result"
    },
    {
     "data": {
      "image/png": "iVBORw0KGgoAAAANSUhEUgAAAWkAAAD3CAYAAADfYKXJAAAABHNCSVQICAgIfAhkiAAAAAlwSFlz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\nGdKSlDBDWpISZkhLUsIMaUlK2P8HuzpsjgE8dnYAAAAASUVORK5CYII=\n",
      "text/plain": [
       "<matplotlib.figure.Figure at 0x11f11ba20>"
      ]
     },
     "metadata": {},
     "output_type": "display_data"
    }
   ],
=======
   "execution_count": null,
   "metadata": {
    "collapsed": false
   },
   "outputs": [],
>>>>>>> upstream/master
=======
   "execution_count": 8,
   "metadata": {
    "collapsed": false
   },
   "outputs": [
    {
     "data": {
      "text/plain": [
       "<matplotlib.axes._subplots.AxesSubplot at 0x11664d208>"
      ]
     },
     "execution_count": 8,
     "metadata": {},
     "output_type": "execute_result"
    },
    {
     "data": {
      "image/png": "iVBORw0KGgoAAAANSUhEUgAAAWkAAAD3CAYAAADfYKXJAAAABHNCSVQICAgIfAhkiAAAAAlwSFlz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\n",
      "text/plain": [
       "<matplotlib.figure.Figure at 0x10886bf98>"
      ]
     },
     "metadata": {},
     "output_type": "display_data"
    }
   ],
>>>>>>> upstream/master
   "source": [
    "# import module with Markov approximation methods\n",
    "import sys\n",
    "sys.path.append('../Code')\n",
    "import ar1_approx as ar1\n",
    "\n",
    "# Use Rouwenhorst (1995) method\n",
    "N = 11\n",
    "num_sigma = 4\n",
    "step = (num_sigma * sigma_z) / (N / 2)\n",
    "pi_R, z_grid_R = ar1.rouwen(rho, mu, step, N)\n",
    "z_discrete_R = sim_markov(z_grid_R, pi_R, num_draws)\n",
    "\n",
    "# Plot AR(1) and Markov approximation\n",
    "sns.distplot(z_discrete_R, hist=True, kde=False, norm_hist=True)\n",
    "sns.kdeplot(np.array(z), bw=0.5)"
   ]
  },
  {
   "cell_type": "code",
<<<<<<< HEAD
<<<<<<< HEAD
   "execution_count": 8,
   "metadata": {},
   "outputs": [
    {
     "data": {
      "text/plain": [
       "<matplotlib.axes._subplots.AxesSubplot at 0x11faa3668>"
      ]
     },
     "execution_count": 8,
     "metadata": {},
     "output_type": "execute_result"
    },
    {
     "data": {
      "image/png": "iVBORw0KGgoAAAANSUhEUgAAAWkAAAD3CAYAAADfYKXJAAAABHNCSVQICAgIfAhkiAAAAAlwSFlz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\n7P8D3B7GOZKJDToAAAAASUVORK5CYII=\n",
      "text/plain": [
       "<matplotlib.figure.Figure at 0x11f7bdc18>"
      ]
     },
     "metadata": {},
     "output_type": "display_data"
    }
   ],
=======
   "execution_count": null,
   "metadata": {
    "collapsed": false
   },
   "outputs": [],
>>>>>>> upstream/master
=======
   "execution_count": 9,
   "metadata": {
    "collapsed": false
   },
   "outputs": [
    {
     "data": {
      "text/plain": [
       "<matplotlib.axes._subplots.AxesSubplot at 0x108885748>"
      ]
     },
     "execution_count": 9,
     "metadata": {},
     "output_type": "execute_result"
    },
    {
     "data": {
      "image/png": "iVBORw0KGgoAAAANSUhEUgAAAWkAAAD3CAYAAADfYKXJAAAABHNCSVQICAgIfAhkiAAAAAlwSFlz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\nSUqYIS1JCfv/xOa9iMWNNGAAAAAASUVORK5CYII=\n",
      "text/plain": [
       "<matplotlib.figure.Figure at 0x11661f908>"
      ]
     },
     "metadata": {},
     "output_type": "display_data"
    }
   ],
>>>>>>> upstream/master
   "source": [
    "# Use Tauchen and Hussey (1991) method\n",
    "wgt = 0.5 + rho / 4\n",
    "baseSigma = wgt * sigma_eps + (1 - wgt) * sigma_z \n",
    "N_TH = 8\n",
    "z_grid_TH, pi_TH = ar1.tauchenhussey(N_TH, mu, rho, sigma_eps, baseSigma)\n",
    "z_discrete_TH = sim_markov(z_grid_TH[0], np.transpose(pi_TH), num_draws)\n",
    "\n",
    "# Plot AR(1) and Markov approximation\n",
    "sns.distplot(z_discrete_TH, hist=True, kde=False, norm_hist=True)\n",
    "sns.kdeplot(np.array(z), bw=0.5)"
   ]
  },
  {
   "cell_type": "markdown",
   "metadata": {},
   "source": [
    "One caution here, if `N>8`, the results get a bit weird with represted values for in the $z$ grid and an asymetric distribution when simulated.  I'm not sure why grid points are repeated in thh $z$ grid, but I will look into this."
   ]
  },
  {
   "cell_type": "code",
<<<<<<< HEAD
<<<<<<< HEAD
   "execution_count": 9,
   "metadata": {},
   "outputs": [
    {
     "data": {
      "text/plain": [
       "<matplotlib.axes._subplots.AxesSubplot at 0x11ff9cc18>"
      ]
     },
     "execution_count": 9,
     "metadata": {},
     "output_type": "execute_result"
    },
    {
     "data": {
      "image/png": "iVBORw0KGgoAAAANSUhEUgAAAXIAAAD6CAYAAAC8sMwIAAAABHNCSVQICAgIfAhkiAAAAAlwSFlz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\nYII=\n",
      "text/plain": [
       "<matplotlib.figure.Figure at 0x11ff9c2e8>"
      ]
     },
     "metadata": {},
     "output_type": "display_data"
    }
   ],
=======
   "execution_count": null,
   "metadata": {
    "collapsed": false
   },
   "outputs": [],
>>>>>>> upstream/master
=======
   "execution_count": 10,
   "metadata": {
    "collapsed": false
   },
   "outputs": [
    {
     "data": {
      "text/plain": [
       "<matplotlib.axes._subplots.AxesSubplot at 0x11703bcc0>"
      ]
     },
     "execution_count": 10,
     "metadata": {},
     "output_type": "execute_result"
    },
    {
     "data": {
      "image/png": "iVBORw0KGgoAAAANSUhEUgAAAXIAAAD4CAYAAADxeG0DAAAABHNCSVQICAgIfAhkiAAAAAlwSFlz\nAAALEgAACxIB0t1+/AAAHMNJREFUeJzt3XuUlNWZ7/FvdfWN7q5uuqW4y03xAQwg4v2CBKOj8YrR\nJGM0mWQcY3JmJtF1TjK6Yv44a7Jcs1ZmdNZMshJNmDEkRhOVHBBHE1FEREWJqCg8iohoc7GBpqlq\n6HudP7olRdtdb0l3UfU2v08WoWrv3bueLcWvXnbVW28klUohIiLhVZTvAkREZGAU5CIiIacgFxEJ\nOQW5iEjIKchFREJOQS4iEnLF2Qwys5HAOuAid9+U1n4F8EOgA1jk7vcFzdXQkMj4ecfa2goaGw9k\nU1bB01oKk9ZSmLSWzOLxWKS/vsAjcjMrAX4OHOyj/W7gYuAC4GYzGzWwUqG4ODrQKQqG1lKYtJbC\npLUcuWy2Vn4M/AzY3qt9OrDZ3RvdvQ1YDcwb5PpERCRAxq0VM/sboMHdnzSz23t1VwNNafcTQE3Q\nA9bWVgS+WsXjsaBpQkNrKUxaS2HSWo5M0B75N4CUmX0OOAX4lZld6e47gf1AeqUxYF/QAwbtG8Xj\nMRoaEkHThILWUpi0lsKktQTP2Z+MQe7uh7ZKzGwlcEtPiANsBKaaWR2QpHtb5ccDLVZERD6drD61\nks7Mrgeq3P1eM7sNeJLuvfZF7l4/2AWKiEhmWQe5u8/vubkprW0ZsGyQaxIRkU9BJwSJiIScglxE\nJOQU5CIiIacgF0mzcn09K9frPXsJFwW5iEjIKcil4OX6KDlo7v76dfQuhUJBLnIUKPQllxTkMqT0\nDkyFpxwLFOSSF/k6QlWwy1CkIBcRCTkFuYhIyCnIJdS0VSKiIBcRCT0FuYhIyCnIRURCTkEuIhJy\nCnIRkZBTkIuIhJyCXEQk5AKv2WlmUeA+wIAUcIu7b0jrvxW4CWjoafqmu3sOahURkT5kc/HlKwDc\n/Vwzmw/8CLgqrX8u8FV3Xzf45YmISJDArRV3/wNwc8/dicC+XkPmAreb2Wozu32Q6xMRkQDZHJHj\n7h1mdj+wELi2V/eDwE+A/cASM7vc3R/rb67a2gqKi6MZHy8ej2VTVihoLX2LVZVnPWemsbGq8sPa\ne48N6u89Jqg/F2sYKD3HCtPRXEtWQQ7g7l8zs+8DL5nZDHdvNrMIcI+7NwGY2XJgDtBvkDc2Hsj4\nOPF4jIaGRLZlFTStpX+JZAtAVnNmGptIthzW3ntsUH/vMUH9uVjDQOg5VphysZZMLwzZvNl5IzDe\n3e8CDgBdPb8AqoENZjYdaAYWAIsGWrCIiGQvm48fPgrMMbNVwJPAd4GFZnZzz5H4HcAzwHPAm+7+\neM6qFRGRTwg8Inf3ZuCLGfoXA4sHsygREcmeTggSEQk5BbmISMgpyEVEQk5BLiIScgpyEZGQU5CL\niIScglxEJOQU5CIiIacgFxEJOQW5iEjIKchFREJOQS4iEnIKchGRkFOQi4iEnIJcRCTkFOQiIiGn\nIBcRCTkFuYhIyCnIRURCLvCanWYWBe4DDEgBt7j7hrT+K4AfAh3AIne/L0e1iohIH7I5Ir8CwN3P\nBX4A/OjjDjMrAe4GLgYuAG42s1E5qFNERPoRGOTu/gfg5p67E4F9ad3Tgc3u3ujubcBqYN6gVyki\nIv0K3FoBcPcOM7sfWAhcm9ZVDTSl3U8ANZnmqq2toLg4mvHx4vFYNmWFgtbSt1hVedZzZhobqyo/\nrL332KD+3mOC+nOxhoHSc6wwHc21ZBXkAO7+NTP7PvCSmc1w92ZgP5BebYzDj9g/obHxQMbHicdj\nNDQksi2roGkt/UskWwCymjPT2ESy5bD23mOD+nuPCerPxRoGQs+xwpSLtWR6Ycjmzc4bgfHufhdw\nAOjq+QWwEZhqZnVAku5tlR8PtGAREcleNm92PgrMMbNVwJPAd4GFZnazu7cDt/W0v0D3p1bqc1at\niIh8QuARec8Wyhcz9C8Dlg1mUSIikj2dECQiEnIKchGRkFOQi4iEnIJcRCTkFOQiIiGnIBcRCTkF\nuYhIyCnIRURCTkEuIhJyCnIRkZBTkIuIhJyCXEQk5BTkIiIhpyAXEQk5BbmISMgpyEVEQk5BLiIS\ncgpyEZGQU5CLiIRcxmt2mlkJsAiYBJQB/+zuS9P6bwVuAhp6mr7p7p6bUkVEpC9BF1++Adjj7jea\nWR2wHlia1j8X+Kq7r8tVgSIikllQkP8eeLjndgTo6NU/F7jdzEYDy939rkGuT0REAmQMcndPAphZ\njO5A/0GvIQ8CPwH2A0vM7HJ3fyzTnLW1FRQXRzMWFY/HAsoOD62lb7Gq8qznzDQ2VlV+WHvvsUH9\nvccE9ediDQOl51hhOpprCToix8yOB5YAP3X3B9LaI8A97t7Uc385MAfIGOSNjQcyPl48HqOhIRFc\neQhoLf1LJFsAspoz09hEsuWw9t5jg/p7jwnqz8UaBkLPscKUi7VkemEIerNzFPBH4O/dfUWv7mpg\ng5lNB5qBBXS/MSoiIkdR0BH5HUAtcKeZ3dnTdh9Q6e73mtkdwDNAK7DC3R/PXakiItKXoD3y7wDf\nydC/GFg82EWJiEj2dEKQiEjIKchFREJOQS4iEnIKchGRkFOQi4iEnIJcRCTkFOQiIiGnIBcRCTkF\nuYhIyCnIRURCTkEuIhJyCnIRkZBTkIuIhJyCXEQk5BTkIiIhpyAXEQk5BbmISMgpyEVEQk5BLiIS\nchmv2WlmJcAiYBJQBvyzuy9N678C+CHQASxy9/tyV6qIiPQl6Ij8BmCPu58PXAL858cdPSF/N3Ax\ncAFws5mNylWhIiLSt4xH5MDvgYd7bkfoPvL+2HRgs7s3ApjZamBez8/0q7a2guLiaMYHjcdjAWWF\nh9bSt1hVedZzZhobqyo/rL332KD+3mOC+nOxhoHSc6wwHc21ZAxyd08CmFmM7kD/QVp3NdCUdj8B\n1AQ9YGPjgYz98XiMhoZE0DShoLX0L5FsAchqzkxjE8mWw9p7jw3q7z0mqD8XaxgIPccKUy7WkumF\nIfDNTjM7HngGWOzuD6R17QfSZ44B+46wRhEROUJBb3aOAv4I/L27r+jVvRGYamZ1QJLubZUf56RK\nERHpV9Ae+R1ALXCnmd3Z03YfUOnu95rZbcCTdB/ZL3L3+tyVKiIifQnaI/8O8J0M/cuAZYNdlIiI\nZE8nBImIhJyCXEQk5BTkIiIhpyAXEQk5BbmISMgpyEVEQk5BLiIScgpyEZGQU5CLiIScglxEJOQU\n5CIiIacgFxEJOQW5iEjIKchFREJOQS4iEnIKchGRkFOQi4iEnIJcRCTkgq7ZCYCZnQn8i7vP79V+\nK3AT0NDT9E1390GtUEREMgoMcjP7HnAj0NxH91zgq+6+brALExGR7GSztfIucE0/fXOB281stZnd\nPnhliYhItgKPyN39ETOb1E/3g8BPgP3AEjO73N0fyzRfbW0FxcXRjI8Zj8eCygoNraVvsaryrOfM\nNDZWVX5Ye++xQf29xwT152INA6XnWGE6mmvJao+8L2YWAe5x96ae+8uBOUDGIG9sPJBx3ng8RkND\n4kjLKihaS/8SyRaArObMNDaRbDmsvffYoP7eY4L6c7GGgdBzrDDlYi2ZXhiOOMiBamCDmU2ne/98\nAbBoAPOJiMgR+NRBbmbXA1Xufq+Z3QE8A7QCK9z98cEuUEREMssqyN19K3BWz+0H0toXA4tzUpmI\niGRFJwSJiIScglxEJOQU5CIiIacgFxEJOQW5iEjIKchFREJOQS4iEnIKchGRkFOQi4iEnIJcRCTk\nFOQiIiGnIBcRCTkFuYhIyCnIRURCTkEuIhJyCnIRkZBTkIuIhJyCXEQk5BTkIiIhl1WQm9mZZray\nj/YrzOxlM3vBzP5u0KsTEZFAgUFuZt8DfgGU92ovAe4GLgYuAG42s1G5KFJERPqXzRH5u8A1fbRP\nBza7e6O7twGrgXmDWZyIiAQrDhrg7o+Y2aQ+uqqBprT7CaAmaL7a2gqKi6MZx8TjsaBpQkNr6Vus\nqjzrOTONjVWVH9bee2xQf+8xQf25WMNA6TlWmI7mWgKDPIP9QHqlMWBf0A81Nh7I2B+Px2hoSAyg\nrMKhtfQvkWwByGrOTGMTyZbD2nuPDervPSaoPxdrGAg9xwpTLtaS6YVhIEG+EZhqZnVAku5tlR8P\nYD4RETkCnzrIzex6oMrd7zWz24An6d5rX+Tu9YNdoIiIZJZVkLv7VuCsntsPpLUvA5blpDIREcmK\nTggSEQk5BbmISMgpyEVEQk5BLiIScgpyEZGQU5CLiIScglxEJOQU5CIiIacgFxEJOQW5iEjIKchF\nREJOQS4iEnID+RpbkYLW0dXBvo4G1jc0sq+lieb2ZrYc2Efraxvpao1QWVJBTVk1ic4UnV2jiRZl\nvuCJSKFSkMuQ0d7Zzq7299nZvo2XXt5FfXInnalOeOPwcZs2ffJnn3o2ysTqCZS2xhldMpGu1BiK\nIvoHq4SDglxCLZVK8XbjZtbufJVXP3qDls7uK/EUtxUzvmos0bYaTjl+EsPLaoiVVvL65kYuPGMS\nO3c30txxgL0tjbz2wVY6S5vY0rSVFO+xsWUt655/gjkjZ3LOmDPyvEKRYApyCaXWzjZe2rGOJ5ue\nJfHqXgCGl9VwfPF0RpdO5JpTT6c0WsLK9fXMnzDu0M9tL6nnpBFTqE395TJcpY31zD9lHAc7DrLk\nz6+wvX0LH3W9x7MfruHZD9dQFx1F1c4FzBk5S9svUpAU5BIqLR2trKpfw4ptq0i2NxOhiNNHzeHc\nsWdwwvDJrHptBwCl0ZJPPfew4mGMLZ3C2NIpnD9rNG/tdVbXv8SGPZv4r7d+y9ItT3LRxPmcM+Z0\nBboUFAW5hEJXqpOVHz7P/7z3FMn2ZoYVl3PJpAsp2TeZS04+adAfL1oUZeaIGcwcMYPH1r1Fc5Xz\nwo6XedAf5ZkPVrPwxM+TSlUTiUQG/bFFPi0FuRS8HW1bWX/gWZKN+yiPlnHZ5IuYP/48KkqGsXJ9\n7i8TWxWt4XJbyCWTLmT5e39izfa1/Oz1/yZePJ7ZFecB4wLnEMmlwCA3syLgp8BsoBW4yd03p/Xf\nCtwENPQ0fdPdPQe1yjFmX2sTD7+9lFeTbxAhwrxx5/D5yZ8jVlqVl3pqyqq5ftoXmD/+XP7fu4+z\nYc8mntr/IM0b32XhiZdRWVKRl7pEsjkivxood/ezzews4F+Bq9L65wJfdfd1uShQjj2dXZ2sqn+B\nZVueoLWzjeOKxzC3YgFX2ex8lwbA2KrRfGv2N3jo5Rd47cBzvLDjZTbs3sh1J13JqSNna7tFjrps\ngvw84AkAd3/RzE7r1T8XuN3MRgPL3f2uQa5RjiH1yR0s3vg7PkjUU1E8jOunfYG2XeMKMhxHlUzg\nc9VfpqPuXR5/708sevMB1u78M1+yhdSV1+a7PDmGZBPk1UBT2v1OMyt2946e+w8CPwH2A0vM7HJ3\nf6y/yWprKyguzvyOfzwey6KscNBa+harKj9szq6uLpb6n3howzI6uzqZN+lMvjr7C1SXx3jiha39\nPn6sqvyw9t7zBvX3HhPU39caLjntSi60s7j3lQfY8NEmNq/9N26YfQ0XnXD+oRegvuYdLHqOFaaj\nuZZsgnw/kF5R0cchbmYR4B53b+q5vxyYA/Qb5I2NBzI+WDweo6EhkXFMWGgt/Usku0/caWhI0HBg\nD7/a+BBbmrZSXRrjK9Ou5TMjptOagIZE4rCxfc2T3t57bFB/7zFB/f2tIcowbjn5G7xY9wqPbH6M\nX6z7Lc+/t46vTLuW2vLhGdcwEHqOFaZcrCXTC0M2Qf48cAXwu5498vQTnquBDWY2HWgGFgCLjrxU\nOZakUimeq3+RRzc/RltnG3NGzuLLtpCqksp8l3ZEIpEIZ489nenHncRvNj3MW3ucH639N66behWp\n1KiC3B6SoSGbIF8CXGRma4AI8HUzux6ocvd7zewO4Bm6P9Gywt0fz125MlQc7ErySvNT7Gx8n2HF\nw/j6jL9m7qhThkTYDS+r4duzvsGaHWt55J1l/GrjQ4wtmcLcygX5Lk2GqMAgd/cu4JZezZvS+hcD\niwe5LhnC1u1az5NNj9CeamV63UncMP06hpfV5LusQRWJRDh37JlMq53K4o2/4519W9jdtJ2RH13L\nqSNn5bs8GWL09W5y1DS3H2DRht+w6M0H6Ep1cmrFZ/lfs/92yIV4uuOG1fGPc27mlIoL6Ex18MsN\nv2bRht+QbG/Od2kyhOjMTjkq3tzj/Gbj72hqSzC5eiLTIvOpig4fElspQYoiRUwtP4XRJRPx1ErW\nffQa7+zbwvXTvsDMETPyXZ4MAToil5xq6Wjlt/4oP33tlyTbD3DVlEu5be63qIoOz3dpR10sWstt\nc7/NVSdcyoH2A/zs9f9m8cbfcbDjYL5Lk5DTEbnkzKa97/DApofZ09LI2MrRfG3GlxkfG5vvsvKq\nKFLExRM/y2eOm86v3nqQF3e8gu/dzA3Tr2Na3dR8lychpSCXQdfS0cKSzctZvf0liiJFXDJxAZdM\n/hwlRXq6fWxs1Wj+z2n/wBNbV/DE+0/zH+vvY964s7n6xMsoi5bmuzwJGf3NkkG1ae87/Hrj72ls\n3cfYytHcOP2LTKgen++yClK0KMplUy5m5ogZ3L/xIVbVv8Bbe9/mxulf5MThk/NdnoSIglwGRVNr\ngkc3L+OVXeu7j8InXdj9feE6Cg80oXo8/3TaP7L8vT/x1LZnuefPP2PB8edz2ZSLdXQuWdHfMhmQ\nrlQXz9W/yLItT3Cwo4UJsfH89bRrmBDTUfinURIt4eoTP8/METNYvPEhVnywij9/9DrXTL2cOfGZ\nx8Sne+TIKcjliL2//wMe9CVsS3zIsOJyvnTS1Zw37ixdfX4AThg+idvPuJUntq5gxbZV/HLDr5lW\nO5XrTrqS0ZWj8l2eFCgFuXxquw/uYem7T7Duo9cAOH3UqSw88TJqyobON9flU1m0lKtOuJSzxpzG\nw28v5a29zo/W3s388efyV5MWhPa7aCR3FOSStURbkie2ruC5+hfpTHUyITaea068jKm1J+S7tCFp\nVEWcb8/+Bq/vfotH3lnK0x88x5rtL3PhhPNZcPz5lBeX57tEKRAKcgmUaEvy9BsrWe5P09LZwojy\nOq484RLmjJylbZQci0QizI6fzIy6k3iu/gWefP8Zlr/3J579cA0XT/ws19RelO8SpQAoyKVfew42\nsuKDVazZvpb2rnaqSiq5dsqVnD/uLIr1aZSjqiRawoIJ8zhn7Bk888Fqntq2ikc3P8aKD1dx/piz\nOG/cWXm7lqnkn/42ymFSqRRb92/j2Q9fYN1H6+lKdVFbNpyrZ1zMzOpZ+jhcnpUXl3Pp5M9x/viz\nWbFtFau3v8hj7/2RJ99/mjNGn8pnjz+fMXpT9JijIBege/tk7c4/s2bHy+xs3gXAmMpRXDRhPqeN\nOoXRo4YPmau3DAVVJZVcdcKlfGXulTz2xkqe+eA5nt++lue3r2Xq8CmcOXoup4ycyTDtox8TFOTH\nsIMdB3lz9yZebXiDN3ZvpDPVSXEkyqkjZ3HOmDOwuhO1B17ghpWUM//4c5k3/mxe3/0WKz9YzTv7\ntvDOvi089PYfmB0/mTNGn4rVnqjtsCFMf7LHmMaWfbyxeyOv736TtxvfpTPVCcDYytGcM/YMTh89\nRx9vC6GiSBGnxD/DKfHPsPvgXl7e+Sprd67jlV3reWXXesqjZUyrm8rJx03j5OOmUVNWne+SZRAp\nyIewVCrF7oN72bxvC5v3vcc7+7awp2Xvof4JsXHMGvEZZsVnMLZytM4eHCJGDKvj0skXcsmkBWzd\nv411u17jjT0bWd+wgfUNGwAYXzWWE4ZPYkr1RCbXTKKu/Nj4bvihSkE+RLR3tvPRwd18mNhOfXIH\n9ckdfJjcftiVaCqKhzFzxAym1U5lVnwGdeW1eaxYci0SiTC5ZiKTayZyLVey60ADb+7eyJt7nM37\ntvBhcjvPsgaAmtJqJlYfz9iq0YypHMXYytGMrBih7ZiQCPxTMrMi4KfAbLovsHyTu29O678C+CHQ\nASxy9/tyVOsxq72rg0RbgkRbkv09vze1JtjdsofdB/ew++Bemlr3kyJ12M+NKK9jau0JnDh8MlOH\nT2FM5SjteR/DRlXEGTUhzoIJ82jv6uCDRD1bmrbyXtM2tjRt5fXdb/L67jcPjS+KFHFceS3HlddR\nV17LccNqqSuvpbo0RlVJJVWllVSVVCrsC0A2fwJXA+XufraZnQX8K3AVgJmVAHcDpwPNwPNmttTd\nd+Wi2IMdLXR0dRy6/3FwpVLd99LbuttTGcal/X8q/efSZkilPjH64zn7e6wuuujs6qIz1cnOrlL2\nNCbo6OqkM9VJR1cHnakuOrs66Eh10tnVSXtXOy0drbR2ttLS2UpLR/fvrR2tHOw8SKItycGOln7/\nm0SIMLyshqnDpxCvOI5xVWMZVzWGcVVj9IkF6VdJUTFTaiYypWYi0P383d+WZEfzTnY072J7cic7\nmnfScHAPmxrfyThXebScqtJKYiWVDCseRlm0lNJoKWXRMsoO/V5CSbSUaCRKcVGUaKSIaFExxZEo\n0UiUaFGUvZEYif2tRCIRDv0vkv47h25DhKLIoZae2xwaD5m3iTLtIkUCfjZIhAhlrRGSbYdfl7Uo\nEqGipGJAc/cnmyA/D3gCwN1fNLPT0vqmA5vdvRHAzFYD84DfD3ahb+x+i5+/fv8njjqHquKiYoZF\ny6ktG86EWBWx0iqqS2PESquIlcaoLo0xoryWumF1+qpYGbBIJEJNWYyastgnrlTU2tlGY0sje1oa\n2dvSSKItSbK9mWRbM4n2ZpJtSZrbm3m/pZGuVFeeVhAOl0/+Ky6dfOGgzxtJP8Lsi5n9AnjE3f+n\n5/42YIq7d5jZecA/uPuXevr+L7DN3X8x6JWKiEifstkw3Q+kf61dkbt39NMXA/YNUm0iIpKFbIL8\neeDzAD175G+k9W0EpppZnZmV0r2t8sKgVykiIv3KZmvl40+tzKL7HYSvA6cCVe5+b9qnVoro/tTK\nT3JbsoiIpAsMchERKWz6ULGISMgpyEVEQq7gPoBsZpXAA0At0AZ8zd3r81vVkTGzGuDXQDVQCtzm\n7qF+M9jMFgLXufv1+a7l0wo6SzlszOxM4F/cfX6+axmInhMLFwGTgDLgn919aV6LOkJmFgXuA4zu\ncwhvcfcNuX7cQjwi/ztgnbvPozsEv5fnegbiNmCFu18A/A0Q6jeCzezfgbsozOdNNg6dpQz8E91n\nKYeSmX0P+AUwFE7fvQHY4+7nA5cA/5nnegbiCgB3Pxf4AfCjo/GgBfcX0t3v4S+Ln0C4P5d+N/Dz\nntvFQP/n2ofDGuBb+S5iAA47Sxk4LfPwgvYucE2+ixgkvwfu7Lkdoft7m0LJ3f8A3NxzdyJHKb/y\nurViZn8L3Nqr+evu/rKZPQ3MBEJxddmAtYym+18X3z36lX16GdbykJnNz0NJg6UaaEq732lmxWkn\nuIWGuz9iZpPyXcdgcPckgJnFgIfpPpINrZ6z3u8HFgLXHo3HzGuQu/svgV/207fAzKYBy4ETjmph\nR6C/tZjZTOBB4H+7+7NHvbAjkOnPJeQynaUseWRmxwNLgJ+6+wP5rmeg3P1rZvZ94CUzm+HuzYE/\nNAAFt7ViZreb2Y09d5NAZz7rGQgzm0H3Pxuv//i7aiSvMp2lLHliZqOAPwLfd/dF+a5nIMzsRjO7\nvefuAaCr51dOFdynVuh+9/r+nn/eR+k+kzSs7qL7zah/NzOAJne/Kr8lHdOWABeZ2Rr+cpay5N8d\ndH9K7U4z+3iv/FJ3P5jHmo7Uo8B/mdkqoAT47tFYh87sFBEJuYLbWhERkU9HQS4iEnIKchGRkFOQ\ni4iEnIJcRCTkFOQiIiGnIBcRCTkFuYhIyP1/eSt2HNtK1fgAAAAASUVORK5CYII=\n",
      "text/plain": [
       "<matplotlib.figure.Figure at 0x11703b390>"
      ]
     },
     "metadata": {},
     "output_type": "display_data"
    }
   ],
>>>>>>> upstream/master
   "source": [
    "# Use Adda and Cooper (2003) method\n",
    "z_grid_AC, pi_AC = ar1.addacooper(N, mu, rho, sigma_eps)\n",
    "z_discrete_AC = sim_markov(z_grid_AC, np.transpose(pi_AC), num_draws)\n",
    "\n",
    "# Plot AR(1) and Markov approximation\n",
    "sns.distplot(z_discrete_AC, hist=True, kde=False, norm_hist=True)\n",
    "sns.kdeplot(np.array(z), bw=0.5)"
   ]
  },
  {
   "cell_type": "markdown",
   "metadata": {},
   "source": [
    "Three 3 plots are highly illustrative of the approaches these different methods take.  Rouwenhorst (1995) chooses and evenly spaced grid over $z$ and then fits the transition matrix over these points to produced the normal distribution found in the stationary distribution of $z$. Adda and Cooper (2003) break the the real line up into intervals with equal probability density and we see this in the density that results from the Markov process.  Tauchen and Hussey (1991) is somewhat between the other two methods in this repsect.  The grid for $z$ is not evenly spaced, but the probability density of any particular grid point varies in the stationary distribution.\n",
    "\n",
    "Also notice how the range of values in the $z$ grid changes across methods.  The Rouwenhorst (1995) and Tauchen and Hussey (1991) methods allow you to set this range with `step` and `baseSigma`, respectively.\n",
    "\n",
    "You can play around with `N`, $\\rho$, $\\sigma_{\\varepsilon}$, and see how these approximations perform.  For a rigorous comparison of these approaches, please see Kopecky and Suen (2010).  They find that the Rouwenhorst (1995) method outperforms the others when $\\rho$ is close to one.  You might consider the peristence and variability in the shocks to your autoregressive process when choosing the most appropriate method for your problem."
   ]
  },
  {
   "cell_type": "code",
<<<<<<< HEAD
<<<<<<< HEAD
   "execution_count": 10,
   "metadata": {},
   "outputs": [
    {
     "data": {
      "text/plain": [
       "<matplotlib.axes._subplots.AxesSubplot at 0x12435a550>"
      ]
     },
     "execution_count": 10,
     "metadata": {},
     "output_type": "execute_result"
    },
    {
     "data": {
      "image/png": "iVBORw0KGgoAAAANSUhEUgAAAWkAAAD3CAYAAADfYKXJAAAABHNCSVQICAgIfAhkiAAAAAlwSFlz\nAAALEgAACxIB0t1+/AAAFPhJREFUeJzt3X9w1Pd95/HnrlZCSFpgwZIAIcAY8yHGDsS/8C8otuM6\nzlyaptf2j0w9aXLXTm7mZpp2btJLLvmvnc7NXOeuM73MdfLrcm097aX50aR3cXyJgx3bOHZssE0w\nH4wx5pcBISQkod/S3h8SMsYgLaDVfiSej5md3e/uZz/f92dWvPjsd78/MsViEUlSmrKVLkCSdGmG\ntCQlzJCWpIQZ0pKUMENakhKWm+4O29q6J91dpFCoo6Ojd7pXW1FzbUyOJ31zbUyOBxob85mLPT/j\nM+lcrmqmV1l2c21Mjid9c21MjufS3NwhSQkzpCUpYYa0JCXMkJakhBnSkpQwQ1qSEmZIS1LCDGlJ\nSpghLUkJm/bDwqXUPL7jIN09/QBs29RS2WKky+RMWpISZkhLUsIMaUlKmCEtSQkzpCUpYYa0JCXM\nkJakhBnSkpQwQ1qSEmZIS1LCDGlJSpghLUkJM6QlKWGGtCQlzJCWpIQZ0pKUMENakhJmSEtSwgxp\nSUqYIS1JCSvpQrQhhJeBrvHFt2KMny5fSZKkc6YM6RBCLZCJMW4rfzmSpPOVMpPeCNSFEJ4Yb//F\nGOPz5S1LkgSQKRaLkzYIIdwC3AV8DbgR+BEQYozDF2s/PDxSzOWqprtO6Yo9vuPgxOOP3L26UmVI\nU8lc7MlSZtL7gP0xxiKwL4TQDiwDDl+scUdH76SdNTbmaWvrLmG1s8dcG9NcGw9Ad08/wJwZ11z7\njBzP2HsuppS9Oz4D/CVACGE5sAB457LWLkm6IqXMpL8O/M8QwjNAEfjMpTZ1SJKm15QhHWMcBD45\nA7VIl2X7rqMAbNvUUuFKpPLxYBZJSpghLZ1n+66jEzN0KQWGtCQlzJCWpIQZ0pKUMENakhJmSEtS\nwgxpSUqYIS1JCTOkJSlhhrQkJcyQlqSEGdKSlDBDWpISZkhLUsIMaUlKmCEtSQkzpCUpYYa0JCXM\nkJakhBnSkpQwQ1qSEmZIS1LCDGlJSpghLUkJM6QlKWGGtCQlzJCWpIQZ0pKUsFwpjUIITcBLwEMx\nxr3lLUmSdM6UM+kQQjXwN0Bf+cuRJJ2vlM0d/wX4H8CxMtciSbrApJs7Qgi/D7TFGH8cQvhCKR0W\nCnXkclWTtmlszJdc4Gwx18Y0G8aTb6gFSqh1f3vJbUvuMwGzocbL4Xgubqpt0p8BiiGEDwObgP8V\nQviNGOPxS72ho6N30g4bG/O0tXVfdqEpm2tjmi3j6e7pByip1lLbXk6flTRbPqNSOZ5Lh/qkIR1j\n3HrucQhhO/DZyQJakjS93AVPkhJW0i54ADHGbWWsQ5J0Ec6kJSlhhrQkJcyQlqSEGdKSlDBDWpIS\nZkhLUsIMaUlKmCEtSQkzpCUpYYa0JCXMkJakhBnSkpQwQ1qSEmZIS1LCDGlJSpghLUkJM6QlKWGG\ntCQlzJCWpIQZ0pKUMENakhJmSEtSwgxpSUqYIS1JCTOkJSlhhrQkJcyQlqSEGdKSlDBDWpISlpuq\nQQihCvgqEIAi8NkY4+5yFyZJKm0m/TGAGOO9wJeAPy9rRZKkCVPOpGOM3w8h/Mv44iqgc7L2hUId\nuVzVpH02NuZLLnC2mGtjmg3jyTfUAiXUur+95LYl95mA2VDj5XA8FzdlSAPEGIdDCN8CPgH89mRt\nOzp6J+2rsTFPW1t3yQXOBnNtTJUez/ZdRwHYtqll0nbdPf0AJdVaattS25VaY7lU+jOabo7n0qFe\n8g+HMcZPAeuAr4YQ6i9r7ZKkKzJlSIcQHg0hfGF8sRcYHb9JksqslM0d3wW+GUJ4GqgGPhdj7Ctv\nWZIkKO2Hw7PA785ALZKkC3gwiyQlzJCWpIQZ0pKUMENakhJmSEtSwgxpSUqYIS1JCTOkJSlhhrQk\nJcyQlqSEGdKSlDBDWpISZkhLUsIMaUlKmCEtSQkzpCUpYYa0JCXMkJakhBnSkpQwQ1qSEmZIS1LC\nDGlJSpghLUkJM6QlKWGGtCQlzJCWpIQZ0pKUMENakhKWm+zFEEI18A1gNTAP+LMY4w9moC5JElPP\npH8PaI8xbgE+Avx1+UuSJJ0z6Uwa+DbwT+OPM8BwecuRJJ1v0pCOMfYAhBDyjIX1l6bqsFCoI5er\nmrRNY2P+MkqcHebamCo5nnxDbUk1lNqO/e3T3mfJ6y4j/+bSNl3jmWomTQihFfge8JUY42NTte/o\n6J309cbGPG1t3SUXOBvMtTFVejzdPf0AU9ZQarty9Hk56y6HSn9G083xXDrUp/rhsBl4Avj3Mcaf\nXtYaJUlXbaqZ9BeBAvDlEMKXx597JMbYV96yJEkw9TbpPwL+aIZqkSRdwINZJClhhrQkJcyQlqSE\nGdKSlDBDWpISZkhLUsIMaUlKmCEtSQkzpCUpYYa0JCXMkJakhBnSkpQwQ1qSEmZIS1LCDGlJSpgh\nLUkJM6QlKWGGtCQlzJCWpIQZ0pKUMENaKrPtu46yfdfRSpehWcqQ1owwqKQrY0hLUsIMaUlKmCEt\nSQkzpCUpYYa0JCXMkJakhBnSkpSwkkI6hLA5hLC9zLVIki6Qm6pBCOHzwKPA2fKXI0k635QhDbwJ\n/Bbwt6V0WCjUkctVTdqmsTFfSlezylwb03SPJ99QW3K/pbYtuc/97dPeZznGc7n8m0vbdI1nypCO\nMX4nhLC61A47Ononfb2xMU9bW3ep3c0Kc21M5RhPd08/QEn9ltq2kn2WY92Xw7+5tF3JeC4V6v5w\nKEkJM6QlKWGGtCQlrJQfDokxHgTuKm8pkqQLOZOWpIQZ0pKUMENakhJmSEtSwgxpSUpYSXt3SLNJ\nsVikf2SAs0O9DI8Oc3rwNL3Dg+QyOboHF1JfXUc24/xEs4MhrVlrpDhM53AbTx85xNGeY5zsa6e9\n7zSdA2cYKY5c9D3/9xnIZrLkqxtYMr9AU10jy+qbWZlvoTXfMsMjkKZmSGvWGC2Ocrj7KLFjP/H0\nft7oeIsRhuG8UyQsrMnTmm+hobqe+uo6ctkcp7uGGBgaYqQ4zKKFVXQPdnNmoIuDXYc5cObt96xj\nUVUTS6tX0tJxG9cvXEUu6z8RVZZ/gUrayOgIb3Qe4KUTu9jVtpve4b6J1xZULaEpt4K71gRWNCyj\nua6Rmqqa9/Xx0v72iZMcbbvl3dny8Ogwp/pOc+zscQ51HeFg1yH2dx6kc+Qke3f+knlVNawrrOW2\npo18sHED8y7St1RuhrSSUywWOT18nH+ML7Lz5Kt0D/UAsLBmAfcsu4WweC3rCjfw8p4uAO5edmWb\nKXLZHEvrm1ha38StTR8E4Cc73+Lk0BFyi9p5vX0fr53aw2un9lBTVcPG6zZwx9JbWV9YOz0DlUpg\nSCsZfcN9vHB8J090/ZyukXbohobqera23M1tzZtYs3DVBT/4dU17DblMDctr1rBt3RYAjp89yYsn\ndvLi8Z1j9yd2kq9pYEX2JtbU3jzt65cuZEir4g53H+XpIzv45YmdDI4OkSFLa806Pv6Brawr3EBV\ndvKLSJTT0vomPrbmYf7V9b/OW12HJsL69cEX2Nv/Ikde28DWlrsJhbVkMpmK1am5y5BWRRSLRfac\n3sdPDj3Fvo79ACypLXDf8rsYPd1CbbaeDyxJZ2+LTCbDmoWrWLNwFZ9Y+1H+/pfb2d//Kq+07eaV\ntt001zXx4Mot3Nl8K9VV1ZUuV3OIIa0ZNTw6zIsndvHkoac5dvY4AKGwlgdat3DTkkA2k2V759EK\nVzm5mqoarp+3gdU1N3H9DaM8deQ5XjrxCo/t/Q4/PPBjtq24jy0td1FfXVfpUjUHGNKaEYOjAxwY\neI0nnnuNM4NdZDNZ7mj+EA+u3Dpr90/OZDKsXrCS1Tet5OM3PML2w8/yzLHn+eGBx/nx209yz7I7\nuL91S6XL1CxnSOuqbN81NuvdtuniQdve18H2I8/wdOfzDDPEvKoaHmjdwv2t97G4tjCTpZbVonkL\n+c21H+Xh1Q/w3LEX+NnhZ9h+5FmeOvIcK2puZF3trcDs/M9IlWVIqywOdR/hp4ee5uWTrzJaHKU2\nU89NtZt59PaHqKueX+nyymZ+rpYHV25l24p7eenkK/zk0FMc7tnH4cF9HHr5BR5cuZUNS9Zf9LD0\nqf7D07XJkNa0GS2OsvvU6/zs8DPs63wTgOX1S/nwyl/j7PFGspmqOR3Q56vKVnHn0lu5o/lD/O9f\n7iD2vcwbnQd4o/MATXXX8UDrFjYvve2iB99I5zOkddWGioMTX+9P9bUDsL5wIw+u3MoHFq8jk8mw\n/UTaPwaWSyaTobl6Fc3Vq7hxbZYnD/2cF0/s5B/i9/jhmz9mS8tdbF1xDwvnLah0qUqUIa0rdqrv\nNLvOPs1bg79iuGOQXDbHPcvu5P7W+1jesLTS5SWnpWEZj970u/zGDR/h6aM7+PnRHTz+9pP8v0NP\ncXvzJvLD6yjkmipdphJjSOuyjBZH2dMeefbYC7x2ag9FitRm6nlkzf3cu3wz+ZqGSpeYvIXzFvCx\nNQ/z8Kr7+cXxl/nZ4Z/zi+MvAS9RqGqm5thWbm/e6KYQAYa0StTe18GOd15kxzsv0jlwBoCV+RaW\njt5Ma82NPLB6ZYUrnH1qqmrY0nIX9y6/kz3tke+/vp13hg7y93u/zXf3/5A7l97G3ctuZ0XDco9m\nvIYZ0rqk3qE+drXt5qUTu4gd+8dmzVXzuG/5Zu5dvpnWfAtPvXKs0mXOetlMlpuv+wCn8gvoHeli\ntHCI5469wFNHnuWpI8+yrL554kfIQu2iSperGWZI6z36h/t59tBennzjeV5vjwyPnzx/zcJV3LPs\nTm5t3ugpO8uormoB29Y8zCOrP8zu9r28cPxldp/awz+/+SN+8ObjrF10PZuabuH++jsBDz+/FhjS\n4mTvKX7Vvpfdp17njc4DE1c1aWlYxu1Nm7i1eSPXzV9c4SqvLVXZKjY2bmBj4wZ6h3rZefI1fnH8\n3d34vr3vn2nNt7Dxug3cfN1NtDQs9ZJgc5QhfQ3qHDjD/s63eKPzAPs69nOy99TEa635Fjav3MT6\nhvUsq2+uYJU6p666jntbNnNvy2Y6B87watse9nbt5bUTkcPdR/mXt56gobqedYUbCIW1hMKNXDd/\nsdux5whDeo4bHBniaM87HO4+wtvdR3iz8y3axvdlhrEfrz543QZuvm49G5asZ9G8hTQ25mlr656k\nV1XKonkL2bribv5146/z9rGT/Kp9L3tOR+Lp/bx88lVePvnqRLtVC1pZnW9l9cJWWvMrmJ+rrXD1\nuhKG9BwxNDLEyb5TnOht48TZNk70tnG05xjHe08yWhydaFdbVcuGJeu5cdEa1i5aw8p8y/vO1/z4\njoN09/R7eHKCzh06/jsPraeuej53LP0Qdyz9EMVikZO9bWPXf+zYz4Ezb0+cRhUgQ4Yl8xezrL55\n4ra0vonG+UuYn7s2jgKdraYM6RBCFvgKsBEYAP5tjHF/uQvTmJHREc4O99IzeJaeobFb92APHf2d\nnO7voGOgk9P9nZwZ6KJI8T3vramqYfWClbTmWyauhr2svtltl3NQJpOhub6J5vomtq64h2KxSOfA\nGd7uOszBrsMc7DrEO2dPTFwO7Hx1ufksqS2wZP5iFtcWWFCTJ1/TMHFbUJMnX91Q0YsvXMtKmUn/\nJlAbY7w7hHAX8JfAx6e7kNHiKL1Dfe8LmnPLxeL5z1zQpjjZe8Yfn/fq+f2929d5vRYv8Z5LrKsn\n18mpri5GRkcZKY4wWhy7HxkdYaQ4ymhx7H5seYTBkUEGRoYYHB1kYGSAgZHB8efeve8f7qdn6Ox7\nLrx6MdlMlkXzFrJ20fU01zXSXNdIU10jS+ubWFxbMJCvUZlMhkLtIgq1i9jUdMvE892DPbxz9gTv\nnD3B8bMnae8/TXvfaY73nuRwz+S7U9bl5jM/V0ttrpbaqnnn3c+jtqqW6qpqcpkcuWwVuWyOXDZH\n9fh9Lpsjlxl7PpvJkCFLJpMhm8mSzWToqmrgTHcfGcaey2QyZMmQGX99rP154+PS29sn2xb/3ve9\n+7jkvnlPw/eoyVaX5QCkUkL6PuBxgBjj8yGE26e9CuCbv3psYnvata46W01tbh6L5i2kpWEZDTUN\nNFTXT9zyNfUUagssrl3Egpq8QaySnZsdryvc8J7ni8UiXYM9dAx00D3YQ/dgD12DPXQPdk8sdw/1\n0D88wOn+DvqHB943WbrW5bI5/tOdf0xTXeO09pu5cGZ4oRDC14DvxBh/NL58CFgTYxye1kokSe9T\nyhSsC8if/x4DWpJmRikh/SzwUYDxbdKvlbUiSdKEUrZJfw94KITwHGObyj9d3pIkSedMuU1aklQ5\n7hYgSQkzpCUpYYa0JCVsxs/dEUKoBx4DCsAg8KkY46y+SmkIYSHwd8ACoAb4kxjjjspWdfVCCJ8A\nfifG+MlK13Il5uopDUIIm4H/HGPcVularlYIoRr4BrAamAf8WYzxBxUt6iqEEKqArwKBsYOUPxtj\n3H01fVZiJv0HwEsxxq2MBdvnK1DDdPsT4Kcxxl8Dfh/475Ut5+qFEP4K+Atm97etiVMaAP+RsVMa\nzGohhM8DXwPmyintfg9ojzFuAT4C/HWF67laHwOIMd4LfAn486vtcMb/AcYY/xvvFr4S6JzpGsrg\nvwJ/M/44B/RXsJbp8hzw7ypdxFV6zykNgLKc0mCGvQn8VqWLmEbfBr48/jgDzOoD5WKM3wf+cHxx\nFdOQb2Xd3BFC+DfAH1/w9KdjjC+GEJ4EbgEeKmcN022KMS1l7NvB52a+siszyXj+MYSwrQIlTacF\nwJnzlkdCCLnZfMRsjPE7IYTVla5jusQYewBCCHngnxibfc5qMcbhEMK3gE8Av321/ZU1pGOMXwe+\nfonXHgghrAf+D3DDxdqk6FJjCiHcAvwD8B9ijE/NeGFXaLLPaA7wlAazQAihlbGD5r4SY3ys0vVM\nhxjjp0IIfwr8IoRwU4zx7JX2NeObO0IIXwghPDq+2AOMzHQN0y2EcBNjX9s+ee5EVEqCpzRIXAih\nGXgC+NMY4zcqXc/VCiE8GkL4wvhiLzA6frtilbgyyzeAb41/za5ibhxm/heM/ZDzVyEEgDMxxmk/\n57Yum6c0SN8XGdvT68shhHPbph+JMU5+IvV0fRf4ZgjhacYu5/65qx2Lh4VLUsJm8+5VkjTnGdKS\nlDBDWpISZkhLUsIMaUlKmCEtSQkzpCUpYf8f6nSGRDYKt2kAAAAASUVORK5CYII=\n",
      "text/plain": [
       "<matplotlib.figure.Figure at 0x124037c88>"
      ]
     },
     "metadata": {},
     "output_type": "display_data"
    }
   ],
=======
   "execution_count": null,
   "metadata": {
    "collapsed": false
   },
   "outputs": [],
>>>>>>> upstream/master
=======
   "execution_count": 11,
   "metadata": {
    "collapsed": false
   },
   "outputs": [
    {
     "data": {
      "text/plain": [
       "<matplotlib.axes._subplots.AxesSubplot at 0x11aa6de10>"
      ]
     },
     "execution_count": 11,
     "metadata": {},
     "output_type": "execute_result"
    },
    {
     "data": {
      "image/png": "iVBORw0KGgoAAAANSUhEUgAAAWkAAAD4CAYAAAAuNhccAAAABHNCSVQICAgIfAhkiAAAAAlwSFlz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\nGdKSlDBDWpIS9v8BotqnTUoO18cAAAAASUVORK5CYII=\n",
      "text/plain": [
       "<matplotlib.figure.Figure at 0x1171af860>"
      ]
     },
     "metadata": {},
     "output_type": "display_data"
    }
   ],
>>>>>>> upstream/master
   "source": [
    "# Try the Tauchen method from QuantEcon\n",
    "from quantecon import tauchen\n",
    "\n",
    "qe_result = tauchen(rho, sigma_eps, 3, N)\n",
    "pi_QE = qe_result.P\n",
    "z_grid_QE = np.linspace(-3*sigma_z, 3*sigma_z, N) # why can't this be returned from call to function??\n",
    "z_discrete_QE = sim_markov(z_grid_QE, np.transpose(pi_QE), num_draws)\n",
    "\n",
    "# Plot AR(1) and Markov approximation\n",
    "sns.distplot(z_discrete_QE, hist=True, kde=False, norm_hist=True)\n",
    "sns.kdeplot(np.array(z), bw=0.5)"
   ]
  },
  {
   "cell_type": "markdown",
   "metadata": {},
   "source": [
    "This looks close to Rouwenhorst since it also uses an evenly spaced grid.  I'm not sure why the `quantecon.tauchen` method only returns the transition matrix... maybe becuase it's simply a linear spaced grid over the specied range of the distribution."
   ]
  },
  {
   "cell_type": "markdown",
   "metadata": {},
   "source": [
    "## 3. References\n",
    "* Adda, Jerome and Russell Cooper, *Dynamic Economics: Quantitative Methods and Applications*, MIT Press (2003).\n",
    "* Kopecky, Karen and Richard Suen, \"Finite State Markov-chain Approximations to Highly Persistent Processes\", *Review of Economic Dynamics*, 13:3, pp. 701-714 (July 2010)\n",
    "* Rouwenhorst, K Geert, \"Asset Pricing Implications of Equilibrium Business Cycle Models\", in *Frontiers of Business Cycle Research* (Thomas F. Cooley Ed.), Princeton University Press (1995).\n",
    "* Tauchen, George and Robert Hussey, \"Quadrature-Based Methods for Obtaining Approximate Solutions to Nonlinear Asset Pricing Models\", *Econometrica*, 59:2, pp. 371-396, (1991)."
   ]
  },
  {
   "cell_type": "code",
   "execution_count": null,
   "metadata": {
    "collapsed": true
   },
   "outputs": [],
   "source": []
  }
 ],
 "metadata": {
  "kernelspec": {
   "display_name": "Python 3",
   "language": "python",
   "name": "python3"
  },
  "language_info": {
   "codemirror_mode": {
    "name": "ipython",
    "version": 3
   },
   "file_extension": ".py",
   "mimetype": "text/x-python",
   "name": "python",
   "nbconvert_exporter": "python",
   "pygments_lexer": "ipython3",
   "version": "3.6.1"
  }
 },
 "nbformat": 4,
 "nbformat_minor": 2
}

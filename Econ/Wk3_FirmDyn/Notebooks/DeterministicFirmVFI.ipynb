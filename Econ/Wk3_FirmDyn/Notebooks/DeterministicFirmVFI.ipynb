{
 "cells": [
  {
   "cell_type": "markdown",
   "metadata": {},
   "source": [
    "# Solving the Deterministic Firm Investment Problem Through Value Function Iteration\n",
    "### by [Jason DeBacker](http://jasondebacker.com), July 2017\n",
    "This Jupyter notebook was written using Python 3.6. \n"
   ]
  },
  {
   "cell_type": "markdown",
   "metadata": {},
   "source": [
    "## 1. Overview of the Theory\n",
    "The firm's optimization problem can be written as:\n",
    "\n",
    "$$ V(z,k) = max_{k'} \\pi(z,k) - p^{k}(k'-(1-\\delta)k) - c(k',k) + \\beta V(z',k') $$\n",
    "\n",
    "We going to assume that $z$ is deterministic and stationary.  Thus we'll set $z=1$ for all time and drop it from our vector of state variables.  In addition, assume that the price of new capital is equal to one; $p^{k}=1$.  Rewriting the problem we have:\n",
    "\n",
    "$$ V(k) = max_{k'} \\pi(k) - (k'-(1-\\delta)k) - c(k',k) + \\beta V(k') \\ \\ (1) $$ \n",
    "\n",
    "We need to solve for $V(k)$ and the policy function, $k'=h(k)$.  To do this, we are going to use the recursive nature of the problem.  In particular, we are going to use a fixed point algorithm and the fact that the value funciton, $V(\\cdot)$ appears on both sides of the equation above.\n",
    "\n",
    "In particular, we are going to look for the fixed point for the mapping $T(V(k))$ defined as \n",
    "\n",
    "$$ T(V(k)) = max_{k'} \\pi(k) - (k'-(1-\\delta)k) - c(k',k) + \\beta V(k') $$\n",
    "\n",
    "Here, $V(k)$ represents a proposed solution to the Equation (1) above.  If $T(V(k))=V(k)$ then $V(k)$ *is* the solution to (1).  Value function iteration uses this mapping to find the solution.  Under certain assumptions, it is shown that such a solution exists, is unique, and can be found by iterating on any initial proposed value function.  See Stokey, Lucas, and Prescott (1989, pp. 49-55) for details on the necessary conditions for the existence and uniqueness of a solution.  Suffice it to say, those conditions are met in the problem as parameterized below.\n",
    "\n",
    "The approach we'll take, then, is to guess an initial value function, $V_{0}(k)$ and then iterate on this guess with the operators $T(v(k))$ so that we have:\n",
    "\n",
    "$$ V_{i+1}(k) = max_{k'} \\pi(k) - (k'-(1-\\delta)k) - c(k',k) + \\beta V_{i}(k') $$\n",
    "\n",
    "Where $i$ denotes the iteration.  These iterations will continue until $V_{i+1}(k)=V_{i}(k)$, i.e., when we've found the fixed point.  This fixed point will be the solution to our problem, $V(k)=V_{i}(k)$.  With this found, we can then find the policy function, $h(k)$ that corresponds to this value function.\n",
    "\n",
    "## 2. Setting things up."
   ]
  },
  {
   "cell_type": "code",
<<<<<<< HEAD
   "execution_count": 1,
=======
   "execution_count": null,
>>>>>>> upstream/master
   "metadata": {
    "collapsed": true
   },
   "outputs": [],
   "source": [
    "# Import packages\n",
    "import numpy as np\n",
    "import matplotlib.pyplot as plt\n",
    "import time\n",
    "\n",
    "# to print plots inline\n",
    "%matplotlib inline"
   ]
  },
  {
   "cell_type": "markdown",
   "metadata": {},
   "source": [
    "### 2.1 Parameterization\n",
    "To solve a numerical problem, we need to set values to the parameters.  We also need to specify the adjustment cost function.  Adjustment costs will be assumed to be quadratic:\n",
    "\n",
    "$$ c(k',k) = \\frac{\\psi}{2}\\left(\\frac{k'-(1-\\delta)k}{k}\\right)^{2}k $$\n",
    "\n",
    "Operating profits are given by $zk^{alpha_{k}}l^{\\alpha_{l}} - wl$.  After solving the firm's intra-temporal problem for the optimal choice of $l$ given $k4$, we find\n",
    "\n",
    "$$ \\pi(z,k)=\\left(1-\\alpha_{l}\\right)\\left(\\frac{\\alpha_{l}}{w}\\right)^{\\frac{\\alpha_{l}}{1-\\alpha_{l}}} z^{\\frac{1}{1-\\alpha_{l}}}k^{\\frac{\\alpha_{k}}{1-\\alpha_{l}}} $$\n",
    "\n",
    "Or, noting that $z=1$ in the deterministic model we're studying here:\n",
    "\n",
    "$$ \\pi(k)=\\left(1-\\alpha_{l}\\right)\\left(\\frac{\\alpha_{l}}{w}\\right)^{\\frac{\\alpha_{l}}{1-\\alpha_{l}}} k^{\\frac{\\alpha_{k}}{1-\\alpha_{l}}} $$\n",
    "\n",
    "We then choose the following parameterization:\n",
    "\n",
    "| Paramter | Description   | Value|\n",
    "|------|------||------|\n",
    "    | $\\alpha_{k}$ | Capital's share of output | 0.297 |\n",
    "   | $\\alpha_{l}$ | Labor's share of output | 0.650 |\n",
    "   | $\\delta$ | Depreciation rate | 0.154 |\n",
    "   | $\\psi$ | Coefficient on quadratic adjustment costs | 1.080 |\n",
    "   | $w$   | Wage rate | 0.700 |\n",
    "   | $r$   | Interest rate | 0.040 |\n",
    "   | $z$   | Productivity | 1.000 |\n",
    "\n"
   ]
  },
  {
   "cell_type": "code",
<<<<<<< HEAD
   "execution_count": 2,
=======
   "execution_count": null,
>>>>>>> upstream/master
   "metadata": {
    "collapsed": true
   },
   "outputs": [],
   "source": [
    "# specify parameters\n",
    "alpha_k = 0.297\n",
    "alpha_l = 0.65\n",
    "delta = 0.154\n",
    "psi = 1.08\n",
    "w = 0.7\n",
    "r= 0.04\n",
    "z = 1"
   ]
  },
  {
   "cell_type": "markdown",
   "metadata": {},
   "source": [
    "To determine the discount rate of the firm, we have:\n",
    "\n"
   ]
  },
  {
   "cell_type": "code",
<<<<<<< HEAD
   "execution_count": 3,
=======
   "execution_count": null,
>>>>>>> upstream/master
   "metadata": {
    "collapsed": true
   },
   "outputs": [],
   "source": [
    "betafirm = (1 / (1 + r))"
   ]
  },
  {
   "cell_type": "markdown",
   "metadata": {},
   "source": [
    "### 2.2 Discretizing the state space for capital\n",
    "\n",
    "To solve this problem we will be evaluating the value function over a discrete grid of points in the state space.  Our state space are the possible values of the firm's capital stock.  We need to put some thought into how to choose these grid points, since we are approximating the continuous value function over this grid.  \n",
    "\n",
    "As a starting point, recall the solution to the firm's problem without adjustment costs:\n",
    "\n",
    "$$ k_{t+1} = \\left[\\left(\\frac{\\alpha_{k}}{\\bar{r}  + \\delta}\\right)^{1-\\alpha_{l}}\\left(\\frac{\\alpha_{l}}{w}\\right)^{\\alpha_{l}}z_{t+1}^{\\alpha_{l}}\\right]^{1-\\alpha_{k}-\\alpha_{l}} $$\n",
    "\n",
    "In this case, we are setting $z=1$, so we have:\n",
    "\n",
    "$$ k_{t+1} = \\left[\\left(\\frac{\\alpha_{k}}{\\bar{r}  + \\delta}\\right)^{1-\\alpha_{l}}\\left(\\frac{\\alpha_{l}}{w}\\right)^{\\alpha_{l}}\\right]^{1-\\alpha_{k}-\\alpha_{l}} \\ \\ \\ (2) $$\n",
    "\n",
    "This value for $k'$ in the model with no adjustment costs is a good place to center the grid as it's close to the steady-state value of the problem with adjustment costs.  In the steady-state, the firm's capital stock does not change and thus with the adjustment cost function specified, only small costs are paid as investment is just enough to offset depreciation.\n",
    "\n",
    "Next, we need to think about how to space the grid points.  One consideration here is that since we are approximating a value function that is concave, we want to have more grid points in the space where there is more curvature in the function.  That is, we want more grid points on the part of the grid with smaller amounts of capital as the value function will have more curvature in this range since it's a concave function.  Second, there is some convenience in spacing the grid points out so that we know the number of points between the points for $k$ and $(1-\\delta)k$ (this will be more apparent when we get to models with other types of adjustment costs).\n",
    "\n",
    "Given these two considerations, let us define `dens` as the number of grid points between $k$ and $(1-\\delta)k$ and then define the sequence of grid points by\n",
    "\n",
    "$$ k^{i} = (1-\\delta)^{\\frac{1}{\\texttt{dens}}}k^{i+1} $$\n",
    "\n",
    "We implement this in the code below, setting the lower bound of the capital grid to a small, positive number, the upper bound to a multiple of the $k'$ implied by Equation (2), and then determining the number of grid points between these bounds given our rule for spacing described above."
   ]
  },
  {
   "cell_type": "code",
<<<<<<< HEAD
   "execution_count": 4,
=======
   "execution_count": null,
>>>>>>> upstream/master
   "metadata": {
    "collapsed": true
   },
   "outputs": [],
   "source": [
    "dens = 1\n",
    "# put in bounds here for the capital stock space\n",
    "kstar = ((((1 / betafirm - 1 + delta) * ((w / alpha_l) **\n",
    "                                         (alpha_l / (1 - alpha_l)))) /\n",
    "         (alpha_k * (z ** (1 / (1 - alpha_l))))) **\n",
    "         ((1 - alpha_l) / (alpha_k + alpha_l - 1)))\n",
    "kbar = 2*kstar\n",
    "lb_k = 0.001\n",
    "ub_k = kbar\n",
    "krat = np.log(lb_k / ub_k)\n",
    "numb = np.ceil(krat / np.log(1 - delta))\n",
    "K = np.zeros(int(numb * dens))\n",
    "# we'll create in a way where we pin down the upper bound - since\n",
    "# the distance will be small near the lower bound, we'll miss that by little\n",
    "for j in range(int(numb * dens)):\n",
    "    K[j] = ub_k * (1 - delta) ** (j / dens)\n",
    "kvec = K[::-1]\n",
    "sizek = kvec.shape[0]"
   ]
  },
  {
   "cell_type": "markdown",
   "metadata": {},
   "source": [
    "Let's look at this grid..."
   ]
  },
  {
   "cell_type": "code",
<<<<<<< HEAD
   "execution_count": 5,
   "metadata": {},
   "outputs": [
    {
     "data": {
      "text/plain": [
       "<matplotlib.collections.PathCollection at 0x11159dc88>"
      ]
     },
     "execution_count": 5,
     "metadata": {},
     "output_type": "execute_result"
    },
    {
     "data": {
      "image/png": "iVBORw0KGgoAAAANSUhEUgAAAXUAAAD8CAYAAACINTRsAAAABHNCSVQICAgIfAhkiAAAAAlwSFlz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\n",
      "text/plain": [
       "<matplotlib.figure.Figure at 0x1112c7e10>"
      ]
     },
     "metadata": {},
     "output_type": "display_data"
    }
   ],
=======
   "execution_count": null,
   "metadata": {
    "collapsed": false
   },
   "outputs": [],
>>>>>>> upstream/master
   "source": [
    "k_linear = np.linspace(lb_k, ub_k, num=sizek)\n",
    "plt.scatter(k_linear, kvec)"
   ]
  },
  {
   "cell_type": "markdown",
   "metadata": {},
   "source": [
    "### 2.3 Grid of per period flows\n",
    "\n",
    "In order to evaluate our value functions, we will need to know the per period flows to the firm.  These are given by operating profits, $\\pi(k)$, less investment expenses plus adjustment costs, $I + c(k',k)$.\n",
    "\n",
    "As noted above, operating profits (with $z=1$) are given by:\n",
    "\n",
    "$$pi(k) =\\left(1-\\alpha_{l}\\right)\\left(\\frac{\\alpha_{l}}{w}\\right)^{\\frac{\\alpha_{l}}{1-\\alpha_{l}}}k^{\\frac{\\alpha_{k}}{1-\\alpha_{l}}} $$\n",
    "\n",
    "Per period flows are then:\n",
    "\n",
    "$$ e(k,k') = \\pi(k) - (k'-(1-\\delta)k) - \\frac{\\psi}{2}\\left(\\frac{k'-(1-\\delta)k}{k}\\right)^{2}k $$"
   ]
  },
  {
   "cell_type": "code",
<<<<<<< HEAD
   "execution_count": 6,
=======
   "execution_count": null,
>>>>>>> upstream/master
   "metadata": {
    "collapsed": true
   },
   "outputs": [],
   "source": [
    "# operating profits, op\n",
    "op = ((1 - alpha_l) * ((alpha_l / w) ** (alpha_l / (1 - alpha_l))) *\n",
    "      ((kvec ** alpha_k) ** (1 / (1 - alpha_l))))\n",
    "\n",
    "# firm cash flow, e\n",
    "e = np.zeros((sizek, sizek))\n",
    "for i in range(sizek):\n",
    "    for j in range(sizek):\n",
    "            e[i, j] = (op[i] - kvec[j] + ((1 - delta) * kvec[i]) -\n",
    "                       ((psi / 2) * ((kvec[j] - ((1 - delta) * kvec[i])) ** 2)\n",
    "                        / kvec[i]))"
   ]
  },
  {
   "cell_type": "markdown",
   "metadata": {},
   "source": [
    "## 3. Value Function Iteration\n",
    "\n",
    "We've now determined all the fundamental objects we need to do value function iteration over a discete grid.  There are a few more objects we need to create that determine when convergence has been reached and to ensure that our `while` loops end.  We'll also want to intialize arrays that will be populated in our VFI.  \n",
    "\n",
    "Note that any initial guess at the value function $V_{0}$ will work.  But closer guesses will mean less iterations until convergence.  Here, we just guess a vector of zeros.  We know it's not the solution, but it gives us a starting point."
   ]
  },
  {
   "cell_type": "code",
<<<<<<< HEAD
   "execution_count": 7,
=======
   "execution_count": null,
>>>>>>> upstream/master
   "metadata": {
    "collapsed": true
   },
   "outputs": [],
   "source": [
    "VFtol = 1e-6\n",
    "VFdist = 7.0\n",
    "VFmaxiter = 3000\n",
    "V = np.zeros(sizek)  # initial guess at value function\n",
    "Vmat = np.zeros((sizek, sizek))  # initialize Vmat matrix\n",
    "Vstore = np.zeros((sizek, VFmaxiter))  # initialize Vstore array\n",
    "VFiter = 1\n",
    "start_time = time.clock()"
   ]
  },
  {
   "cell_type": "markdown",
   "metadata": {},
   "source": [
    "With these objects of the VFI procedure defined, we now write the loop that is the VFI prodecure.  We are iterating over the operator $T(V(k))$, so our outer most loop will represent our updating of the value function $V_{i}(k)$ that happens with each iteration of VFI.  Inside this loop, we need to apply the operator.  We do this by evaluating the finding the optimal choice of $k'$ given $k$ and $V_{i}(k)$.  Note that as we find the optimal choice of $k'$ we'll store both the value function evaluated at this $k'$ and also the value of $k'$ (because these choices define our policy function)."
   ]
  },
  {
   "cell_type": "code",
<<<<<<< HEAD
   "execution_count": 8,
   "metadata": {},
   "outputs": [
    {
     "name": "stdout",
     "output_type": "stream",
     "text": [
      "Value function converged after this many iterations: 310\n",
      "VFI took  0.81839  seconds to solve\n"
     ]
    }
   ],
=======
   "execution_count": null,
   "metadata": {
    "collapsed": false
   },
   "outputs": [],
>>>>>>> upstream/master
   "source": [
    "while VFdist > VFtol and VFiter < VFmaxiter:\n",
    "    TV = V\n",
    "    for i in range(sizek):  # loop over k\n",
    "        for j in range(sizek):  # loop over k'\n",
    "            Vmat[i, j] = e[i, j] + betafirm * V[j]\n",
    "    Vstore[:, VFiter] = V.reshape(sizek,)  # store value function at each\n",
    "    # iteration for graphing later\n",
    "    V = Vmat.max(axis=1)  # apply max operator to Vmat (to get V(k))\n",
    "    PF = np.argmax(Vmat, axis=1)  # find the index of the optimal k'\n",
    "    VFdist = (np.absolute(V - TV)).max()  # check distance between value\n",
    "    # function for this iteration and value function from past iteration\n",
    "    VFiter += 1\n",
    "\n",
    "VFI_time = time.clock() - start_time\n",
    "if VFiter < VFmaxiter:\n",
    "    print('Value function converged after this many iterations:', VFiter)\n",
    "else:\n",
    "    print('Value function did not converge')\n",
    "print('VFI took ', VFI_time, ' seconds to solve')\n",
    "\n",
    "\n",
    "VF = V  # solution to the functional equation"
   ]
  },
  {
   "cell_type": "markdown",
   "metadata": {},
   "source": [
    "## 4. Determining the policy functions\n",
    "\n",
    "We've already done the work to recover our policy functions, since we saved them along the way in our VFI loop.  From here, it's straight forward to get the policy functions."
   ]
  },
  {
   "cell_type": "code",
<<<<<<< HEAD
   "execution_count": 9,
=======
   "execution_count": null,
>>>>>>> upstream/master
   "metadata": {
    "collapsed": true
   },
   "outputs": [],
   "source": [
    "'''\n",
    "------------------------------------------------------------------------\n",
    "Find optimal capital and investment policy functions\n",
    "------------------------------------------------------------------------\n",
    "optK = (sizek,) vector, optimal choice of k' for each k\n",
    "optI = (sizek,) vector, optimal choice of investment for each k\n",
    "------------------------------------------------------------------------\n",
    "'''\n",
    "optK = kvec[PF]\n",
    "optI = optK - (1 - delta) * kvec"
   ]
  },
  {
   "cell_type": "markdown",
   "metadata": {},
   "source": [
    "## 5. Check output!\n",
    "\n",
    "Congratulations!  You solved the model and determined the optimal firm value, $V(k)$ and the it's optimal choice of investment, $h(k)$.  Now let's look over the output to be sure this makes sense.\n",
    "\n",
    "## 5.1 Plotting the value function."
   ]
  },
  {
   "cell_type": "code",
<<<<<<< HEAD
   "execution_count": 10,
   "metadata": {},
   "outputs": [
    {
     "data": {
      "text/plain": [
       "<matplotlib.text.Text at 0x111806080>"
      ]
     },
     "execution_count": 10,
     "metadata": {},
     "output_type": "execute_result"
    },
    {
     "data": {
      "image/png": "iVBORw0KGgoAAAANSUhEUgAAAYMAAAEWCAYAAACEz/viAAAABHNCSVQICAgIfAhkiAAAAAlwSFlz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\nMjDGGIMlA2OMMVgyMMYYgyUDY4wxwP8DiHtxYNzGRXgAAAAASUVORK5CYII=\n",
      "text/plain": [
       "<matplotlib.figure.Figure at 0x11153d978>"
      ]
     },
     "metadata": {},
     "output_type": "display_data"
    }
   ],
=======
   "execution_count": null,
   "metadata": {
    "collapsed": false
   },
   "outputs": [],
>>>>>>> upstream/master
   "source": [
    "plt.plot(kvec, VF, 'k')\n",
    "plt.xlabel('Size of Capital Stock')\n",
    "plt.ylabel('Value Function')\n",
    "plt.title('Value Function - deterministic firm w/ adjustment costs')"
   ]
  },
  {
   "cell_type": "markdown",
   "metadata": {},
   "source": [
    "## 5.2 Plot the policy functions\n",
    "\n",
    "Here we'll plot investment policy function as a rate, $\\frac{I}{k}$."
   ]
  },
  {
   "cell_type": "code",
<<<<<<< HEAD
   "execution_count": 11,
   "metadata": {},
   "outputs": [
    {
     "data": {
      "text/plain": [
       "<matplotlib.text.Text at 0x111921d68>"
      ]
     },
     "execution_count": 11,
     "metadata": {},
     "output_type": "execute_result"
    },
    {
     "data": {
      "image/png": "iVBORw0KGgoAAAANSUhEUgAAAeAAAAEWCAYAAAC+H0SRAAAABHNCSVQICAgIfAhkiAAAAAlwSFlz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\nc845FwEvwM4551wEvAA755xzEfh/WnOaogdf8T0AAAAASUVORK5CYII=\n",
      "text/plain": [
       "<matplotlib.figure.Figure at 0x11184a978>"
      ]
     },
     "metadata": {},
     "output_type": "display_data"
    }
   ],
=======
   "execution_count": null,
   "metadata": {
    "collapsed": false
   },
   "outputs": [],
>>>>>>> upstream/master
   "source": [
    "# Plot optimal capital stock rule as a function of firm size\n",
    "fig, ax = plt.subplots()\n",
    "ax.plot(kvec, optK, 'k--', label='Capital Next Period')\n",
    "ax.plot(kvec, kvec, 'k:', label='45 degree line')\n",
    "# Now add the legend with some customizations.\n",
    "legend = ax.legend(loc='upper left', shadow=True)\n",
    "# The frame is matplotlib.patches.Rectangle instance surrounding the legend.\n",
    "frame = legend.get_frame()\n",
    "frame.set_facecolor('0.90')\n",
    "# Set the fontsize\n",
    "for label in legend.get_texts():\n",
    "    label.set_fontsize('large')\n",
    "for label in legend.get_lines():\n",
    "    label.set_linewidth(1.5)  # the legend line width\n",
    "plt.xlabel('Size of Capital Stock')\n",
    "plt.ylabel('Optimal Choice of Capital Next Period')\n",
    "plt.title('Policy Function, Next Period Capoital - deterministic firm w/ ' +\n",
    "          'adjustment costs')"
   ]
  },
  {
   "cell_type": "code",
<<<<<<< HEAD
   "execution_count": 12,
   "metadata": {},
   "outputs": [
    {
     "data": {
      "text/plain": [
       "<matplotlib.text.Text at 0x111a6ae10>"
      ]
     },
     "execution_count": 12,
     "metadata": {},
     "output_type": "execute_result"
    },
    {
     "data": {
      "image/png": "iVBORw0KGgoAAAANSUhEUgAAAakAAAEWCAYAAADcsGj7AAAABHNCSVQICAgIfAhkiAAAAAlwSFlz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\n",
      "text/plain": [
       "<matplotlib.figure.Figure at 0x111874978>"
      ]
     },
     "metadata": {},
     "output_type": "display_data"
    }
   ],
=======
   "execution_count": null,
   "metadata": {
    "collapsed": false
   },
   "outputs": [],
>>>>>>> upstream/master
   "source": [
    "# Plot investment rule as a function of firm size\n",
    "fig, ax = plt.subplots()\n",
    "ax.plot(kvec, (optI/kvec), 'k--', label='Investment rate')\n",
    "ax.plot(kvec, (np.ones(sizek)*delta), 'k:', label='Depreciation rate')\n",
    "# Now add the legend with some customizations.\n",
    "legend = ax.legend(loc='upper left', shadow=True)\n",
    "# The frame is matplotlib.patches.Rectangle instance surrounding the legend.\n",
    "frame = legend.get_frame()\n",
    "frame.set_facecolor('0.90')\n",
    "# Set the fontsize\n",
    "for label in legend.get_texts():\n",
    "    label.set_fontsize('large')\n",
    "for label in legend.get_lines():\n",
    "    label.set_linewidth(1.5)  # the legend line width\n",
    "plt.xlabel('Size of Capital Stock')\n",
    "plt.ylabel('Optimal Investment')\n",
    "plt.title('Policy Function, Investment - deterministic firm w/ adjustment ' +\n",
    "          'costs')"
   ]
  },
  {
   "cell_type": "markdown",
   "metadata": {},
   "source": [
    "## 7. References\n",
    "* Stokey, Nancy L. and Robert E. Lucas and Edward C. Prescott, *Recursive Methods in Economic Dynamics*, Harvard University Press (1989)."
   ]
  }
 ],
 "metadata": {
  "kernelspec": {
   "display_name": "Python 3",
   "language": "python",
   "name": "python3"
  },
  "language_info": {
   "codemirror_mode": {
    "name": "ipython",
    "version": 3
   },
   "file_extension": ".py",
   "mimetype": "text/x-python",
   "name": "python",
   "nbconvert_exporter": "python",
   "pygments_lexer": "ipython3",
   "version": "3.6.1"
  }
 },
 "nbformat": 4,
 "nbformat_minor": 2
}

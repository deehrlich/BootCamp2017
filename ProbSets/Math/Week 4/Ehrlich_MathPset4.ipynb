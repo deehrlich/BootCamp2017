{
 "cells": [
  {
   "cell_type": "code",
   "execution_count": 1,
   "metadata": {
    "collapsed": true
   },
   "outputs": [],
   "source": [
    "import math\n",
    "import numpy as np"
   ]
  },
  {
   "cell_type": "code",
   "execution_count": 3,
   "metadata": {},
   "outputs": [
    {
     "data": {
      "text/plain": [
       "' Problem 6.14 '"
      ]
     },
     "execution_count": 3,
     "metadata": {},
     "output_type": "execute_result"
    }
   ],
   "source": [
    "\"\"\" Problem 6.14 \"\"\""
   ]
  },
  {
   "cell_type": "code",
   "execution_count": 21,
   "metadata": {
    "collapsed": true
   },
   "outputs": [],
   "source": [
    "\"\"\" One dimensional Newton's Method \"\"\"\n",
    "def newton_method(x0, epsilon, fp, fpp):\n",
    "    converged = False\n",
    "    maxiter = 500\n",
    "    iternum = 0\n",
    "    xk = x0\n",
    "    while converged == False:\n",
    "        xk1 = xk - (fp(xk)/fpp(xk))\n",
    "        if abs(xk1 - xk) < abs(xk)*epsilon:\n",
    "            converged = True\n",
    "        xk = xk1\n",
    "        iternum +=1\n",
    "        if iternum > maxiter:\n",
    "            return 'Newton\\'s method does not converge.'\n",
    "    return xk"
   ]
  },
  {
   "cell_type": "code",
   "execution_count": 23,
   "metadata": {},
   "outputs": [
    {
     "name": "stdout",
     "output_type": "stream",
     "text": [
      "1.5707963267954879\n"
     ]
    }
   ],
   "source": [
    "\"\"\" Test using sin(x) \"\"\"\n",
    "def fp(x):\n",
    "    return math.cos(x)\n",
    "\n",
    "def fpp(x):\n",
    "    return -math.sin(x)\n",
    "\n",
    "print(newton_method(1, 1e-3, fp, fpp))"
   ]
  },
  {
   "cell_type": "code",
   "execution_count": 24,
   "metadata": {},
   "outputs": [
    {
     "data": {
      "text/plain": [
       "1.5707963267948966"
      ]
     },
     "execution_count": 24,
     "metadata": {},
     "output_type": "execute_result"
    }
   ],
   "source": [
    "np.pi/2"
   ]
  },
  {
   "cell_type": "code",
   "execution_count": null,
   "metadata": {
    "collapsed": true
   },
   "outputs": [],
   "source": []
  }
 ],
 "metadata": {
  "kernelspec": {
   "display_name": "Python 3",
   "language": "python",
   "name": "python3"
  },
  "language_info": {
   "codemirror_mode": {
    "name": "ipython",
    "version": 3
   },
   "file_extension": ".py",
   "mimetype": "text/x-python",
   "name": "python",
   "nbconvert_exporter": "python",
   "pygments_lexer": "ipython3",
   "version": "3.6.1"
  }
 },
 "nbformat": 4,
 "nbformat_minor": 2
}

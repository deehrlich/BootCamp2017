{
 "cells": [
  {
   "cell_type": "code",
   "execution_count": 2,
   "metadata": {
    "collapsed": true
   },
   "outputs": [],
   "source": [
    "#import libraries\n",
    "import math\n",
    "import time\n",
    "import numpy as np\n",
    "import scipy.optimize as opt\n",
    "import matplotlib.pyplot as plt\n",
    "from mpl_toolkits.mplot3d import Axes3D\n",
    "%matplotlib inline"
   ]
  },
  {
   "cell_type": "code",
   "execution_count": null,
   "metadata": {
    "collapsed": true
   },
   "outputs": [],
   "source": [
    "\"\"\" Problem 2 \"\"\""
   ]
  },
  {
   "cell_type": "code",
   "execution_count": 11,
   "metadata": {},
   "outputs": [
    {
     "name": "stdout",
     "output_type": "stream",
     "text": [
      "Equilibirum Wage at k = 5 : [ 0.62736178]\n"
     ]
    }
   ],
   "source": [
    "#initialize paramters\n",
    "alpha = .33\n",
    "k = 5\n",
    "z = 1\n",
    "b = 2\n",
    "t = .1    \n",
    "h = 24\n",
    "\n",
    "#create kgrid\n",
    "kgrid = np.linspace(1,15,25)\n",
    "\n",
    "#labor supply\n",
    "def labor_supply(w, pi):\n",
    "    return h - (b/(w*(1 + b)))*(w*h + pi - t)\n",
    "\n",
    "def labor_demand(w):\n",
    "    return ((1 - alpha)*z/w)**(1/alpha)*k\n",
    "\n",
    "def profit(w, nd):\n",
    "    return z*k**alpha*nd**(1 - alpha) - w * nd\n",
    "\n",
    "def errors(state, *args):\n",
    "    alpha , k, z, b, t, h = args\n",
    "    nd = labor_demand(state)\n",
    "    pi = profit(state, nd)\n",
    "    ns = labor_supply(state, pi)\n",
    "    error = nd - ns\n",
    "    return error\n",
    "\n",
    "state_init = 0.8\n",
    "args = (alpha , k, z, b, t, h)\n",
    "w = opt.fsolve(errors, state_init, args = args)\n",
    "print(\"Equilibirum Wage at k =\", k, \":\", w)\n",
    "\n"
   ]
  },
  {
   "cell_type": "code",
   "execution_count": null,
   "metadata": {
    "collapsed": true
   },
   "outputs": [],
   "source": [
    "\"\"\" Problem 3 \"\"\""
   ]
  },
  {
   "cell_type": "code",
   "execution_count": null,
   "metadata": {
    "collapsed": true
   },
   "outputs": [],
   "source": [
    "\"\"\" Problem 4 \"\"\""
   ]
  }
 ],
 "metadata": {
  "kernelspec": {
   "display_name": "Python 3",
   "language": "python",
   "name": "python3"
  },
  "language_info": {
   "codemirror_mode": {
    "name": "ipython",
    "version": 3
   },
   "file_extension": ".py",
   "mimetype": "text/x-python",
   "name": "python",
   "nbconvert_exporter": "python",
   "pygments_lexer": "ipython3",
   "version": "3.6.1"
  }
 },
 "nbformat": 4,
 "nbformat_minor": 2
}

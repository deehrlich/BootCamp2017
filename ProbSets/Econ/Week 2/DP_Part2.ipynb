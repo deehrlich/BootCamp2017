{
 "cells": [
  {
   "cell_type": "code",
   "execution_count": 6,
   "metadata": {
    "collapsed": true
   },
   "outputs": [],
   "source": [
    "import numpy as np\n",
    "import matplotlib.pyplot as plt\n",
    "import quantecon as qe\n",
    "import scipy\n",
    "from scipy.optimize import fminbound\n",
    "from quantecon import compute_fixed_point"
   ]
  },
  {
   "cell_type": "code",
   "execution_count": 7,
   "metadata": {},
   "outputs": [],
   "source": [
    "\"\"\" Problem 2 \"\"\"\n",
    "\n",
    "class LogLinearOG:\n",
    "    \"\"\"\n",
    "    Log linear optimal growth model, with log utility, CD production and\n",
    "    multiplicative lognormal shock, so that\n",
    "\n",
    "        y = f(k, z) = z k^alpha\n",
    "\n",
    "    with z ~ LN(mu, s).\n",
    "\n",
    "    The class holds parameters and true value and policy functions.\n",
    "    \"\"\"\n",
    "\n",
    "    def __init__(self, alpha=0.4, beta=0.96, mu=0, s=0.1):\n",
    "\n",
    "        self.alpha, self.beta, self.mu, self.s = alpha, beta, mu, s \n",
    "\n",
    "        # == Some useful constants == #\n",
    "        self.ab = alpha * beta\n",
    "        self.c1 = np.log(1 - self.ab) / (1 - beta)\n",
    "        self.c2 = (mu + alpha * np.log(self.ab)) / (1 - alpha)\n",
    "        self.c3 = 1 / (1 - beta)\n",
    "        self.c4 = 1 / (1 - self.ab)\n",
    "\n",
    "    def u(self, c):\n",
    "        \" Utility \"\n",
    "        return np.log(c)\n",
    "\n",
    "    def u_prime(self, c):\n",
    "        return 1 / c\n",
    "\n",
    "    def f(self, k):\n",
    "        \" Deterministic part of production function.  \"\n",
    "        return k**self.alpha\n",
    "\n",
    "    def f_prime(self, k):\n",
    "        return self.alpha * k**(self.alpha - 1)\n",
    "\n",
    "    def c_star(self, y):\n",
    "        \" True optimal policy.  \"\n",
    "        return (1 - self.alpha * self.beta) * y\n",
    "\n",
    "    def v_star(self, y):\n",
    "        \" True value function. \"\n",
    "        return self.c1 + self.c2 * (self.c3 - self.c4) + self.c4 * np.log(y)\n",
    "    \n",
    "lg = LogLinearOG()\n",
    "# == Unpack parameters / functions for convenience == #\n",
    "alpha, beta, mu, s = lg.alpha, lg.beta, lg.mu, lg.s\n",
    "v_star = lg.v_star\n",
    "\n",
    "grid_max = 4         # Largest grid point\n",
    "grid_size = 200      # Number of grid points\n",
    "shock_size = 250     # Number of shock draws in Monte Carlo integral\n",
    "\n",
    "grid = np.linspace(1e-5, grid_max, grid_size)\n",
    "shocks = np.exp(mu + s * np.random.randn(shock_size))\n",
    "\n",
    "Tw = np.empty(len(grid))\n",
    "initial_w = 5 * np.log(grid)"
   ]
  },
  {
   "cell_type": "code",
   "execution_count": 8,
   "metadata": {
    "collapsed": true
   },
   "outputs": [],
   "source": [
    "def bellman_operator1(w, grid, beta, u, f, shocks, Tw=None, compute_policy=0):\n",
    "    \"\"\"\n",
    "    The approximate Bellman operator, which computes and returns the\n",
    "    updated value function Tw on the grid points.  An array to store\n",
    "    the new set of values Tw is optionally supplied (to avoid having to\n",
    "    allocate new arrays at each iteration).  If supplied, any existing data in \n",
    "    Tw will be overwritten.\n",
    "\n",
    "    Parameters\n",
    "    ----------\n",
    "    w : array_like(float, ndim=1)\n",
    "        The value of the input function on different grid points\n",
    "    grid : array_like(float, ndim=1)\n",
    "        The set of grid points\n",
    "    beta : scalar\n",
    "        The discount factor\n",
    "    u : function\n",
    "        The utility function\n",
    "    f : function\n",
    "        The production function\n",
    "    shocks : numpy array\n",
    "        An array of draws from the shock, for Monte Carlo integration (to\n",
    "        compute expectations).\n",
    "    Tw : array_like(float, ndim=1) optional (default=None)\n",
    "        Array to write output values to\n",
    "    compute_policy : Boolean, optional (default=False)\n",
    "        Whether or not to compute policy function\n",
    "\n",
    "    \"\"\"\n",
    "    # === Apply linear interpolation to w === #\n",
    "    w_func = lambda x: np.interp(x, grid, w)\n",
    "\n",
    "    # == Initialize Tw if necessary == #\n",
    "    if Tw is None:\n",
    "        Tw = np.empty_like(w)\n",
    "\n",
    "    if compute_policy:\n",
    "        sigma = np.empty_like(w)\n",
    "\n",
    "    # == set Tw[i] = max_c { u(c) + beta E w(f(y  - c) z)} == #\n",
    "    for i, y in enumerate(grid):\n",
    "        def objective(c):\n",
    "            return - u(c) - beta * np.mean(w_func(f(y - c) * shocks))\n",
    "        c_star = 0.95*y   #we are provided an optimal c given y\n",
    "        if compute_policy:\n",
    "            sigma[i] = c_star\n",
    "        Tw[i] = - objective(c_star)\n",
    "\n",
    "    if compute_policy:\n",
    "        return Tw, sigma\n",
    "    else:\n",
    "        return Tw"
   ]
  },
  {
   "cell_type": "code",
   "execution_count": 9,
   "metadata": {
    "collapsed": true
   },
   "outputs": [],
   "source": [
    "def bellman_operator2(w, grid, beta, u, f, shocks, Tw=None, compute_policy=0):\n",
    "    \"\"\"\n",
    "    The approximate Bellman operator, which computes and returns the\n",
    "    updated value function Tw on the grid points.  An array to store\n",
    "    the new set of values Tw is optionally supplied (to avoid having to\n",
    "    allocate new arrays at each iteration).  If supplied, any existing data in \n",
    "    Tw will be overwritten.\n",
    "\n",
    "    Parameters\n",
    "    ----------\n",
    "    w : array_like(float, ndim=1)\n",
    "        The value of the input function on different grid points\n",
    "    grid : array_like(float, ndim=1)\n",
    "        The set of grid points\n",
    "    beta : scalar\n",
    "        The discount factor\n",
    "    u : function\n",
    "        The utility function\n",
    "    f : function\n",
    "        The production function\n",
    "    shocks : numpy array\n",
    "        An array of draws from the shock, for Monte Carlo integration (to\n",
    "        compute expectations).\n",
    "    Tw : array_like(float, ndim=1) optional (default=None)\n",
    "        Array to write output values to\n",
    "    compute_policy : Boolean, optional (default=False)\n",
    "        Whether or not to compute policy function\n",
    "\n",
    "    \"\"\"\n",
    "    # === Apply linear interpolation to w === #\n",
    "    w_func = lambda x: np.interp(x, grid, w)\n",
    "\n",
    "    # == Initialize Tw if necessary == #\n",
    "    if Tw is None:\n",
    "        Tw = np.empty_like(w)\n",
    "\n",
    "    if compute_policy:\n",
    "        sigma = np.empty_like(w)\n",
    "\n",
    "    # == set Tw[i] = max_c { u(c) + beta E w(f(y  - c) z)} == #\n",
    "    for i, y in enumerate(grid):\n",
    "        def objective(c):\n",
    "            return - u(c) - beta * np.mean(w_func(f(y - c) * shocks))\n",
    "        c_star = scipy.stats.lognorm.cdf(y, 0.5)*y\n",
    "        if compute_policy:\n",
    "            sigma[i] = c_star\n",
    "        Tw[i] = - objective(c_star)\n",
    "\n",
    "    if compute_policy:\n",
    "        return Tw, sigma\n",
    "    else:\n",
    "        return Tw"
   ]
  },
  {
   "cell_type": "code",
   "execution_count": 10,
   "metadata": {},
   "outputs": [
    {
     "name": "stdout",
     "output_type": "stream",
     "text": [
      "Iteration    Distance       Elapsed (seconds)\n",
      "---------------------------------------------\n",
      "10           1.289e+00      5.908e-02         \n",
      "20           7.832e-01      1.027e-01         \n",
      "30           5.110e-01      1.486e-01         \n",
      "40           3.385e-01      1.949e-01         \n",
      "50           2.248e-01      2.543e-01         \n",
      "60           1.495e-01      3.048e-01         \n",
      "70           9.937e-02      3.556e-01         \n",
      "80           6.606e-02      4.062e-01         \n",
      "90           4.392e-02      4.568e-01         \n",
      "100          2.920e-02      5.239e-01         \n",
      "110          1.941e-02      5.843e-01         \n",
      "120          1.291e-02      6.489e-01         \n",
      "130          8.580e-03      7.155e-01         \n",
      "140          5.705e-03      7.830e-01         \n",
      "150          3.793e-03      8.333e-01         \n",
      "160          2.521e-03      8.781e-01         \n",
      "170          1.676e-03      9.223e-01         \n",
      "180          1.114e-03      9.671e-01         \n",
      "190          7.409e-04      1.018e+00         \n",
      "200          4.926e-04      1.096e+00         \n",
      "210          3.275e-04      1.195e+00         \n",
      "220          2.177e-04      1.292e+00         \n",
      "230          1.448e-04      1.365e+00         \n",
      "240          9.624e-05      1.442e+00         \n",
      "250          6.398e-05      1.532e+00         \n",
      "260          4.254e-05      1.610e+00         \n",
      "270          2.828e-05      1.680e+00         \n",
      "280          1.880e-05      1.765e+00         \n",
      "290          1.250e-05      1.820e+00         \n",
      "296          9.784e-06      1.850e+00         \n",
      "Converged in 296 steps\n"
     ]
    }
   ],
   "source": [
    "# Turn the Bellman operator into a function of one variable\n",
    "T = lambda w: bellman_operator1(w,\n",
    "                               grid,\n",
    "                               beta,\n",
    "                               np.log,\n",
    "                               lambda k: k**alpha,\n",
    "                               shocks,\n",
    "                               compute_policy=False)\n",
    "\n",
    "v_star_approx = compute_fixed_point(T, initial_w,\n",
    "                                    error_tol=1e-5,  # error_tol\n",
    "                                    max_iter=500,   # max_iter\n",
    "                                    verbose=2,  # verbose\n",
    "                                    print_skip=10,     # print_skip\n",
    "                                    method='iteration')"
   ]
  },
  {
   "cell_type": "code",
   "execution_count": 12,
   "metadata": {},
   "outputs": [
    {
     "data": {
      "image/png": "[encoded data removed]",
      "text/plain": [
       "<matplotlib.figure.Figure at 0x117d16b70>"
      ]
     },
     "metadata": {},
     "output_type": "display_data"
    }
   ],
   "source": [
    "fig, ax = plt.subplots(figsize=(9, 5))\n",
    "ax.set_ylim(-70, -24)\n",
    "ax.plot(grid, v_star_approx, lw=2, alpha=0.6, label='V-sigma')\n",
    "ax.plot(grid, v_star(grid), lw=2, alpha=0.6, label='V_star')\n",
    "ax.legend(loc='lower right')\n",
    "plt.show()"
   ]
  },
  {
   "cell_type": "code",
   "execution_count": 13,
   "metadata": {},
   "outputs": [
    {
     "name": "stdout",
     "output_type": "stream",
     "text": [
      "Iteration    Distance       Elapsed (seconds)\n",
      "---------------------------------------------\n",
      "10           3.335e-01      2.943e-01         \n",
      "20           2.217e-01      5.680e-01         \n",
      "30           1.474e-01      9.215e-01         \n",
      "40           9.800e-02      1.206e+00         \n",
      "50           6.515e-02      1.475e+00         \n",
      "60           4.332e-02      1.735e+00         \n",
      "70           2.880e-02      1.999e+00         \n",
      "80           1.915e-02      2.379e+00         \n",
      "90           1.273e-02      2.720e+00         \n",
      "100          8.463e-03      3.150e+00         \n",
      "110          5.626e-03      3.450e+00         \n",
      "120          3.740e-03      4.008e+00         \n",
      "130          2.487e-03      4.442e+00         \n",
      "140          1.653e-03      4.716e+00         \n",
      "150          1.099e-03      5.057e+00         \n",
      "160          7.308e-04      5.444e+00         \n",
      "170          4.858e-04      5.705e+00         \n",
      "180          3.230e-04      6.021e+00         \n",
      "190          2.147e-04      6.499e+00         \n",
      "200          1.428e-04      6.849e+00         \n",
      "210          9.492e-05      7.125e+00         \n",
      "220          6.310e-05      7.411e+00         \n",
      "230          4.195e-05      7.700e+00         \n",
      "240          2.789e-05      7.962e+00         \n",
      "250          1.854e-05      8.227e+00         \n",
      "260          1.233e-05      8.489e+00         \n",
      "266          9.650e-06      8.648e+00         \n",
      "Converged in 266 steps\n"
     ]
    }
   ],
   "source": [
    "# Turn the Bellman operator into a function of one variable\n",
    "T = lambda w: bellman_operator2(w,\n",
    "                               grid,\n",
    "                               beta,\n",
    "                               np.log,\n",
    "                               lambda k: k**alpha,\n",
    "                               shocks,\n",
    "                               compute_policy=False)\n",
    "\n",
    "v_star_approx = compute_fixed_point(T, initial_w,\n",
    "                                    error_tol=1e-5,  # error_tol\n",
    "                                    max_iter=500,   # max_iter\n",
    "                                    verbose=2,  # verbose\n",
    "                                    print_skip=10,     # print_skip\n",
    "                                    method='iteration')"
   ]
  },
  {
   "cell_type": "code",
   "execution_count": 14,
   "metadata": {},
   "outputs": [
    {
     "data": {
      "image/png": "[encoded data removed]",
      "text/plain": [
       "<matplotlib.figure.Figure at 0x117f9aa20>"
      ]
     },
     "metadata": {},
     "output_type": "display_data"
    }
   ],
   "source": [
    "fig, ax = plt.subplots(figsize=(9, 5))\n",
    "ax.set_ylim(-70, -24)\n",
    "ax.plot(grid, v_star_approx, lw=2, alpha=0.6, label='V-sigma')\n",
    "ax.plot(grid, v_star(grid), lw=2, alpha=0.6, label='V_star')\n",
    "ax.legend(loc='lower right')\n",
    "plt.show()"
   ]
  },
  {
   "cell_type": "code",
   "execution_count": 15,
   "metadata": {},
   "outputs": [
    {
     "data": {
      "text/plain": [
       "' \\nWe can easily see from both graphs that neither policy function is an optimal policy.\\nIn both cases V_sigma is much smaller than V_star (which we can calculate analytically),\\nimplying that neither one is optimal. In the first graph, V_sigma seems to be \\nV_star shifted downwards, while in the second graph, V_sigma reaches a peak between 0.5 and 1\\nand then decreases, while V_star monotinically increases. \\n'"
      ]
     },
     "execution_count": 15,
     "metadata": {},
     "output_type": "execute_result"
    }
   ],
   "source": [
    "\"\"\" \n",
    "We can easily see from both graphs that neither policy function is an optimal policy.\n",
    "In both cases V_sigma is much smaller than V_star (which we can calculate analytically),\n",
    "implying that neither one is optimal. In the first graph, V_sigma seems to be \n",
    "V_star shifted downwards, while in the second graph, V_sigma reaches a peak between 0.5 and 1\n",
    "and then decreases, while V_star monotinically increases. \n",
    "\"\"\""
   ]
  },
  {
   "cell_type": "code",
   "execution_count": null,
   "metadata": {
    "collapsed": true
   },
   "outputs": [],
   "source": []
  }
 ],
 "metadata": {
  "kernelspec": {
   "display_name": "Python 3",
   "language": "python",
   "name": "python3"
  },
  "language_info": {
   "codemirror_mode": {
    "name": "ipython",
    "version": 3
   },
   "file_extension": ".py",
   "mimetype": "text/x-python",
   "name": "python",
   "nbconvert_exporter": "python",
   "pygments_lexer": "ipython3",
   "version": "3.6.1"
  }
 },
 "nbformat": 4,
 "nbformat_minor": 2
}

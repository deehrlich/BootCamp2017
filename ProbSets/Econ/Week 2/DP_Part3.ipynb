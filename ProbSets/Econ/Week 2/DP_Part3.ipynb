{
 "cells": [
  {
   "cell_type": "code",
   "execution_count": 2,
   "metadata": {
    "collapsed": true
   },
   "outputs": [],
   "source": [
    "import numpy as np\n",
    "import quantecon as qe\n",
    "import matplotlib.pyplot as plt\n",
    "from numba import jit\n",
    "import time "
   ]
  },
  {
   "cell_type": "code",
   "execution_count": 3,
   "metadata": {
    "scrolled": false
   },
   "outputs": [
    {
     "data": {
      "image/png": "[encoded data removed]",
      "text/plain": [
       "<matplotlib.figure.Figure at 0x11d65ff28>"
      ]
     },
     "metadata": {},
     "output_type": "display_data"
    },
    {
     "name": "stdout",
     "output_type": "stream",
     "text": [
      "Numpy interp function:0.00031304359436035156\n",
      "My interp function:9.918212890625e-05\n"
     ]
    },
    {
     "data": {
      "text/plain": [
       "'\\nAlthough the interp function performs well when there are few points at which to interpolate, as the number of \\npoints increases, the time drastically inceases compared to the numpy function. The issue could be np.digitize, \\nhowever, it uses a binary search which is hard to speed up. This part of the code could be done using \\narray broadcasting, but when testing it, it was ulitimately slower than digitize, although that may depend \\non the number of grid points. \\n\\nThe broadcasting goes something along these lines and a brodcasting interp function is provided below,\\nhowever, when tested, it is slower than the digitize.\\n\\nxt1 = xt.copy().reshape(len(grid),1)\\nbins = np.argmin(abs(xt1-x), axis = 0)\\n\\nThere are also a number of border cases that could be improved. One such case is when the grid domain is greater \\nthan the X domain. Another is when the grid is random. \\n'"
      ]
     },
     "execution_count": 3,
     "metadata": {},
     "output_type": "execute_result"
    }
   ],
   "source": [
    "\"\"\" Problem 1 \"\"\"\n",
    "\n",
    "@jit\n",
    "def interp(xt, x, y):\n",
    "    dy = y[1:] - y[:-1]\n",
    "    dx = x[1:] - x[:-1]\n",
    "    b = dy/dx\n",
    "    bins = np.digitize(xt, x) - 1\n",
    "    return y[bins] + b[bins]*(xt-x[bins])\n",
    "\n",
    "x = np.linspace(0,10,1000)\n",
    "y = np.cos(x)\n",
    "grid = np.sort(np.random.rand(100)*9)\n",
    "\n",
    "interp1 = np.interp(grid,x,y)\n",
    "interp2 = interp(grid,x,y)\n",
    "\n",
    "plt.plot(grid, interp1)\n",
    "plt.plot(grid, interp2)\n",
    "plt.show()\n",
    "\n",
    "#timeit isn't working so use time.time()\n",
    "#%timeit np.interp(grid,x,y)\n",
    "#%timeit interp(grid,x,y)\n",
    "\n",
    "time1 = time.time()\n",
    "np.interp(grid,x,y)\n",
    "time2= time.time()\n",
    "print(\"Numpy interp function:\" + str(time2-time1))\n",
    "\n",
    "time1 = time.time()\n",
    "interp(grid,x,y)\n",
    "time2= time.time()\n",
    "print(\"My interp function:\" + str(time2-time1))\n",
    "\n",
    "\"\"\"\n",
    "Although the interp function performs well when there are few points at which to interpolate, as the number of \n",
    "points increases, the time drastically inceases compared to the numpy function. The issue could be np.digitize, \n",
    "however, it uses a binary search which is hard to speed up. This part of the code could be done using \n",
    "array broadcasting, but when testing it, it was ulitimately slower than digitize, although that may depend \n",
    "on the number of grid points. \n",
    "\n",
    "The broadcasting goes something along these lines and a brodcasting interp function is provided below,\n",
    "however, when tested, it is slower than the digitize.\n",
    "\n",
    "xt1 = xt.copy().reshape(len(grid),1)\n",
    "bins = np.argmin(abs(xt1-x), axis = 0)\n",
    "\n",
    "There are also a number of border cases that could be improved. One such case is when the grid domain is greater \n",
    "than the X domain. Another is when the grid is random. \n",
    "\"\"\""
   ]
  },
  {
   "cell_type": "code",
   "execution_count": 4,
   "metadata": {},
   "outputs": [
    {
     "name": "stdout",
     "output_type": "stream",
     "text": [
      "Numpy interp function:0.004924297332763672\n"
     ]
    }
   ],
   "source": [
    "def broad_interp(xt, x, y):\n",
    "    dy = y[1:] - y[:-1]\n",
    "    dx = x[1:] - x[:-1]\n",
    "    b = dy/dx\n",
    "    xt1 = xt.copy().reshape(len(xt),1)\n",
    "    bins = np.argmin(abs(xt1-x), axis = 1)\n",
    "    return y[bins] + b[bins]*(xt-x[bins])\n",
    "\n",
    "time1 = time.time()\n",
    "broad_interp(grid,x,y)\n",
    "time2= time.time()\n",
    "print(\"Numpy interp function:\" + str(time2-time1))"
   ]
  },
  {
   "cell_type": "code",
   "execution_count": 5,
   "metadata": {
    "collapsed": true
   },
   "outputs": [],
   "source": [
    "def coleman_egm(g, k_grid, beta, u_prime, u_prime_inv, f, f_prime, shocks):\n",
    "    \"\"\"\n",
    "    The approximate Coleman operator, updated using the endogenous grid\n",
    "    method.  \n",
    "    \n",
    "    Parameters\n",
    "    ----------\n",
    "    g : function\n",
    "        The current guess of the policy function\n",
    "    k_grid : array_like(float, ndim=1)\n",
    "        The set of *exogenous* grid points, for capital k = y - c\n",
    "    beta : scalar\n",
    "        The discount factor\n",
    "    u_prime : function\n",
    "        The derivative u'(c) of the utility function\n",
    "    u_prime_inv : function\n",
    "        The inverse of u' (which exists by assumption)\n",
    "    f : function\n",
    "        The production function f(k)\n",
    "    f_prime : function\n",
    "        The derivative f'(k)\n",
    "    shocks : numpy array\n",
    "        An array of draws from the shock, for Monte Carlo integration (to\n",
    "        compute expectations).\n",
    "\n",
    "    \"\"\"\n",
    "\n",
    "    # Allocate memory for value of consumption on endogenous grid points\n",
    "    c = np.empty_like(k_grid)  \n",
    "\n",
    "    # Solve for updated consumption value\n",
    "    for i, k in enumerate(k_grid):\n",
    "        vals = u_prime(g(f(k) * shocks)) * f_prime(k) * shocks\n",
    "        c[i] = u_prime_inv(beta * np.mean(vals))\n",
    "    \n",
    "    # Determine endogenous grid\n",
    "    y = k_grid + c  # y_i = k_i + c_i\n",
    "\n",
    "    # Update policy function and return\n",
    "    Kg = lambda x: np.interp(x, y, c)\n",
    "    return Kg\n",
    "\n",
    "class LogLinearOG:\n",
    "    \"\"\"\n",
    "    Log linear optimal growth model, with log utility, CD production and\n",
    "    multiplicative lognormal shock, so that\n",
    "\n",
    "        y = f(k, z) = z k^alpha\n",
    "\n",
    "    with z ~ LN(mu, s).\n",
    "\n",
    "    The class holds parameters and true value and policy functions.\n",
    "    \"\"\"\n",
    "\n",
    "    def __init__(self, alpha=0.4, beta=0.96, mu=0, s=0.1):\n",
    "\n",
    "        self.alpha, self.beta, self.mu, self.s = alpha, beta, mu, s \n",
    "\n",
    "        # == Some useful constants == #\n",
    "        self.ab = alpha * beta\n",
    "        self.c1 = np.log(1 - self.ab) / (1 - beta)\n",
    "        self.c2 = (mu + alpha * np.log(self.ab)) / (1 - alpha)\n",
    "        self.c3 = 1 / (1 - beta)\n",
    "        self.c4 = 1 / (1 - self.ab)\n",
    "\n",
    "    def u(self, c):\n",
    "        \" Utility \"\n",
    "        return np.log(c)\n",
    "\n",
    "    def u_prime(self, c):\n",
    "        return 1 / c\n",
    "\n",
    "    def f(self, k):\n",
    "        \" Deterministic part of production function.  \"\n",
    "        return k**self.alpha\n",
    "\n",
    "    def f_prime(self, k):\n",
    "        return self.alpha * k**(self.alpha - 1)\n",
    "\n",
    "    def c_star(self, y):\n",
    "        \" True optimal policy.  \"\n",
    "        return (1 - self.alpha * self.beta) * y\n",
    "\n",
    "    def v_star(self, y):\n",
    "        \" True value function. \"\n",
    "        return self.c1 + self.c2 * (self.c3 - self.c4) + self.c4 * np.log(y)\n",
    "    \n",
    "lg = LogLinearOG()\n",
    "\n",
    "# == Unpack parameters / functions for convenience == #\n",
    "alpha, beta, mu, s = lg.alpha, lg.beta, lg.mu, lg.s\n",
    "v_star, c_star = lg.v_star, lg.c_star\n",
    "u, u_prime, f, f_prime = lg.u, lg.u_prime, lg.f, lg.f_prime\n",
    "\n",
    "grid_max = 4         # Largest grid point, exogenous grid\n",
    "grid_size = 200      # Number of grid points\n",
    "shock_size = 250     # Number of shock draws in Monte Carlo integral\n",
    "\n",
    "k_grid = np.linspace(1e-5, grid_max, grid_size)\n",
    "shocks = np.exp(mu + s * np.random.randn(shock_size))"
   ]
  },
  {
   "cell_type": "code",
   "execution_count": 6,
   "metadata": {
    "collapsed": true
   },
   "outputs": [],
   "source": [
    "## Define the model\n",
    "\n",
    "alpha = 0.65\n",
    "beta = 0.95\n",
    "mu = 0\n",
    "s = 0.1\n",
    "grid_min = 1e-6\n",
    "grid_max = 4\n",
    "grid_size = 200\n",
    "shock_size = 250\n",
    "\n",
    "gamma = 1.5   # Preference parameter\n",
    "gamma_inv = 1 / gamma\n",
    "\n",
    "def f(k):\n",
    "    return k**alpha\n",
    "\n",
    "def f_prime(k):\n",
    "    return alpha * k**(alpha - 1)\n",
    "\n",
    "def u(c):\n",
    "    return (c**(1 - gamma) - 1) / (1 - gamma)\n",
    "\n",
    "def u_prime(c):\n",
    "    return c**(-gamma)\n",
    "\n",
    "def u_prime_inv(c):\n",
    "    return c**(-gamma_inv)\n",
    "\n",
    "k_grid = np.linspace(grid_min, grid_max, grid_size)\n",
    "shocks = np.exp(mu + s * np.random.randn(shock_size))\n"
   ]
  },
  {
   "cell_type": "code",
   "execution_count": 10,
   "metadata": {},
   "outputs": [
    {
     "name": "stdout",
     "output_type": "stream",
     "text": [
      "Timing policy function iteration with Numpy Interp\n",
      "TOC: Elapsed: 0.6118190288543701 seconds.\n",
      "Timing policy function iteration with my Interp\n",
      "TOC: Elapsed: 0.5762159824371338 seconds.\n"
     ]
    },
    {
     "data": {
      "text/plain": [
       "0.5762159824371338"
      ]
     },
     "execution_count": 10,
     "metadata": {},
     "output_type": "execute_result"
    }
   ],
   "source": [
    "\"\"\"Problem 2 \"\"\"\n",
    "\n",
    "def coleman_egm1(g, k_grid, beta, u_prime, u_prime_inv, f, f_prime, shocks):\n",
    "    \"\"\"\n",
    "    The approximate Coleman operator, updated using the endogenous grid\n",
    "    method.  \n",
    "    \n",
    "    Parameters\n",
    "    ----------\n",
    "    g : function\n",
    "        The current guess of the policy function\n",
    "    k_grid : array_like(float, ndim=1)\n",
    "        The set of *exogenous* grid points, for capital k = y - c\n",
    "    beta : scalar\n",
    "        The discount factor\n",
    "    u_prime : function\n",
    "        The derivative u'(c) of the utility function\n",
    "    u_prime_inv : function\n",
    "        The inverse of u' (which exists by assumption)\n",
    "    f : function\n",
    "        The production function f(k)\n",
    "    f_prime : function\n",
    "        The derivative f'(k)\n",
    "    shocks : numpy array\n",
    "        An array of draws from the shock, for Monte Carlo integration (to\n",
    "        compute expectations).\n",
    "\n",
    "    \"\"\"\n",
    "\n",
    "    # Allocate memory for value of consumption on endogenous grid points\n",
    "    c = np.empty_like(k_grid)  \n",
    "\n",
    "    # Solve for updated consumption value\n",
    "    for i, k in enumerate(k_grid):\n",
    "        vals = u_prime(g(f(k) * shocks)) * f_prime(k) * shocks\n",
    "        c[i] = u_prime_inv(beta * np.mean(vals))\n",
    "    \n",
    "    # Determine endogenous grid\n",
    "    y = k_grid + c  # y_i = k_i + c_i\n",
    "\n",
    "    # Update policy function and return\n",
    "    Kg = lambda x: interp(x, y, c)\n",
    "    return Kg\n",
    "\n",
    "sim_length = 20\n",
    "print(\"Timing policy function iteration with Numpy Interp\")\n",
    "g_init_egm = lambda x: x\n",
    "g = g_init_egm\n",
    "qe.util.tic()\n",
    "for i in range(sim_length):\n",
    "    new_g = coleman_egm(g, k_grid, beta, u_prime, u_prime_inv, f, f_prime, shocks)\n",
    "    g = new_g\n",
    "qe.util.toc()\n",
    "\n",
    "print(\"Timing policy function iteration with my Interp\")\n",
    "g_init_egm = lambda x: x\n",
    "g = g_init_egm\n",
    "qe.util.tic()\n",
    "for i in range(sim_length):\n",
    "    new_g = coleman_egm1(g, k_grid, beta, u_prime, u_prime_inv, f, f_prime, shocks)\n",
    "    g = new_g\n",
    "qe.util.toc()"
   ]
  },
  {
   "cell_type": "code",
   "execution_count": null,
   "metadata": {
    "collapsed": true
   },
   "outputs": [],
   "source": []
  }
 ],
 "metadata": {
  "kernelspec": {
   "display_name": "Python 3",
   "language": "python",
   "name": "python3"
  },
  "language_info": {
   "codemirror_mode": {
    "name": "ipython",
    "version": 3
   },
   "file_extension": ".py",
   "mimetype": "text/x-python",
   "name": "python",
   "nbconvert_exporter": "python",
   "pygments_lexer": "ipython3",
   "version": "3.6.1"
  }
 },
 "nbformat": 4,
 "nbformat_minor": 2
}

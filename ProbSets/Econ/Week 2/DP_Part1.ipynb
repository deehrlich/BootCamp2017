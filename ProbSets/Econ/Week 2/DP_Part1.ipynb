{
 "cells": [
  {
   "cell_type": "code",
   "execution_count": 2,
   "metadata": {
    "collapsed": true
   },
   "outputs": [],
   "source": [
    "import numpy as np\n",
    "import math\n",
    "import matplotlib.pyplot as plt"
   ]
  },
  {
   "cell_type": "code",
   "execution_count": 4,
   "metadata": {},
   "outputs": [
    {
     "name": "stdout",
     "output_type": "stream",
     "text": [
      "0.965538166352\n"
     ]
    }
   ],
   "source": [
    "#Problem 1\n",
    "\n",
    "A = [[0.6, 0.1, -0.3],\n",
    "     [0.5, -0.4, 0.2],\n",
    "     [1.0, -0.2, 1.1]]\n",
    "\n",
    "b = [[12],\n",
    "     [10],\n",
    "     [-1]]\n",
    "\n",
    "A, b = map(np.asarray, (A, b))\n",
    "\n",
    "from scipy.linalg import eigvals, solve\n",
    "evs = eigvals(A)\n",
    "ρ = max(abs(evs))\n",
    "print(ρ)"
   ]
  },
  {
   "cell_type": "code",
   "execution_count": 5,
   "metadata": {},
   "outputs": [
    {
     "name": "stdout",
     "output_type": "stream",
     "text": [
      "[[ -0.89552239]\n",
      " [ 13.34328358]\n",
      " [ 45.64179104]]\n"
     ]
    }
   ],
   "source": [
    "#Solution using matrix algebra\n",
    "I = np.eye(len(A))\n",
    "Aprime = A - I\n",
    "x = solve(Aprime,-b)\n",
    "print(x)"
   ]
  },
  {
   "cell_type": "code",
   "execution_count": 6,
   "metadata": {},
   "outputs": [
    {
     "name": "stdout",
     "output_type": "stream",
     "text": [
      "x =  [[ -0.89552239]\n",
      " [ 13.34328358]\n",
      " [ 45.64179104]]\n",
      "Solution converged on iteration: 351\n"
     ]
    }
   ],
   "source": [
    "#Solution using succesive approximations\n",
    "def Axb_approximation(x_init, A, b, tolerance, maxiter):\n",
    "\n",
    "    x_t = x_init\n",
    "    err = 1\n",
    "    iter_num = 0\n",
    "    while iter_num < maxiter and err > tolerance:\n",
    "        x_t1 = A@x_t + b\n",
    "        err = math.sqrt(np.sum((x_t1-x_t)**2))\n",
    "        iter_num +=1\n",
    "        x_t = x_t1\n",
    "    return x, iter_num\n",
    "\n",
    "x_init = np.array([1,1,1])\n",
    "tolerance = 1e-4\n",
    "maxiter = 1000\n",
    "result = Axb_approximation(x_init, A, b, tolerance, maxiter)\n",
    "print(\"x = \", result[0])\n",
    "print(\"Solution converged on iteration:\" , result[1])"
   ]
  },
  {
   "cell_type": "code",
   "execution_count": 8,
   "metadata": {},
   "outputs": [
    {
     "data": {
      "image/png": "[encoded data removed]",
      "text/plain": [
       "<matplotlib.figure.Figure at 0x109dd3668>"
      ]
     },
     "metadata": {},
     "output_type": "display_data"
    }
   ],
   "source": [
    "#Problem 3\n",
    "\n",
    "def reservation_wage(w_init, wage, dist, c, beta, tolerance, maxiter):\n",
    "\n",
    "    err = 1\n",
    "    iter_num = 0\n",
    "    wbar = w_init\n",
    "    wprime = wbar\n",
    "    while iter_num < maxiter and err > tolerance:\n",
    "        wprime = c*(1-beta) + beta*np.sum(np.maximum(wage, wbar)*dist)\n",
    "        err = math.sqrt((wbar-wprime)**2)\n",
    "        iter_num +=1\n",
    "        wbar = wprime\n",
    "    return wbar\n",
    "\n",
    "tolerance = 1e-4\n",
    "maxiter = 1000\n",
    "beta= 0.96\n",
    "w_init = 1\n",
    "dist = np.array([0.2, 0.4, 0.4])\n",
    "wage = np.array([0.5, 1.0, 1.5])\n",
    "cvals = np.linspace(1, 2, 100)\n",
    "\n",
    "i = 0\n",
    "result = np.empty_like(cvals)\n",
    "for c in cvals:\n",
    "    result [i] = reservation_wage(w_init, wage, dist, c, beta, tolerance, maxiter)\n",
    "    i += 1\n",
    "\n",
    "plt.plot(cvals, result)\n",
    "plt.xlabel(\"Unemployment Benefit\")\n",
    "plt.ylabel(\"Reservation Wage\")\n",
    "plt.title(\"Changes Reservation Wage with Unemployment Benefit\")\n",
    "plt.savefig(\"rwage.jpeg\")\n",
    "plt.show()"
   ]
  },
  {
   "cell_type": "code",
   "execution_count": null,
   "metadata": {
    "collapsed": true
   },
   "outputs": [],
   "source": []
  }
 ],
 "metadata": {
  "kernelspec": {
   "display_name": "Python 3",
   "language": "python",
   "name": "python3"
  },
  "language_info": {
   "codemirror_mode": {
    "name": "ipython",
    "version": 3
   },
   "file_extension": ".py",
   "mimetype": "text/x-python",
   "name": "python",
   "nbconvert_exporter": "python",
   "pygments_lexer": "ipython3",
   "version": "3.6.1"
  }
 },
 "nbformat": 4,
 "nbformat_minor": 2
}

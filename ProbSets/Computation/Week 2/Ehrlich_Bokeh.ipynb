{
 "cells": [
  {
   "cell_type": "code",
   "execution_count": 40,
   "metadata": {},
   "outputs": [],
   "source": [
    "import numpy as np\n",
    "import pandas as pd\n",
    "import pickle\n",
    "from pyproj import Proj, transform\n",
    "from bokeh.plotting import Figure, figure, output_file, show\n",
    "from bokeh.models import WMTSTileSource, ColumnDataSource"
   ]
  },
  {
   "cell_type": "code",
   "execution_count": 36,
   "metadata": {},
   "outputs": [],
   "source": [
    "\"\"\" Problem 1 \"\"\"\n",
    "accidents = pd.read_pickle(\"/Users/Deehrlich/Desktop/BootCamp2017/Computation/Wk2_VisPandas/fars_data/final_accidents2.pickle\")\n",
    "drivers = pd.read_pickle(\"/Users/Deehrlich/Desktop/BootCamp2017/Computation/Wk2_VisPandas/fars_data/final_drivers.pickle\")"
   ]
  },
  {
   "cell_type": "code",
   "execution_count": 37,
   "metadata": {},
   "outputs": [],
   "source": [
    "\"\"\" Problem 2 \"\"\"\n",
    "from_proj = Proj(init=\"epsg:4326\")\n",
    "to_proj = Proj(init=\"epsg:3857\")\n",
    "\n",
    "def convert(longitudes, latitudes):\n",
    "    \"\"\"Converts latlon coordinates to meters.\n",
    "    Inputs:\n",
    "    longitudes (array-like) : array of longitudes\n",
    "    latitudes (array-like) : array of latitudes\n",
    "    Example:\n",
    "    x,y = convert(accidents.LONGITUD, accidents.LATITUDE)\n",
    "    \"\"\"\n",
    "    x_vals = []\n",
    "    y_vals = []\n",
    "    for lon, lat in zip(longitudes, latitudes):\n",
    "        x, y = transform(from_proj, to_proj, lon, lat)\n",
    "        x_vals.append(x)\n",
    "        y_vals.append(y)\n",
    "    return x_vals, y_vals\n",
    "\n",
    "accidents[\"x\"], accidents[\"y\"] = convert(accidents.LONGITUD, accidents.LATITUDE)"
   ]
  },
  {
   "cell_type": "code",
   "execution_count": 38,
   "metadata": {},
   "outputs": [
    {
     "data": {
      "text/html": [
       "<div style=\"display: table;\"><div style=\"display: table-row;\"><div style=\"display: table-cell;\"><b title=\"bokeh.models.renderers.TileRenderer\">TileRenderer</b>(</div><div style=\"display: table-cell;\">id&nbsp;=&nbsp;'18df2f37-df57-46e9-815d-dbdeaf6bf4ba', <span id=\"450dcb60-2792-4649-9419-57737d2087fc\" style=\"cursor: pointer;\">&hellip;)</span></div></div><div class=\"e096ebd0-a16f-4156-a088-bc4f41564d1a\" style=\"display: none;\"><div style=\"display: table-cell;\"></div><div style=\"display: table-cell;\">alpha&nbsp;=&nbsp;1.0,</div></div><div class=\"e096ebd0-a16f-4156-a088-bc4f41564d1a\" style=\"display: none;\"><div style=\"display: table-cell;\"></div><div style=\"display: table-cell;\">js_event_callbacks&nbsp;=&nbsp;{},</div></div><div class=\"e096ebd0-a16f-4156-a088-bc4f41564d1a\" style=\"display: none;\"><div style=\"display: table-cell;\"></div><div style=\"display: table-cell;\">js_property_callbacks&nbsp;=&nbsp;{},</div></div><div class=\"e096ebd0-a16f-4156-a088-bc4f41564d1a\" style=\"display: none;\"><div style=\"display: table-cell;\"></div><div style=\"display: table-cell;\">level&nbsp;=&nbsp;'underlay',</div></div><div class=\"e096ebd0-a16f-4156-a088-bc4f41564d1a\" style=\"display: none;\"><div style=\"display: table-cell;\"></div><div style=\"display: table-cell;\">name&nbsp;=&nbsp;None,</div></div><div class=\"e096ebd0-a16f-4156-a088-bc4f41564d1a\" style=\"display: none;\"><div style=\"display: table-cell;\"></div><div style=\"display: table-cell;\">render_parents&nbsp;=&nbsp;True,</div></div><div class=\"e096ebd0-a16f-4156-a088-bc4f41564d1a\" style=\"display: none;\"><div style=\"display: table-cell;\"></div><div style=\"display: table-cell;\">subscribed_events&nbsp;=&nbsp;[],</div></div><div class=\"e096ebd0-a16f-4156-a088-bc4f41564d1a\" style=\"display: none;\"><div style=\"display: table-cell;\"></div><div style=\"display: table-cell;\">tags&nbsp;=&nbsp;[],</div></div><div class=\"e096ebd0-a16f-4156-a088-bc4f41564d1a\" style=\"display: none;\"><div style=\"display: table-cell;\"></div><div style=\"display: table-cell;\">tile_source&nbsp;=&nbsp;WMTSTileSource(id='bcf2d26c-a196-45d5-b619-b5f2f7772521', ...),</div></div><div class=\"e096ebd0-a16f-4156-a088-bc4f41564d1a\" style=\"display: none;\"><div style=\"display: table-cell;\"></div><div style=\"display: table-cell;\">visible&nbsp;=&nbsp;True,</div></div><div class=\"e096ebd0-a16f-4156-a088-bc4f41564d1a\" style=\"display: none;\"><div style=\"display: table-cell;\"></div><div style=\"display: table-cell;\">x_range_name&nbsp;=&nbsp;'default',</div></div><div class=\"e096ebd0-a16f-4156-a088-bc4f41564d1a\" style=\"display: none;\"><div style=\"display: table-cell;\"></div><div style=\"display: table-cell;\">y_range_name&nbsp;=&nbsp;'default')</div></div></div>\n",
       "<script>\n",
       "(function() {\n",
       "  var expanded = false;\n",
       "  var ellipsis = document.getElementById(\"450dcb60-2792-4649-9419-57737d2087fc\");\n",
       "  ellipsis.addEventListener(\"click\", function() {\n",
       "    var rows = document.getElementsByClassName(\"e096ebd0-a16f-4156-a088-bc4f41564d1a\");\n",
       "    for (var i = 0; i < rows.length; i++) {\n",
       "      var el = rows[i];\n",
       "      el.style.display = expanded ? \"none\" : \"table-row\";\n",
       "    }\n",
       "    ellipsis.innerHTML = expanded ? \"&hellip;)\" : \"&lsaquo;&lsaquo;&lsaquo;\";\n",
       "    expanded = !expanded;\n",
       "  });\n",
       "})();\n",
       "</script>\n"
      ],
      "text/plain": [
       "TileRenderer(id='18df2f37-df57-46e9-815d-dbdeaf6bf4ba', ...)"
      ]
     },
     "execution_count": 38,
     "metadata": {},
     "output_type": "execute_result"
    }
   ],
   "source": [
    "\"\"\" Problem 4 \"\"\"\n",
    "\n",
    "fig = Figure(plot_width=1100, plot_height=650,\n",
    "    x_range=(-13000000, -7000000), y_range=(2750000, 6250000),\n",
    "    tools=[\"wheel_zoom\", \"pan\"], active_scroll=\"wheel_zoom\", webgl=True)\n",
    "fig.axis.visible = False\n",
    "\n",
    "STAMEN_TONER_BACKGROUND = WMTSTileSource(\n",
    "    url='http://tile.stamen.com/toner-background/{Z}/{X}/{Y}.png',\n",
    "    attribution=(\n",
    "        'Map tiles by <a href=\"http://stamen.com\">Stamen Design</a>, '\n",
    "        'under <a href=\"http://creativecommons.org/licenses/by/3.0\">CC BY 3.0</a>.'\n",
    "        'Data by <a href=\"http://openstreetmap.org\">OpenStreetMap</a>, '\n",
    "        'under <a href=\"http://www.openstreetmap.org/copyright\">ODbL</a>'\n",
    "    )\n",
    ")\n",
    "\n",
    "fig.add_tile(STAMEN_TONER_BACKGROUND)"
   ]
  },
  {
   "cell_type": "code",
   "execution_count": 41,
   "metadata": {},
   "outputs": [],
   "source": [
    "\"\"\" Problem 6 \"\"\"\n",
    "\n",
    "#there is an overlap in drunk and speeding\n",
    "drunk = accidents[(accidents['DRUNK_DR'] == 1)]\n",
    "speeding = accidents[accidents[\"SP\"]==1]\n",
    "both = accidents[(accidents['DRUNK_DR'] == 1)&(accidents['SP'] == 1)]\n",
    "other = accidents[(accidents['DRUNK_DR'] == 0) & (accidents['SP'] == 0)]\n",
    "\n",
    "#ColumnDataSource\n",
    "circ_source = ColumnDataSource(drunk)\n",
    "circ_drunk = fig.circle(x='x', y='y', source = circ_source, fill_color = 'b')\n",
    "\n",
    "circ_source = ColumnDataSource(speeding)\n",
    "circ_speed = fig.circle(x='x', y='y', source = circ_source, fill_color = 'g')\n",
    "\n",
    "circ_source = ColumnDataSource(both)\n",
    "circ_both = fig.circle(x='x', y='y', source = circ_source, fill_color = 'r')\n",
    "\n",
    "circ_source = ColumnDataSource(other)\n",
    "circ_other = fig.circle(x='x', y='y', source = circ_source, fill_color = 'k')\n",
    "\n",
    "show(fig)"
   ]
  },
  {
   "cell_type": "code",
   "execution_count": null,
   "metadata": {
    "collapsed": true
   },
   "outputs": [],
   "source": []
  }
 ],
 "metadata": {
  "kernelspec": {
   "display_name": "Python 3",
   "language": "python",
   "name": "python3"
  },
  "language_info": {
   "codemirror_mode": {
    "name": "ipython",
    "version": 3
   },
   "file_extension": ".py",
   "mimetype": "text/x-python",
   "name": "python",
   "nbconvert_exporter": "python",
   "pygments_lexer": "ipython3",
   "version": "3.6.1"
  }
 },
 "nbformat": 4,
 "nbformat_minor": 2
}

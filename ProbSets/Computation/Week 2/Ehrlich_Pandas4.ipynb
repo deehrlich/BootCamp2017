{
 "cells": [
  {
   "cell_type": "code",
   "execution_count": 2,
   "metadata": {
    "collapsed": true
   },
   "outputs": [],
   "source": [
    "import numpy as np\n",
    "import pandas as pd\n",
    "from datetime import datetime\n",
    "import matplotlib.pyplot as plt\n",
    "%matplotlib inline"
   ]
  },
  {
   "cell_type": "code",
   "execution_count": 3,
   "metadata": {},
   "outputs": [
    {
     "data": {
      "text/html": [
       "<div>\n",
       "<style>\n",
       "    .dataframe thead tr:only-child th {\n",
       "        text-align: right;\n",
       "    }\n",
       "\n",
       "    .dataframe thead th {\n",
       "        text-align: left;\n",
       "    }\n",
       "\n",
       "    .dataframe tbody tr th {\n",
       "        vertical-align: top;\n",
       "    }\n",
       "</style>\n",
       "<table border=\"1\" class=\"dataframe\">\n",
       "  <thead>\n",
       "    <tr style=\"text-align: right;\">\n",
       "      <th></th>\n",
       "      <th>VALUE</th>\n",
       "    </tr>\n",
       "    <tr>\n",
       "      <th>DATE</th>\n",
       "      <th></th>\n",
       "    </tr>\n",
       "  </thead>\n",
       "  <tbody>\n",
       "    <tr>\n",
       "      <th>2006-09-27</th>\n",
       "      <td>11689.24</td>\n",
       "    </tr>\n",
       "    <tr>\n",
       "      <th>2006-09-28</th>\n",
       "      <td>11718.45</td>\n",
       "    </tr>\n",
       "    <tr>\n",
       "      <th>2006-09-29</th>\n",
       "      <td>11679.07</td>\n",
       "    </tr>\n",
       "    <tr>\n",
       "      <th>2006-10-02</th>\n",
       "      <td>11670.35</td>\n",
       "    </tr>\n",
       "    <tr>\n",
       "      <th>2006-10-03</th>\n",
       "      <td>11727.34</td>\n",
       "    </tr>\n",
       "  </tbody>\n",
       "</table>\n",
       "</div>"
      ],
      "text/plain": [
       "               VALUE\n",
       "DATE                \n",
       "2006-09-27  11689.24\n",
       "2006-09-28  11718.45\n",
       "2006-09-29  11679.07\n",
       "2006-10-02  11670.35\n",
       "2006-10-03  11727.34"
      ]
     },
     "execution_count": 3,
     "metadata": {},
     "output_type": "execute_result"
    }
   ],
   "source": [
    "\"\"\" Problem 1\"\"\"\n",
    "DJIA = pd.read_csv(\"/Users/Deehrlich/Desktop/BootCamp2017/Computation/Wk2_VisPandas/DJIA.csv\")\n",
    "DJIA.index = pd.to_datetime(DJIA[\"DATE\"], format = \"%Y-%m-%d\")\n",
    "DJIA[\"VALUE\"] = DJIA[\"VALUE\"].replace('.', np.nan).apply(np.float64)\n",
    "del DJIA['DATE']\n",
    "DJIA.head()"
   ]
  },
  {
   "cell_type": "code",
   "execution_count": 5,
   "metadata": {},
   "outputs": [
    {
     "data": {
      "text/html": [
       "<div>\n",
       "<style>\n",
       "    .dataframe thead tr:only-child th {\n",
       "        text-align: right;\n",
       "    }\n",
       "\n",
       "    .dataframe thead th {\n",
       "        text-align: left;\n",
       "    }\n",
       "\n",
       "    .dataframe tbody tr th {\n",
       "        vertical-align: top;\n",
       "    }\n",
       "</style>\n",
       "<table border=\"1\" class=\"dataframe\">\n",
       "  <thead>\n",
       "    <tr style=\"text-align: right;\">\n",
       "      <th></th>\n",
       "      <th>Paychecks</th>\n",
       "    </tr>\n",
       "  </thead>\n",
       "  <tbody>\n",
       "    <tr>\n",
       "      <th>2008-03-21</th>\n",
       "      <td>1122.26</td>\n",
       "    </tr>\n",
       "    <tr>\n",
       "      <th>2008-04-04</th>\n",
       "      <td>921.03</td>\n",
       "    </tr>\n",
       "    <tr>\n",
       "      <th>2008-04-18</th>\n",
       "      <td>962.46</td>\n",
       "    </tr>\n",
       "    <tr>\n",
       "      <th>2008-05-02</th>\n",
       "      <td>1035.97</td>\n",
       "    </tr>\n",
       "    <tr>\n",
       "      <th>2008-05-16</th>\n",
       "      <td>1078.59</td>\n",
       "    </tr>\n",
       "  </tbody>\n",
       "</table>\n",
       "</div>"
      ],
      "text/plain": [
       "            Paychecks\n",
       "2008-03-21    1122.26\n",
       "2008-04-04     921.03\n",
       "2008-04-18     962.46\n",
       "2008-05-02    1035.97\n",
       "2008-05-16    1078.59"
      ]
     },
     "execution_count": 5,
     "metadata": {},
     "output_type": "execute_result"
    }
   ],
   "source": [
    "\"\"\" Problem 2\"\"\"\n",
    "paychecks = pd.read_csv(\"/Users/Deehrlich/Desktop/BootCamp2017/Computation/Wk2_VisPandas/paychecks.csv\", names = [\"Paychecks\"])\n",
    "paychecks.index = pd.date_range(start='3/13/2008', periods = np.ceil(len(paychecks)/2), freq=\"WOM-1FRI\" ).union(\\\n",
    "                    pd.date_range(start='3/13/2008', periods = np.floor(len(paychecks)/2), freq=\"WOM-3FRI\" ))\n",
    "paychecks.head()"
   ]
  },
  {
   "cell_type": "code",
   "execution_count": 3,
   "metadata": {},
   "outputs": [
    {
     "data": {
      "text/html": [
       "<div>\n",
       "<style>\n",
       "    .dataframe thead tr:only-child th {\n",
       "        text-align: right;\n",
       "    }\n",
       "\n",
       "    .dataframe thead th {\n",
       "        text-align: left;\n",
       "    }\n",
       "\n",
       "    .dataframe tbody tr th {\n",
       "        vertical-align: top;\n",
       "    }\n",
       "</style>\n",
       "<table border=\"1\" class=\"dataframe\">\n",
       "  <thead>\n",
       "    <tr style=\"text-align: right;\">\n",
       "      <th></th>\n",
       "      <th>EARNINGS</th>\n",
       "      <th>EXPENSES</th>\n",
       "    </tr>\n",
       "  </thead>\n",
       "  <tbody>\n",
       "    <tr>\n",
       "      <th>1979Q1</th>\n",
       "      <td>372572.16</td>\n",
       "      <td>122611.27</td>\n",
       "    </tr>\n",
       "    <tr>\n",
       "      <th>1979Q2</th>\n",
       "      <td>419440.58</td>\n",
       "      <td>133176.18</td>\n",
       "    </tr>\n",
       "    <tr>\n",
       "      <th>1979Q3</th>\n",
       "      <td>419766.49</td>\n",
       "      <td>154670.69</td>\n",
       "    </tr>\n",
       "    <tr>\n",
       "      <th>1979Q4</th>\n",
       "      <td>361453.31</td>\n",
       "      <td>209360.42</td>\n",
       "    </tr>\n",
       "    <tr>\n",
       "      <th>1980Q1</th>\n",
       "      <td>354463.33</td>\n",
       "      <td>174147.13</td>\n",
       "    </tr>\n",
       "  </tbody>\n",
       "</table>\n",
       "</div>"
      ],
      "text/plain": [
       "         EARNINGS   EXPENSES\n",
       "1979Q1  372572.16  122611.27\n",
       "1979Q2  419440.58  133176.18\n",
       "1979Q3  419766.49  154670.69\n",
       "1979Q4  361453.31  209360.42\n",
       "1980Q1  354463.33  174147.13"
      ]
     },
     "execution_count": 3,
     "metadata": {},
     "output_type": "execute_result"
    }
   ],
   "source": [
    "\"\"\" Problem 4\"\"\"\n",
    "finances = pd.read_csv(\"/Users/Deehrlich/Desktop/BootCamp2017/Computation/Wk2_VisPandas/finances.csv\")\n",
    "finances.index = pd.period_range(\"1978-09\", periods = len(finances), freq = \"Q-AUG\")\n",
    "finances.head()"
   ]
  },
  {
   "cell_type": "code",
   "execution_count": 94,
   "metadata": {},
   "outputs": [
    {
     "name": "stdout",
     "output_type": "stream",
     "text": [
      "0 days 00:05:04.731647\n",
      "                     Visit Per Hour\n",
      "ENTER                              \n",
      "2016-10-07 01:00:00             618\n",
      "2016-10-07 02:00:00             655\n",
      "2016-10-07 03:00:00             670\n",
      "2016-10-07 04:00:00             632\n",
      "2016-10-07 05:00:00             672\n",
      "2016-10-07 06:00:00             602\n",
      "2016-10-07 07:00:00             660\n",
      "2016-10-07 08:00:00             650\n",
      "2016-10-07 09:00:00             665\n",
      "2016-10-07 10:00:00             647\n",
      "2016-10-07 11:00:00             605\n",
      "2016-10-07 12:00:00             646\n",
      "2016-10-07 13:00:00             670\n",
      "2016-10-07 14:00:00             628\n",
      "2016-10-07 15:00:00             607\n",
      "2016-10-07 16:00:00             683\n",
      "2016-10-07 17:00:00             632\n",
      "2016-10-07 18:00:00             629\n",
      "2016-10-07 19:00:00             702\n",
      "2016-10-07 20:00:00             644\n",
      "2016-10-07 21:00:00             641\n",
      "2016-10-07 22:00:00             677\n"
     ]
    }
   ],
   "source": [
    "\"\"\" Problem 5\"\"\"\n",
    "website = pd.read_csv(\"/Users/Deehrlich/Desktop/BootCamp2017/Computation/Wk2_VisPandas/website_traffic.csv\")\n",
    "website[\"TIME DIFF\"] = pd.to_datetime(website[\"LEAVE\"]) - pd.to_datetime(website[\"ENTER\"])\n",
    "daily_av_visit = website[\"TIME DIFF\"].mean()\n",
    "print(daily_av_visit)\n",
    "website.index = pd.to_datetime(website[\"ENTER\"])\n",
    "website[\"Visits Per Hour\"] = 1\n",
    "visit_per_hour = website.resample('H').sum()\n",
    "print(visit_per_hour)"
   ]
  },
  {
   "cell_type": "code",
   "execution_count": 98,
   "metadata": {},
   "outputs": [
    {
     "name": "stdout",
     "output_type": "stream",
     "text": [
      "936.42\n",
      "-777.68\n",
      "1556.75\n",
      "-1539.85\n"
     ]
    }
   ],
   "source": [
    "\"\"\" Problem 6\"\"\"\n",
    "\n",
    "difference = DJIA[\"VALUE\"] - DJIA[\"VALUE\"].shift(1)\n",
    "day_max_gain = difference.max()\n",
    "print(largest_gain)\n",
    "day_min_gain = difference.min()\n",
    "print(smallest_gain)\n",
    "\n",
    "month = DJIA.resample('M').first()\n",
    "monthdiff = month[\"VALUE\"] - month[\"VALUE\"].shift(1)\n",
    "month_max_gain = monthdiff.max()\n",
    "print(month_max_gain)\n",
    "month_min_gain = monthdiff.min()\n",
    "print(month_min_gain)"
   ]
  },
  {
   "cell_type": "code",
   "execution_count": 8,
   "metadata": {
    "scrolled": false
   },
   "outputs": [
    {
     "data": {
      "image/png": "[encoded data removed]",
      "text/plain": [
       "<matplotlib.figure.Figure at 0x1191ed358>"
      ]
     },
     "metadata": {},
     "output_type": "display_data"
    }
   ],
   "source": [
    "\"\"\" Problem 7\"\"\"\n",
    "\n",
    "DJIA['ROLL30'] = DJIA['VALUE'].rolling(window=30,min_periods=1,center=True,).mean()\n",
    "DJIA['ROLL365'] = DJIA['VALUE'].rolling(window=365,min_periods=1,center=True,).mean()\n",
    "DJIA[\"EWM30\"] = DJIA[\"VALUE\"].ewm(span=30).mean()\n",
    "DJIA[\"EWM365\"] = DJIA[\"VALUE\"].ewm(span=365).mean()\n",
    "\n",
    "DJIA.plot()\n",
    "plt.title(\"Dow Jones Industrial Average\")\n",
    "plt.ylabel(\"Values\")\n",
    "plt.xlabel(\"Date\")\n",
    "plt.legend()\n",
    "plt.show()"
   ]
  },
  {
   "cell_type": "code",
   "execution_count": 6,
   "metadata": {},
   "outputs": [
    {
     "data": {
      "text/plain": [
       "DATE\n",
       "2006-09-27   NaN\n",
       "2006-09-28   NaN\n",
       "2006-09-29   NaN\n",
       "2006-10-02   NaN\n",
       "2006-10-03   NaN\n",
       "2006-10-04   NaN\n",
       "2006-10-05   NaN\n",
       "2006-10-06   NaN\n",
       "2006-10-09   NaN\n",
       "2006-10-10   NaN\n",
       "2006-10-11   NaN\n",
       "2006-10-12   NaN\n",
       "2006-10-13   NaN\n",
       "2006-10-16   NaN\n",
       "2006-10-17   NaN\n",
       "2006-10-18   NaN\n",
       "2006-10-19   NaN\n",
       "2006-10-20   NaN\n",
       "2006-10-23   NaN\n",
       "2006-10-24   NaN\n",
       "2006-10-25   NaN\n",
       "2006-10-26   NaN\n",
       "2006-10-27   NaN\n",
       "2006-10-30   NaN\n",
       "2006-10-31   NaN\n",
       "2006-11-01   NaN\n",
       "2006-11-02   NaN\n",
       "2006-11-03   NaN\n",
       "2006-11-06   NaN\n",
       "2006-11-07   NaN\n",
       "              ..\n",
       "2016-08-16   NaN\n",
       "2016-08-17   NaN\n",
       "2016-08-18   NaN\n",
       "2016-08-19   NaN\n",
       "2016-08-22   NaN\n",
       "2016-08-23   NaN\n",
       "2016-08-24   NaN\n",
       "2016-08-25   NaN\n",
       "2016-08-26   NaN\n",
       "2016-08-29   NaN\n",
       "2016-08-30   NaN\n",
       "2016-08-31   NaN\n",
       "2016-09-01   NaN\n",
       "2016-09-02   NaN\n",
       "2016-09-05   NaN\n",
       "2016-09-06   NaN\n",
       "2016-09-07   NaN\n",
       "2016-09-08   NaN\n",
       "2016-09-09   NaN\n",
       "2016-09-12   NaN\n",
       "2016-09-13   NaN\n",
       "2016-09-14   NaN\n",
       "2016-09-15   NaN\n",
       "2016-09-16   NaN\n",
       "2016-09-19   NaN\n",
       "2016-09-20   NaN\n",
       "2016-09-21   NaN\n",
       "2016-09-22   NaN\n",
       "2016-09-23   NaN\n",
       "2016-09-26   NaN\n",
       "Name: ROLL365, Length: 2609, dtype: float64"
      ]
     },
     "execution_count": 6,
     "metadata": {},
     "output_type": "execute_result"
    }
   ],
   "source": [
    "DJIA['ROLL365']"
   ]
  },
  {
   "cell_type": "code",
   "execution_count": null,
   "metadata": {
    "collapsed": true
   },
   "outputs": [],
   "source": []
  }
 ],
 "metadata": {
  "kernelspec": {
   "display_name": "Python 3",
   "language": "python",
   "name": "python3"
  },
  "language_info": {
   "codemirror_mode": {
    "name": "ipython",
    "version": 3
   },
   "file_extension": ".py",
   "mimetype": "text/x-python",
   "name": "python",
   "nbconvert_exporter": "python",
   "pygments_lexer": "ipython3",
   "version": "3.6.1"
  }
 },
 "nbformat": 4,
 "nbformat_minor": 2
}

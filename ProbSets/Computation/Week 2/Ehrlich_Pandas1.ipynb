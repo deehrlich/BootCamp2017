{
 "cells": [
  {
   "cell_type": "code",
   "execution_count": 11,
   "metadata": {
    "collapsed": true
   },
   "outputs": [],
   "source": [
    "import numpy as np\n",
    "import pandas as pd\n",
    "import matplotlib.pyplot as plt"
   ]
  },
  {
   "cell_type": "code",
   "execution_count": 13,
   "metadata": {},
   "outputs": [
    {
     "name": "stdout",
     "output_type": "stream",
     "text": [
      "Bill     31\n",
      "Jane     34\n",
      "Joe      26\n",
      "Sarah    28\n",
      "dtype: int64\n",
      "2    -3\n",
      "4    -3\n",
      "6    -3\n",
      "8    -3\n",
      "10   -3\n",
      "dtype: int64\n"
     ]
    }
   ],
   "source": [
    "\"\"\" Problem 1 \"\"\"\n",
    "\n",
    "people = {'Bill': 31, 'Sarah': 28, 'Jane': 34, 'Joe': 26}\n",
    "s1 = pd.Series(people)\n",
    "\n",
    "val = -3\n",
    "n = 5\n",
    "s2 = pd.Series(val, index = 2 * (np.arange(n) +1))\n",
    "\n",
    "print(s1)\n",
    "print(s2)"
   ]
  },
  {
   "cell_type": "code",
   "execution_count": 12,
   "metadata": {},
   "outputs": [
    {
     "data": {
      "image/png": "[encoded data removed]",
      "text/plain": [
       "<matplotlib.figure.Figure at 0x112896160>"
      ]
     },
     "metadata": {},
     "output_type": "display_data"
    }
   ],
   "source": [
    "\"\"\" Problem 2 \"\"\"\n",
    "N = 1000\n",
    "s = np.zeros(N)\n",
    "s[1:] = np.random.binomial(1, .5, size=(N-1,))*2-1 #coin flips\n",
    "s = pd.Series(s)\n",
    "s = s.cumsum()  # random walk\n",
    "s.plot()\n",
    "plt.ylim([-50, 50])\n",
    "plt.show()\n",
    "plt.close()"
   ]
  },
  {
   "cell_type": "code",
   "execution_count": null,
   "metadata": {
    "collapsed": true
   },
   "outputs": [],
   "source": [
    "\"\"\" Problem 3 \"\"\""
   ]
  },
  {
   "cell_type": "code",
   "execution_count": null,
   "metadata": {
    "collapsed": true
   },
   "outputs": [],
   "source": [
    "\"\"\" Problem 4 \"\"\""
   ]
  },
  {
   "cell_type": "code",
   "execution_count": null,
   "metadata": {
    "collapsed": true
   },
   "outputs": [],
   "source": [
    "\"\"\" Problem 5 \"\"\""
   ]
  }
 ],
 "metadata": {
  "kernelspec": {
   "display_name": "Python 3",
   "language": "python",
   "name": "python3"
  },
  "language_info": {
   "codemirror_mode": {
    "name": "ipython",
    "version": 3
   },
   "file_extension": ".py",
   "mimetype": "text/x-python",
   "name": "python",
   "nbconvert_exporter": "python",
   "pygments_lexer": "ipython3",
   "version": "3.6.1"
  }
 },
 "nbformat": 4,
 "nbformat_minor": 2
}

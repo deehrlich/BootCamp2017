{
 "cells": [
  {
   "cell_type": "code",
   "execution_count": 117,
   "metadata": {},
   "outputs": [
    {
     "data": {
      "text/plain": [
       "'\\nDan Ehrlich\\n6/20/18\\n\\nOSM Lab\\nIntro to Numpy Module\\n'"
      ]
     },
     "execution_count": 117,
     "metadata": {},
     "output_type": "execute_result"
    }
   ],
   "source": [
    "\"\"\"\n",
    "Dan Ehrlich\n",
    "6/20/18\n",
    "\n",
    "OSM Lab\n",
    "Intro to Numpy Module\n",
    "\"\"\""
   ]
  },
  {
   "cell_type": "code",
   "execution_count": 2,
   "metadata": {
    "collapsed": true
   },
   "outputs": [],
   "source": [
    "import numpy as np"
   ]
  },
  {
   "cell_type": "code",
   "execution_count": 3,
   "metadata": {},
   "outputs": [
    {
     "data": {
      "text/plain": [
       "array([[ 37,  14, -32, -10],\n",
       "       [-54,  -7,  58,  65]])"
      ]
     },
     "execution_count": 3,
     "metadata": {},
     "output_type": "execute_result"
    }
   ],
   "source": [
    "'''\n",
    "Problem 1\n",
    "'''\n",
    "def prob1(A,B):\n",
    "    '''\n",
    "    Function takes two matrices and takes their dot product.\n",
    "\n",
    "    Input:\n",
    "    A - Matrix that is n by m\n",
    "    B - matrix that is m by n\n",
    "    \n",
    "    Output:\n",
    "    Matrix dot product of A * B\n",
    "    '''\n",
    "    return A.dot(B)\n",
    "\n",
    "\n",
    "A = np.array([[3, -1, 4], [1, 5, -9]])\n",
    "B = np.array([[2,6,-5,3],[5,-8,9,7],[9, -3,-2,-3]])\n",
    "prob1(A,B)"
   ]
  },
  {
   "cell_type": "code",
   "execution_count": 120,
   "metadata": {},
   "outputs": [
    {
     "data": {
      "text/plain": [
       "array([[0, 0, 0],\n",
       "       [0, 0, 0],\n",
       "       [0, 0, 0]])"
      ]
     },
     "execution_count": 120,
     "metadata": {},
     "output_type": "execute_result"
    }
   ],
   "source": [
    "'''\n",
    "Problem 2\n",
    "'''\n",
    "def prob2(A):\n",
    "    '''\n",
    "    Function takes a matrix and returns -A^3 + 9A^2 -15A.\n",
    "\n",
    "    Input:\n",
    "    A - Matrix that is n by n\n",
    "    \n",
    "    Output:\n",
    "    Matrix dot that is -A^3 + 9A^2 -15A\n",
    "    '''\n",
    "    return -np.linalg.matrix_power(A, 3) + 9*np.linalg.matrix_power(A, 2) - 15*A\n",
    "\n",
    "A = np.array([[3,1,4],[1,5,9],[-5,3,1]])\n",
    "prob2(A)"
   ]
  },
  {
   "cell_type": "code",
   "execution_count": 121,
   "metadata": {},
   "outputs": [
    {
     "name": "stdout",
     "output_type": "stream",
     "text": [
      "[[ -7  -8  -3   8  25  48  77]\n",
      " [ -6 -12 -12  -6   6  24  48]\n",
      " [ -5 -10 -15 -14  -7   6  25]\n",
      " [ -4  -8 -12 -16 -14  -6   8]\n",
      " [ -3  -6  -9 -12 -15 -12  -3]\n",
      " [ -2  -4  -6  -8 -10 -12  -8]\n",
      " [ -1  -2  -3  -4  -5  -6  -7]]\n",
      "int64\n"
     ]
    }
   ],
   "source": [
    "\"\"\"\n",
    "Problem 3\n",
    "\"\"\"\n",
    "def prob3(A,B):\n",
    "    '''\n",
    "    Function takes two matrices and returns ABA.\n",
    "\n",
    "    Input:\n",
    "    A - Matrix that is n by n\n",
    "    B - matrix that is n by n\n",
    "    \n",
    "    Output:\n",
    "    Matrix dot product of ABA with type changed to np.int64\n",
    "    '''\n",
    "    answer = A.dot(B).dot(A)\n",
    "    answer = answer.astype(np.int64)\n",
    "    return answer\n",
    "\n",
    "A= np.triu(np.ones((7,7)))\n",
    "B = np.tril(np.full_like(A, -6)) + np.full_like(A, 5)\n",
    "print(prob3(A,B))\n",
    "print(prob3(A,B).dtype)"
   ]
  },
  {
   "cell_type": "code",
   "execution_count": 122,
   "metadata": {},
   "outputs": [
    {
     "data": {
      "text/plain": [
       "array([5, 6, 7, 0, 0, 0])"
      ]
     },
     "execution_count": 122,
     "metadata": {},
     "output_type": "execute_result"
    }
   ],
   "source": [
    "\"\"\"\n",
    "Problem 4\n",
    "\"\"\"\n",
    "def prob4(A):\n",
    "    '''\n",
    "    Function takes array as input and returns a copy of array with negative entires set to 0.\n",
    "\n",
    "    Input:\n",
    "    A  - array of any shape\n",
    "    \n",
    "    Output:\n",
    "    Copy of array with negative entires set to 0.\n",
    "    '''\n",
    "    \n",
    "    B = A.copy()\n",
    "    mask = B < 0\n",
    "    B[mask] = 0\n",
    "    return B\n",
    "\n",
    "A = np.array([5,6,7,-1,-2,-3])\n",
    "prob4(A)"
   ]
  },
  {
   "cell_type": "code",
   "execution_count": 123,
   "metadata": {},
   "outputs": [
    {
     "data": {
      "text/plain": [
       "array([[ 0.,  0.,  0.,  0.,  1.,  1.,  0.,  0.],\n",
       "       [ 0.,  0.,  0.,  2.,  3.,  0.,  1.,  0.],\n",
       "       [ 0.,  0.,  0.,  4.,  5.,  0.,  0.,  1.],\n",
       "       [ 0.,  2.,  4.,  0.,  0.,  0.,  0.,  0.],\n",
       "       [ 1.,  3.,  5.,  0.,  0.,  0.,  0.,  0.],\n",
       "       [ 3.,  0.,  0.,  0.,  0., -2.,  0.,  0.],\n",
       "       [ 3.,  3.,  0.,  0.,  0.,  0., -2.,  0.],\n",
       "       [ 3.,  3.,  3.,  0.,  0.,  0.,  0., -2.]])"
      ]
     },
     "execution_count": 123,
     "metadata": {},
     "output_type": "execute_result"
    }
   ],
   "source": [
    "\"\"\"\n",
    "Problem 5\n",
    "\"\"\"\n",
    "\n",
    "def prob5(A,B,C):\n",
    "    '''\n",
    "    Function takes three matrices as inputs and returns stacked matrix\n",
    "\n",
    "    Input:\n",
    "    A - Matrix that is n by n\n",
    "    B - Matrix that is n by n\n",
    "    C - Matrix that is n by n\n",
    "    \n",
    "    Output:\n",
    "    Stacked Matrix \n",
    "    '''\n",
    "    I = np.eye(C.shape[0])\n",
    "    AT = A.T\n",
    "    zero1 = np.zeros((AT.shape[0],A.shape[1]))\n",
    "    zero2 = np.zeros((A.shape[0],AT.shape[1]))\n",
    "    zero3 = np.zeros((A.shape[0],I.shape[1]))\n",
    "    zero4 = np.zeros((B.shape[0],AT.shape[1]))\n",
    "    \n",
    "    return np.vstack((np.hstack((zero1,AT,I)), np.hstack((A,zero2,zero3)), np.hstack((B, zero4, C))))\n",
    "\n",
    "\n",
    "A = np.arange(6).reshape((3,2)).T\n",
    "B = np.tril(np.full((3, 3), 3))\n",
    "C = np.diag([-2, -2, -2])\n",
    "prob5(A,B,C)"
   ]
  },
  {
   "cell_type": "code",
   "execution_count": 16,
   "metadata": {},
   "outputs": [
    {
     "data": {
      "text/plain": [
       "array([[ 0.        ,  1.        ],\n",
       "       [ 0.4       ,  0.6       ],\n",
       "       [ 0.44444444,  0.55555556]])"
      ]
     },
     "execution_count": 16,
     "metadata": {},
     "output_type": "execute_result"
    }
   ],
   "source": [
    "\"\"\"\n",
    "Problem 6\n",
    "\"\"\"\n",
    "\n",
    "def prob6(A):\n",
    "    \"\"\"\n",
    "    Function takes matrix as input and divides each row by the row sum and \n",
    "    returns a row stochastic matrix. \n",
    "    \n",
    "    Input: \n",
    "    A - Matrix that is n by m\n",
    "    \n",
    "    Output: \n",
    "    Row stochastic matrix\n",
    "    \"\"\"\n",
    "    \n",
    "    B = A.copy().astype(np.float64)\n",
    "    rowsum = B.sum(axis = 1)[None,:].T\n",
    "    return B/rowsum\n",
    "\n",
    "A = np.arange(6).reshape((3,2))\n",
    "prob6(A)"
   ]
  },
  {
   "cell_type": "code",
   "execution_count": 30,
   "metadata": {},
   "outputs": [
    {
     "data": {
      "text/plain": [
       "70600674"
      ]
     },
     "execution_count": 30,
     "metadata": {},
     "output_type": "execute_result"
    }
   ],
   "source": [
    "\"\"\"\n",
    "Problem 7\n",
    "\"\"\"\n",
    "\n",
    "def prob7(grid):\n",
    "    \"\"\"\n",
    "    Find the greatest product of four adjacent numbers in the same direction in a grid\n",
    "    \n",
    "    Input:\n",
    "    Grid  - numpy array\n",
    "    \n",
    "    Output: \n",
    "    Maximum value - numpy array\n",
    "    \"\"\"\n",
    "    \n",
    "    maxright = np.max(grid[:,:-3]*grid[:,1:-2]*grid[:,2:-1]*grid[:,3:])\n",
    "    maxdown = np.max(grid[:-3,:]*grid[1:-2,:]*grid[2:-1,:]*grid[3:,:])\n",
    "    maxdiagr = np.max(grid[:-3,:-3]*grid[1:-2,1:-2]*grid[2:-1,2:-1]*grid[3:,3:])\n",
    "    maxdiagl = np.max(grid[3:,:-3]*grid[2:-1,1:-2]*grid[1:-2,2:-1]*grid[:-3,3:])\n",
    "    maxright = max(maxright, maxdown, maxdiagr, maxdiagl)\n",
    "    return maxright\n",
    "\n",
    "grid = np.load(\"/Users/Deehrlich/Desktop/BootCamp2017/Computation/Wk1_PyIntro/grid.npy\")\n",
    "prob7(grid)"
   ]
  }
 ],
 "metadata": {
  "kernelspec": {
   "display_name": "Python 3",
   "language": "python",
   "name": "python3"
  },
  "language_info": {
   "codemirror_mode": {
    "name": "ipython",
    "version": 3
   },
   "file_extension": ".py",
   "mimetype": "text/x-python",
   "name": "python",
   "nbconvert_exporter": "python",
   "pygments_lexer": "ipython3",
   "version": "3.6.1"
  }
 },
 "nbformat": 4,
 "nbformat_minor": 2
}

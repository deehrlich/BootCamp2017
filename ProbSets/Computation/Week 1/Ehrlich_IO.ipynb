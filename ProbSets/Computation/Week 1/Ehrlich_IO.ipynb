{
 "cells": [
  {
   "cell_type": "code",
   "execution_count": null,
   "metadata": {
    "collapsed": true
   },
   "outputs": [],
   "source": [
    "\"\"\"\n",
    "Dan Ehrlich\n",
    "6/22/17\n",
    "\n",
    "OSM Lab\n",
    "Exception and File I/0 Module\n",
    "\"\"\""
   ]
  },
  {
   "cell_type": "code",
   "execution_count": 22,
   "metadata": {},
   "outputs": [
    {
     "name": "stdout",
     "output_type": "stream",
     "text": [
      "Enter a 3-digit number where the first and last digits differ by 2 or more: 123\n",
      "Enter the reverse of the first number, obtained by reading it backwards: 321\n",
      "Enter the positive difference of these numbers: 198\n",
      "Enter the reverse of the previous result: 891\n",
      "198 + 891 = 1089 (ta-da!)\n"
     ]
    }
   ],
   "source": [
    "\"\"\"\n",
    "Problem 1\n",
    "\"\"\"\n",
    "\n",
    "def arithmagic():\n",
    "    step_1 = input(\"Enter a 3-digit number where the first and last \"\n",
    "                                           \"digits differ by 2 or more: \")\n",
    "    \n",
    "    if len(step_1) != 3:\n",
    "        raise ValueError(\"You can only enter a 3-digit number.\")\n",
    "    \n",
    "    if int(step_1[2]) - int(step_1[0]) < 2:\n",
    "        raise ValueError(\"The first and last digits should differ by more than 2\")\n",
    "    \n",
    "    step_2 = input(\"Enter the reverse of the first number, obtained \"\n",
    "                                              \"by reading it backwards: \")\n",
    "    \n",
    "    if step_1 != step_2[::-1]:\n",
    "        raise ValueError(\"The second number must be the reverse of the first.\")\n",
    "    \n",
    "    step_3 = input(\"Enter the positive difference of these numbers: \")\n",
    "    \n",
    "    if int(step_2) - int(step_1) != int(step_3):\n",
    "        raise ValueError(\"The third number entered is not the difference between the second and the first number.\")\n",
    "        \n",
    "    step_4 = input(\"Enter the reverse of the previous result: \")\n",
    "    \n",
    "    if step_3 != step_4[::-1]:\n",
    "        raise ValueError(\"The fourth number must be the reverse of the third.\") \n",
    "    \n",
    "    print (str(step_3) + \" + \" + str(step_4) + \" = 1089 (ta-da!)\")\n",
    "    \n",
    "arithmagic()"
   ]
  },
  {
   "cell_type": "code",
   "execution_count": 30,
   "metadata": {},
   "outputs": [
    {
     "name": "stdout",
     "output_type": "stream",
     "text": [
      "Process interrupted at iteration 6907256\n"
     ]
    },
    {
     "data": {
      "text/plain": [
       "-1882"
      ]
     },
     "execution_count": 30,
     "metadata": {},
     "output_type": "execute_result"
    }
   ],
   "source": [
    "\"\"\"\n",
    "Problem 2\n",
    "\"\"\"\n",
    "\n",
    "from random import choice\n",
    "\n",
    "def random_walk(max_iters=1e12):\n",
    "    walk = 0\n",
    "    direction = [1, -1]\n",
    "    \n",
    "    try:\n",
    "        for i in range(int(max_iters)):\n",
    "            walk += choice(direction)\n",
    "    except KeyboardInterrupt as e:\n",
    "        print(\"Process interrupted at iteration \" + str(i))\n",
    "    else:\n",
    "        print(\"Process completed.\") \n",
    "    finally:\n",
    "        return walk\n",
    "\n",
    "random_walk()"
   ]
  },
  {
   "cell_type": "code",
   "execution_count": 34,
   "metadata": {
    "collapsed": true
   },
   "outputs": [],
   "source": [
    "\"\"\"\n",
    "Problem 3 and 4\n",
    "\"\"\"\n",
    "\n",
    "class ContentFilter(object):\n",
    "    \n",
    "    def __init__(self, name): \n",
    "    \n",
    "        if type(name) != str:\n",
    "            raise ValueError(\"The name of the file must be a string\")\n",
    "        self.name = name      \n",
    "        with open(self.name, 'r') as infile: \n",
    "            self.contents = infile.read()           \n",
    "            \n",
    "    def uniform(self, mode = \"w\", case = \"upper\"):\n",
    "        \n",
    "        if mode != 'w' or mode != 'a':\n",
    "            raise ValueError(\"Mode must be w or a.\")\n",
    "        \n",
    "        if case != \"upper\" or case != \"lower\":\n",
    "            raise ValueError(\"Case must be upper or lower.\")\n",
    "        \n",
    "        if case == \"upper\":\n",
    "            output = self.contents.upper()\n",
    "        else:\n",
    "            output = self.contents.lower()\n",
    "            \n",
    "        with open(self.name, mode) as outfile:\n",
    "            outfile.write(output)\n",
    "    \n",
    "    def reverse(self, mode = \"w\", unit = \"line\"):\n",
    "        \n",
    "        if mode != 'w' or mode != 'a':\n",
    "            raise ValueError(\"Mode must be w or a.\")\n",
    "            \n",
    "        if unit != \"word\" or unit != \"line\":\n",
    "            raise ValueError(\"Unit must be word or line.\")\n",
    "           \n",
    "        lines = self.contents.split(\"\\n\")\n",
    "        if unit == \"word\":\n",
    "            for line in lines:\n",
    "                words = line.split()\n",
    "                line = words[::-1]\n",
    "                line = \" \".join(line)\n",
    "            output = \"\\n\".join(lines)\n",
    "        else:\n",
    "            reverse = lines[::-1]\n",
    "            output = \"\\n\".join(reverse)\n",
    "          \n",
    "        with open(self.name, mode) as outfile:\n",
    "            outfile.write(output)\n",
    "        \n",
    "    def transpose(self, mode):\n",
    "        \n",
    "        if mode != 'w' or mode != 'a':\n",
    "            raise ValueError(\"Mode must be w or a.\")\n",
    "            \n",
    "        lines = self.contents.split(\"\\n\")\n",
    "        output = []\n",
    "        for i in range(len(lines)): \n",
    "            newline = []\n",
    "            for j in range(len(lines)):\n",
    "                words = []\n",
    "                words = lines[j].split()\n",
    "                newline.append(words[i])\n",
    "            newline = \" \".join(newline)\n",
    "            output.append(newline)\n",
    "        \n",
    "        output = \"\\n\".join(output)\n",
    "        with open(self.name, mode) as outfile:\n",
    "            outfile.write(output)\n",
    "            \n",
    "            \n",
    "    def count(self):\n",
    "        total = len(self.contents)\n",
    "        letters   = sum(c.isalpha() for c in self.contents)\n",
    "        numbers = sum(c.isdigit() for c in self.contents)\n",
    "        spaces  = sum(c.isspace() for c in self.contents)\n",
    "        lines = len(self.contents.split('\\n'))\n",
    "        \n",
    "        return total, letters, numbers, spaces, lines\n",
    "    \n",
    "    def __str__(self):\n",
    "        \n",
    "        total, letters, numbers, spaces, lines = self.count()\n",
    "        \n",
    "        return \"\\nSource File:\\t\\t\\t\" + str(self.name) \\\n",
    "        + \"\\nTotal Characters:\\t\\t\" + str(total)\\\n",
    "        + \"\\nAlphabetic Characters:\\t\\t\" + str(letters) \\\n",
    "        + \"\\nNumberical Characters:\\t\" + str(numbers) \\\n",
    "        + \"\\nWhitespace Characters:\\t\" + str(spaces) \\\n",
    "        + \"\\nNumber of lines:\\t\" + str(lines)"
   ]
  },
  {
   "cell_type": "code",
   "execution_count": null,
   "metadata": {
    "collapsed": true
   },
   "outputs": [],
   "source": []
  }
 ],
 "metadata": {
  "kernelspec": {
   "display_name": "Python 3",
   "language": "python",
   "name": "python3"
  },
  "language_info": {
   "codemirror_mode": {
    "name": "ipython",
    "version": 3
   },
   "file_extension": ".py",
   "mimetype": "text/x-python",
   "name": "python",
   "nbconvert_exporter": "python",
   "pygments_lexer": "ipython3",
   "version": "3.6.1"
  }
 },
 "nbformat": 4,
 "nbformat_minor": 2
}

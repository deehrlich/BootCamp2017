{
 "cells": [
  {
   "cell_type": "code",
   "execution_count": 25,
   "metadata": {
    "collapsed": true
   },
   "outputs": [],
   "source": [
    "import numpy as np\n",
    "from scipy import linalg as la\n",
    "from scipy.sparse import csgraph"
   ]
  },
  {
   "cell_type": "code",
   "execution_count": 18,
   "metadata": {},
   "outputs": [
    {
     "name": "stdout",
     "output_type": "stream",
     "text": [
      "True\n",
      "True\n"
     ]
    }
   ],
   "source": [
    "\"\"\" Problem 1 \"\"\"\n",
    "\n",
    "def drazin(A,k,AD):\n",
    "\n",
    "    if np.allclose(A@AD, AD@A) and \\\n",
    "    np.allclose(np.linalg.matrix_power(A,k+1)@AD, np.linalg.matrix_power(A,k)) and \\\n",
    "    np.allclose(AD@A@AD,AD):\n",
    "        return True\n",
    "    else:\n",
    "        return False\n",
    "\n",
    "A = np.array([[1,3,0,0],[0,1,3,0],[0,0,1,3],[0,0,0,0]])\n",
    "AD = np.array([[1,-3,9,81],[0,1,-3,-18],[0,0,1,3],[0,0,0,0]])\n",
    "Ak = 1\n",
    "\n",
    "B = np.array([[1,1,3],[5,2,6],[-2,-1,-3]])\n",
    "BD = np.zeros_like(B)\n",
    "Bk = 3\n",
    "\n",
    "print(drazin(A,Ak,AD))\n",
    "print(drazin(B,Bk,BD))"
   ]
  },
  {
   "cell_type": "code",
   "execution_count": 24,
   "metadata": {},
   "outputs": [
    {
     "name": "stdout",
     "output_type": "stream",
     "text": [
      "[[  1.  -3.   9.  81.]\n",
      " [  0.   1.  -3. -18.]\n",
      " [  0.   0.   1.   3.]\n",
      " [  0.   0.   0.   0.]]\n",
      "True\n",
      "[[ 0.  0.  0.]\n",
      " [ 0.  0.  0.]\n",
      " [ 0.  0.  0.]]\n",
      "True\n"
     ]
    }
   ],
   "source": [
    "\"\"\" Problem 2 \"\"\"\n",
    "\n",
    "def get_Drazin(A,tol):\n",
    "    n,n = A.shape\n",
    "    f = lambda x: abs(x) > tol\n",
    "    g = lambda x: abs(x) <= tol\n",
    "    Q1,S,k1 = la.schur(A, sort=f)\n",
    "    Q2,T,k2 = la.schur(A, sort=g)\n",
    "    U = np.concatenate((S[:,:k1],T[:,:n-k1]),axis = 1)\n",
    "    UI = la.inv(U)\n",
    "    V = UI@A@U\n",
    "    Z = np.zeros((n,n))\n",
    "    if k1 != 0:\n",
    "        MI = la.inv(V[:k1,:k1])\n",
    "        Z[:k1,:k1] = MI\n",
    "    return U@Z@UI\n",
    "\n",
    "AD = get_Drazin(A,1e-5)\n",
    "print(AD)\n",
    "print(drazin(A,1,AD))\n",
    "\n",
    "BD = get_Drazin(B,1e-5)\n",
    "print(BD)\n",
    "print(drazin(B,3,BD))"
   ]
  },
  {
   "cell_type": "code",
   "execution_count": null,
   "metadata": {
    "collapsed": true
   },
   "outputs": [],
   "source": [
    "\"\"\" Problem 3 \"\"\"\n",
    "\n",
    "def eff_resistance(A):\n",
    "    n,n = A.shape\n",
    "    L = csgraph.laplacian(A)\n",
    "    R = np.empty_like(A)\n",
    "    I = np.eye(a)\n",
    "    for j in range(n):\n",
    "        Lj = L.copy()\n",
    "        Lj[j,:] = I[j,:]\n",
    "        LjD = get_Drazin(Lj, 1e-5)\n",
    "        R[i,:] = np.diag(LjD)\n",
    "        R[i,i] = 0\n",
    "    return R\n"
   ]
  },
  {
   "cell_type": "code",
   "execution_count": null,
   "metadata": {
    "collapsed": true
   },
   "outputs": [],
   "source": [
    "\"\"\" Problem 4 \"\"\"\n",
    "\n",
    "class LinkPredictor:\n",
    "    \n",
    "    def __init__(self, filename):\n",
    "    "
   ]
  }
 ],
 "metadata": {
  "kernelspec": {
   "display_name": "Python 3",
   "language": "python",
   "name": "python3"
  },
  "language_info": {
   "codemirror_mode": {
    "name": "ipython",
    "version": 3
   },
   "file_extension": ".py",
   "mimetype": "text/x-python",
   "name": "python",
   "nbconvert_exporter": "python",
   "pygments_lexer": "ipython3",
   "version": "3.6.1"
  }
 },
 "nbformat": 4,
 "nbformat_minor": 2
}

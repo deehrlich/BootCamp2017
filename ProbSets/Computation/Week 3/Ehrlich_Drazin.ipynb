{
 "cells": [
  {
   "cell_type": "code",
   "execution_count": 3,
   "metadata": {
    "collapsed": true
   },
   "outputs": [],
   "source": [
    "import numpy as np"
   ]
  },
  {
   "cell_type": "code",
   "execution_count": null,
   "metadata": {
    "collapsed": true
   },
   "outputs": [],
   "source": [
    "\"\"\"Problems 1-4\"\"\""
   ]
  },
  {
   "cell_type": "code",
   "execution_count": 26,
   "metadata": {},
   "outputs": [
    {
     "name": "stdout",
     "output_type": "stream",
     "text": [
      "False\n",
      "False\n"
     ]
    }
   ],
   "source": [
    "\"\"\" Problem 1 \"\"\"\n",
    "\n",
    "def drazin(A,k,AD):\n",
    "\n",
    "    if np.allclose(A@AD, AD@A) and np.allclose(A**(k+1)@AD, A**k) and np.allclose(AD@A@AD,AD):\n",
    "        return True\n",
    "    else:\n",
    "        return False\n",
    "\n",
    "A = np.array([[1,3,0,0],[0,1,3,0],[0,0,1,3],[0,0,0,0]])\n",
    "AD = np.array([[1,-3,9,81],[0,1,-3,-18],[0,0,1,3],[0,0,0,0]])\n",
    "Ak = 1\n",
    "\n",
    "B = np.array([[1,1,3],[5,2,6],[-2,-1,-3]])\n",
    "BD = np.zeros_like(B)\n",
    "Bk = 3\n",
    "\n",
    "print(drazin(A,Ak,AD))\n",
    "print(drazin(B,Bk,BD))"
   ]
  },
  {
   "cell_type": "code",
   "execution_count": null,
   "metadata": {
    "collapsed": true
   },
   "outputs": [],
   "source": [
    "\"\"\" Problem 2 \"\"\"\n",
    "\n",
    "def get_Drazin(A,tol):\n",
    "    n,n = shape.A"
   ]
  }
 ],
 "metadata": {
  "kernelspec": {
   "display_name": "Python 3",
   "language": "python",
   "name": "python3"
  },
  "language_info": {
   "codemirror_mode": {
    "name": "ipython",
    "version": 3
   },
   "file_extension": ".py",
   "mimetype": "text/x-python",
   "name": "python",
   "nbconvert_exporter": "python",
   "pygments_lexer": "ipython3",
   "version": "3.6.1"
  }
 },
 "nbformat": 4,
 "nbformat_minor": 2
}

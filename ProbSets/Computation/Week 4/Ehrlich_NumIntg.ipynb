{
 "cells": [
  {
   "cell_type": "code",
   "execution_count": 76,
   "metadata": {
    "collapsed": true
   },
   "outputs": [],
   "source": [
    "import math\n",
    "import scipy\n",
    "import numpy as np\n",
    "from scipy.stats import norm \n",
    "import scipy.optimize as opt\n",
    "import matplotlib.pyplot as plt"
   ]
  },
  {
   "cell_type": "code",
   "execution_count": 77,
   "metadata": {},
   "outputs": [
    {
     "name": "stdout",
     "output_type": "stream",
     "text": [
      "Midpoint Error: -1.36857333333\n",
      "Trapezoid Error: 2.73722666667\n",
      "Simpsons Error: 2.66666672057e-05\n"
     ]
    }
   ],
   "source": [
    "\"\"\" Problem 1 \"\"\"\n",
    "\n",
    "def Newton_Cotes(g, a, b, N, method):\n",
    "    interval = (b - a)/N\n",
    "    if method == \"midpoint\":\n",
    "        x = np.linspace(a + interval / 2 , b - interval / 2, N)\n",
    "        summation = g(x).sum()\n",
    "        return interval * summation\n",
    "    elif method == \"trapezoid\":\n",
    "        x = np.linspace(a + interval, b - interval, N-1)\n",
    "        summation = g(a) + g(b) + 2 * g(x).sum()\n",
    "        return interval /2 * summation\n",
    "    elif method == \"Simpsons\":\n",
    "        x= np.linspace(a + interval / 2 , b - interval / 2, 2*N-1)\n",
    "        summation = g(a) + g(b) + 4* g(x[::2]).sum() + 2* g(x[1::2]).sum()\n",
    "        return interval / 6 * summation\n",
    "    \n",
    "g = lambda x: 0.1* (x**4) -1.5 * (x**3) + 0.53 * (x**2) + 2 * x + 1\n",
    "print(\"Midpoint Error:\", Newton_Cotes(g, -10, 10, 100, \"midpoint\") - 4373 - 1/3)\n",
    "print(\"Trapezoid Error:\", Newton_Cotes(g, -10, 10, 100, \"trapezoid\") - 4373 - 1/3)\n",
    "print(\"Simpsons Error:\", Newton_Cotes(g, -10, 10, 100, \"Simpsons\") - 4373 - 1/3)"
   ]
  },
  {
   "cell_type": "code",
   "execution_count": 78,
   "metadata": {},
   "outputs": [
    {
     "name": "stdout",
     "output_type": "stream",
     "text": [
      "[-3.  -2.4 -1.8 -1.2 -0.6  0.   0.6  1.2  1.8  2.4  3. ]\n",
      "[ 0.00346697  0.01439745  0.04894278  0.11725292  0.19802845  0.23582284\n",
      "  0.19802845  0.11725292  0.04894278  0.01439745  0.00346697]\n"
     ]
    }
   ],
   "source": [
    "\"\"\" Problem 2 \"\"\"\n",
    "\n",
    "def norm_aprox(mu, sigma, N, k):\n",
    "    zvec = np.linspace(mu - sigma * k, mu + sigma * k, N)\n",
    "    wvec = np.zeros(N)\n",
    "    for i in range(len(wvec)):\n",
    "        if i == 0:\n",
    "            wvec[i] = norm.cdf((zvec[0]+zvec[1])/2, mu, sigma)\n",
    "        elif i == N-1:\n",
    "            wvec[i] =  1 - norm.cdf((zvec[N-2] + zvec[N-1])/2, mu, sigma)\n",
    "        else:\n",
    "            zmin = (zvec[i-1] + zvec[i]) / 2\n",
    "            zmax = (zvec[i] + zvec[i+1]) / 2\n",
    "            wvec[i] = norm.cdf(zmax, mu, sigma) - norm.cdf(zmin, mu, sigma)\n",
    "    return zvec, wvec\n",
    "\n",
    "zvec, wvec = norm_aprox(0, 1, 11, 3)\n",
    "print(zvec)\n",
    "print(wvec)"
   ]
  },
  {
   "cell_type": "code",
   "execution_count": 79,
   "metadata": {},
   "outputs": [
    {
     "name": "stdout",
     "output_type": "stream",
     "text": [
      "[  0.04978707   0.09071795   0.16529889   0.30119421   0.54881164   1.\n",
      "   1.8221188    3.32011692   6.04964746  11.02317638  20.08553692]\n",
      "[ 0.00346697  0.01439745  0.04894278  0.11725292  0.19802845  0.23582284\n",
      "  0.19802845  0.11725292  0.04894278  0.01439745  0.00346697]\n"
     ]
    }
   ],
   "source": [
    "\"\"\" Problem 3 \"\"\"\n",
    "\n",
    "def lognorm_aprox(mu, sigma, N, k):\n",
    "    zvec, wvec = norm_aprox(mu, sigma, N, k)\n",
    "    return np.exp(zvec), wvec\n",
    "\n",
    "zvec, wvec = lognorm_aprox(0, 1, 11, 3)\n",
    "print(zvec)\n",
    "print(wvec)"
   ]
  },
  {
   "cell_type": "code",
   "execution_count": 80,
   "metadata": {},
   "outputs": [
    {
     "name": "stdout",
     "output_type": "stream",
     "text": [
      "[   3294.46807528    5324.10552531    8604.15065402   13904.94762458\n",
      "   22471.42991992   36315.50267425   58688.55427462   94845.07026492\n",
      "  153276.69022932  247706.53553245  400312.19132988]\n",
      "[ 0.00346697  0.01439745  0.04894278  0.11725292  0.19802845  0.23582284\n",
      "  0.19802845  0.11725292  0.04894278  0.01439745  0.00346697]\n",
      "Aprox Expectation 50352.4561928\n",
      "Model Expectation 50011.0870085\n"
     ]
    }
   ],
   "source": [
    "\"\"\" Problem 4 \"\"\"\n",
    "zvec, wvec = lognorm_aprox(10.5, 0.8, 11, 3)\n",
    "print(zvec)\n",
    "print(wvec)\n",
    "\n",
    "print(\"Aprox Expectation\", (zvec@wvec).sum())\n",
    "print(\"Model Expectation\", np.exp(10.5 + 0.8 ** 2 / 2))"
   ]
  },
  {
   "cell_type": "code",
   "execution_count": 83,
   "metadata": {},
   "outputs": [
    {
     "name": "stdout",
     "output_type": "stream",
     "text": [
      "Quadrature Error: -3.03146396874e-13\n"
     ]
    }
   ],
   "source": [
    "\"\"\" Problem 5 \"\"\"\n",
    "\n",
    "def error(vec, a = -10, b = 10):\n",
    "    system = np.zeros(6)\n",
    "    for i in range(len(vec)):\n",
    "        system[i] = (b**(i+1) - a**(i+1))/(i+1) - \\\n",
    "        (vec[0]* (vec[3]** i) + vec[1]* (vec[4]**i) + vec[2]* (vec[5]**i))\n",
    "    return system\n",
    "\n",
    "x0 = np.ones(6)\n",
    "result = opt.root(error, x0, tol=1e-15).x\n",
    "wvec = result[:3]\n",
    "xvec = result[3:]\n",
    "g = lambda x: 0.1* (x**4) -1.5 * (x**3) + 0.53 * (x**2) + 2 * x + 1\n",
    "print(\"Quadrature Error:\", wvec@g(xvec) - 4373 - 1/3)"
   ]
  },
  {
   "cell_type": "code",
   "execution_count": 84,
   "metadata": {},
   "outputs": [
    {
     "name": "stdout",
     "output_type": "stream",
     "text": [
      "Scipy Error: 6.063483048990292e-13\n"
     ]
    }
   ],
   "source": [
    "\"\"\" Problem 6 \"\"\"\n",
    "integral = scipy.integrate.quad(g, -10, 10)[0]\n",
    "print(\"Scipy Error:\", integral - 4373 - 1/3)"
   ]
  },
  {
   "cell_type": "code",
   "execution_count": 75,
   "metadata": {},
   "outputs": [
    {
     "name": "stdout",
     "output_type": "stream",
     "text": [
      "3.168\n",
      "341\n"
     ]
    }
   ],
   "source": [
    "\"\"\" Problem 7 \"\"\"\n",
    "\n",
    "def monte_carlo(g, Omega, N):\n",
    "    integral = 0\n",
    "    for i in range(N):\n",
    "        val1 = np.random.uniform(Omega[0,0], Omega[0,1])\n",
    "        val2 = np.random.uniform(Omega[1,0], Omega[1,1])\n",
    "        integral += g([val1,val2])\n",
    "    return 4 / N * integral\n",
    "\n",
    "N = 1000\n",
    "Omega = np.array([[-1,1],[-1,1]])\n",
    "g = lambda x: 1 if x[0] ** 2 + x[1] ** 2 <= 1 else 0\n",
    "print(monte_carlo(g, Omega, N))\n",
    "\n",
    "def smallest_N(g, Omega, tol = 5*1e-4):\n",
    "    N = 100\n",
    "    aprox = 3.14\n",
    "    while abs(3.1415 - aprox) > tol:\n",
    "        aprox = monte_carlo(g, Omega, N)\n",
    "        N += 1\n",
    "    return N\n",
    "\n",
    "print(smallest_N(g, Omega))"
   ]
  },
  {
   "cell_type": "code",
   "execution_count": 85,
   "metadata": {
    "collapsed": true
   },
   "outputs": [],
   "source": [
    "\"\"\" Problem 8 \"\"\"\n",
    "\n",
    "#prime number generator from stackexchange\n",
    "def n_prime(N):\n",
    "    primes  = []\n",
    "    number = 2\n",
    "    while len(primes) < N:\n",
    "        ptest    = [number for i in primes if number%i == 0]\n",
    "        primes  += [] if ptest else [number]\n",
    "        number += 1\n",
    "    return primes\n",
    "\n",
    "def quasi_monte_carlo(n, s, method):\n",
    "\n",
    "    primes = np.array(n_prime(n))\n",
    "    \n",
    "    if method == \"Weyl\":\n",
    "        seq = n * primes**(1/2)\n",
    "        seq = seq[:s]\n",
    "        return seq % 1\n",
    "    \n",
    "    if method == \"Haber\":\n",
    "        seq = n* (n+1) / 2 * primes**0.5\n",
    "        seq = seq[:s]\n",
    "        return seq % 1\n",
    "        \n",
    "    if method == \"Niederreiter\":\n",
    "        seq = np.zeros((s, n))\n",
    "        for i in range(1, n + 1):\n",
    "            for j in range(1, s + 1):\n",
    "                seq[j - 1, i - 1] = ((i) * 2. ** ((j) / (j + 1.)) - math.floor((i) * 2. ** ((j) / (j + 1.))))\n",
    "        seq = seq[::2,::4].reshape(1,4)\n",
    "        return seq % 1\n",
    "\n",
    "    if method == \"Baker\":\n",
    "        seq = np.zeros((s,n))\n",
    "        for i in range(1, n+1):\n",
    "            for j in range(1, s+1):\n",
    "                seq[j-1, i-1] = ((i+1)*np.exp(j + 1)) - math.floor((i + 1) * np.exp(j + 1))\n",
    "        seq = seq[::2, ::4].reshape(1,4)\n",
    "        return seq % 1"
   ]
  },
  {
   "cell_type": "code",
   "execution_count": null,
   "metadata": {
    "collapsed": true
   },
   "outputs": [],
   "source": [
    "\"\"\" Problem 9 \"\"\"\n",
    "\n",
    "def pi_qmc(g, Omega, N = 1000, method = \"Weyl\"):\n",
    "    integral = 0\n",
    "    for i in range(2, N):\n",
    "        val1 = quasi_monte_carlo(i, 2, method)[2]\n",
    "        val2 = quasi_monte_carlo(i, 2, method)[3]\n",
    "        #don't understand how to scale the integral \n",
    "        #or how to truly apply montecarlo since\n",
    "        #quasi MC returns 4 values not 2\n",
    "        integral += g([val1,val2])\n",
    "    return 4 / N * integral\n",
    "\n",
    "Omega = np.array([[-1,1],[-1,1]])\n",
    "g = lambda x: 1 if x[0] ** 2 + x[1] ** 2 <= 1 else 0\n",
    "pi_qmc(g, Omega)"
   ]
  },
  {
   "cell_type": "code",
   "execution_count": null,
   "metadata": {
    "collapsed": true
   },
   "outputs": [],
   "source": []
  }
 ],
 "metadata": {
  "kernelspec": {
   "display_name": "Python 3",
   "language": "python",
   "name": "python3"
  },
  "language_info": {
   "codemirror_mode": {
    "name": "ipython",
    "version": 3
   },
   "file_extension": ".py",
   "mimetype": "text/x-python",
   "name": "python",
   "nbconvert_exporter": "python",
   "pygments_lexer": "ipython3",
   "version": "3.6.1"
  }
 },
 "nbformat": 4,
 "nbformat_minor": 2
}

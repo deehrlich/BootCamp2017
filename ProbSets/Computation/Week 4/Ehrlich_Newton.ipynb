{
 "cells": [
  {
   "cell_type": "code",
   "execution_count": 6,
   "metadata": {
    "collapsed": true
   },
   "outputs": [],
   "source": [
    "import math\n",
    "import numpy as np\n",
    "import autograd.numpy as anp\n",
    "from autograd import jacobian\n",
    "import matplotlib.pyplot as plt\n",
    "from scipy import linalg as la\n",
    "%matplotlib inline"
   ]
  },
  {
   "cell_type": "code",
   "execution_count": 16,
   "metadata": {},
   "outputs": [
    {
     "name": "stdout",
     "output_type": "stream",
     "text": [
      "(0.6931471805599496, True, 5)\n",
      "(-7.6800000000001789e-07, True, 9)\n"
     ]
    }
   ],
   "source": [
    "\"\"\" Problem 1, 3 \"\"\"\n",
    "\n",
    "def newton(f, fprime, x0, niter = 15, tol = 1e-5, alpha = 1):\n",
    "    x1 = x0 + 1\n",
    "    iternum = 0\n",
    "    boolConverged = False\n",
    "    while iternum < niter and boolConverged == False:\n",
    "        x1 = x0 - alpha* f(x0)/fprime(x0)\n",
    "        iternum += 1\n",
    "        if abs(x1- x0) < tol:\n",
    "            boolConverged = True \n",
    "        x0 = x1\n",
    "    return x1, boolConverged, iternum\n",
    "\n",
    "#test for problem 1\n",
    "f = lambda x: math.exp(x) - 2\n",
    "fprime = lambda x: math.exp(x)\n",
    "print(newton(f, fprime, 0.5))\n",
    "\n",
    "#test for problem 3\n",
    "f = lambda x: np.sign(x) * np.power(np.abs(x), 1./3)\n",
    "fprime = lambda x: 1/3 * np.power(np.abs(x), -2./3)\n",
    "print(newton(f, fprime, 0.5, alpha = 0.4))"
   ]
  },
  {
   "cell_type": "code",
   "execution_count": 13,
   "metadata": {},
   "outputs": [
    {
     "data": {
      "text/plain": [
       "(0.03877843202968288, True, 31)"
      ]
     },
     "execution_count": 13,
     "metadata": {},
     "output_type": "execute_result"
    }
   ],
   "source": [
    "\"\"\" Problem 2 \"\"\"\n",
    "\n",
    "def prob2(N1, N2, P1, P2):\n",
    "\n",
    "    f = lambda r: P1 * ((1 + r) ** N1 - 1) - P2 * (1 - (1 + r) ** (-N2))\n",
    "    fprime = lambda r: P1 * N1 * (1 + r) ** (N1 - 1) - P2 * N2 *(1 + r) ** (-N2 - 1)\n",
    "    return newton(f, fprime, 0.5, niter = 100)\n",
    "\n",
    "prob2(30, 20, 2000, 8000)"
   ]
  },
  {
   "cell_type": "code",
   "execution_count": 30,
   "metadata": {},
   "outputs": [
    {
     "data": {
      "image/png": "[encoded data removed]",
      "text/plain": [
       "<matplotlib.figure.Figure at 0x1161409e8>"
      ]
     },
     "metadata": {},
     "output_type": "display_data"
    },
    {
     "data": {
      "text/plain": [
       "0.33334000000000003"
      ]
     },
     "execution_count": 30,
     "metadata": {},
     "output_type": "execute_result"
    }
   ],
   "source": [
    "\"\"\" Problem 4 \"\"\"\n",
    "\n",
    "def prob4():\n",
    "    f = lambda x: np.sign(x) * np.power(np.abs(x), 1./3)\n",
    "    fprime = lambda x: 1/3 * np.power(np.abs(x), -2./3)\n",
    "    alpha  = np.linspace(1e-5, 1, 100)\n",
    "    iterations = np.zeros_like(alpha)\n",
    "    for i in range(len(alpha)):\n",
    "        iterations[i] = newton(f, fprime, 0.5, niter = 100, alpha = alpha[i])[2]\n",
    "    \n",
    "    #plot graph\n",
    "    plt.plot(alpha, iterations)\n",
    "    plt.xlabel(\"Alpha Value\")\n",
    "    plt.ylabel(\"Number of Iterations\")\n",
    "    plt.show()\n",
    "    \n",
    "    #get min alpha\n",
    "    minalpha = alpha[np.where(iterations == min(iterations))][0]\n",
    "    return minalpha\n",
    "    \n",
    "prob4()"
   ]
  },
  {
   "cell_type": "code",
   "execution_count": 15,
   "metadata": {
    "collapsed": true
   },
   "outputs": [],
   "source": [
    "\"\"\" Problem 5 \"\"\"\n",
    "\n",
    "def newtonND(f, Df, x0, niter=15, tol=1e-5, alpha=1):\n",
    "    if np.isscalar(x0):\n",
    "        return newton(f, Df, x0, niter = niter, tol = tol, alpha = alpha)\n",
    "    else:\n",
    "        iternum = 0\n",
    "        boolConverged = False\n",
    "        x1 = x + 1\n",
    "        while iternum < niter and boolConverged == False:\n",
    "            x1 = x0 - alpha* la.solve(Df(x0), f(x0))\n",
    "            iternum += 1\n",
    "            if la.norm(x1 - x0) < tol:\n",
    "                boolConverged = True \n",
    "            x0 = x1\n",
    "        return x1, boolConverged, iternum"
   ]
  },
  {
   "cell_type": "code",
   "execution_count": null,
   "metadata": {
    "collapsed": true,
    "scrolled": false
   },
   "outputs": [],
   "source": [
    "\"\"\" Problem 6 \"\"\"\n",
    "\n",
    "def prob6(f, Df, niter = 15, tol=1e-5):\n",
    "    sol1 = np.array([0,1])\n",
    "    sol2 = np.array([0,-1])\n",
    "    sol3 = np.array([3.75,0.25])\n",
    "    xvals = np.linspace(-1/4, 0, 100)\n",
    "    yvals = np.linspace(0, 1/4, 100)\n",
    "    aprox1 = newtonND(f, Df, x0, niter = niter, tol=tol, alpha=1)\n",
    "    aprox3 = newtonND(f, Df, x0, niter = niter, tol=tol, alpha=0.55)\n",
    "    return aprox1, aprox3\n",
    "\n",
    "gamma = 5 \n",
    "delta = 1\n",
    "f = lambda x: anp.array([gamma* x[0] * x[1] - x[0] * (1 + x[1]), - x[0] * x[1] + (delta - x[1]) * (1 + x[1])])\n",
    "Df = jacobian(f)\n",
    "prob6(f, Df, niter = 15, tol=1e-5)"
   ]
  },
  {
   "cell_type": "code",
   "execution_count": 38,
   "metadata": {},
   "outputs": [
    {
     "data": {
      "image/png": "[encoded data removed]",
      "text/plain": [
       "<matplotlib.figure.Figure at 0x112eb9470>"
      ]
     },
     "metadata": {},
     "output_type": "display_data"
    }
   ],
   "source": [
    "\"\"\" Problem 7 \"\"\"\n",
    "\n",
    "def basins(f, Df, roots, bounds, res = 100, iters = 100):\n",
    "    x_real = np.linspace(bounds[0],bounds[1], res)    # Real parts.\n",
    "    x_imag = np.linspace(bounds[2],bounds[3], res)    # Imaginary parts.\n",
    "    X_real, X_imag = np.meshgrid(x_real, x_imag)\n",
    "    X_0 = X_real + 1j*X_imag  \n",
    "    for i in range(iters):\n",
    "        X_1 = X_0 - f(X_0)/Df(X_0)\n",
    "        X_0 = X_1\n",
    "    Y = np.zeros((res,res))\n",
    "    for i in range(res):\n",
    "        for j in range(res):\n",
    "            Y[i,j] = np.argmin(np.abs(roots - X_1[i,j]))\n",
    "    plt.pcolormesh(x_real, x_imag, Y, cmap='brg')\n",
    "    plt.show()\n",
    "    \n",
    "f = lambda x: x**3 - 1\n",
    "Df = lambda x: 3* x**2\n",
    "res = 100\n",
    "iters = 100\n",
    "roots = np.array([1, -0.5 + 1j / 2 * np.sqrt(3), -1/2 - 1j / 2 * np.sqrt(3)])\n",
    "bounds = np.array([-1.5, 1.5, -1.5, 1.5])\n",
    "basins(f, Df, roots, bounds, res = 500, iters = 500)"
   ]
  },
  {
   "cell_type": "code",
   "execution_count": null,
   "metadata": {
    "collapsed": true
   },
   "outputs": [],
   "source": []
  }
 ],
 "metadata": {
  "kernelspec": {
   "display_name": "Python 3",
   "language": "python",
   "name": "python3"
  },
  "language_info": {
   "codemirror_mode": {
    "name": "ipython",
    "version": 3
   },
   "file_extension": ".py",
   "mimetype": "text/x-python",
   "name": "python",
   "nbconvert_exporter": "python",
   "pygments_lexer": "ipython3",
   "version": "3.6.1"
  }
 },
 "nbformat": 4,
 "nbformat_minor": 2
}

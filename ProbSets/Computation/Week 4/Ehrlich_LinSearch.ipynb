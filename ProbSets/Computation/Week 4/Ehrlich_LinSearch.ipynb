{
 "cells": [
  {
   "cell_type": "code",
   "execution_count": null,
   "metadata": {
    "collapsed": true
   },
   "outputs": [],
   "source": [
    "import math"
   ]
  },
  {
   "cell_type": "code",
   "execution_count": null,
   "metadata": {
    "collapsed": true
   },
   "outputs": [],
   "source": [
    "\"\"\" Problem 1 \"\"\"\n",
    "\n",
    "def golden(f, a, b, niter, tol):\n",
    "    p = .5*(3-math.sqrt(5))\n",
    "    a1 = a + p * (b - a)\n",
    "    b1 = a + (1 - p) * (b - a)\n",
    "    iternum = 0\n",
    "    while iternum < niter and abs(a1 - b1) > 2*tol:\n",
    "        if f(a1) > f(b1):\n",
    "            a = a1\n",
    "        else:\n",
    "            b = b1\n",
    "        a1 = a + p * (b - a)\n",
    "        b1 = a + (1 - p) * (b - a)\n",
    "        iternum += 1\n",
    "    return (aprime + bprime)/2, iternum\n",
    "\n",
    "f = lambda x: math.exp(x) - 4*x\n",
    "%timeit golden(f,0,3,3000,0.001)"
   ]
  },
  {
   "cell_type": "code",
   "execution_count": null,
   "metadata": {
    "collapsed": true
   },
   "outputs": [],
   "source": [
    "\"\"\" Problem 2 \"\"\"\n",
    "\n",
    "def centered2(f, x, h):\n",
    "    return (f(x + h)- f(x - h))/(2*h)\n",
    "\n",
    "def bisection(f, a, b, niter, tol):\n",
    "    iternum = 0\n",
    "    aprime = a\n",
    "    bprime = b\n",
    "    while iternum < niter and abs(aprime - bprime) > 2*tol:\n",
    "        midpoint = (aprime + bprime)/2\n",
    "        if centered2(f, midpoint, h = 0.01) > 0:\n",
    "            bprime = midpoint\n",
    "        else:\n",
    "            aprime = midpoint\n",
    "        iternum += 1\n",
    "    return (aprime + bprime)/2, iternum\n",
    "\n",
    "%timeit bisection(f,0,3,3000,0.001)"
   ]
  },
  {
   "cell_type": "code",
   "execution_count": null,
   "metadata": {
    "collapsed": true
   },
   "outputs": [],
   "source": [
    "\"\"\" Problem 3 \"\"\"\n",
    "\n",
    "def newton(f, fprime, fdprime, x0, niter):\n",
    "    x1 = x0 + 1\n",
    "    iternum = 0\n",
    "    while iternum < niter:\n",
    "        x1 = x0 - fprime(x0)/fdprime(x0)\n",
    "        iternum += 1\n",
    "        x0 = x1\n",
    "    return x1\n",
    "\n",
    "f = lambda x: x ** 2 + math.sin(5*x)\n",
    "fprime = lambda x: 2*x + 5*math.cos(5*x)\n",
    "fdprime = lambda x: 2 - 25*math.sin(5*x)\n",
    "\n",
    "x0 = 0\n",
    "print(newton(f, fprime, fdprime, x0, 1000))"
   ]
  },
  {
   "cell_type": "code",
   "execution_count": null,
   "metadata": {
    "collapsed": true
   },
   "outputs": [],
   "source": [
    "\"\"\" Problem 4 \"\"\"\n",
    "\n",
    "def secant(f, fprime, x0, x1, niter):\n",
    "    iternum = 0\n",
    "    while iternum < niter: \n",
    "        x2 = x1 - ((x1-x0)/(fprime(x1) - fprime(x0))) * fprime(x1)\n",
    "        x0 = x1\n",
    "        x1 = x2\n",
    "        print(iternum)\n",
    "        print(x2)\n",
    "        iternum += 1\n",
    "    return x2\n",
    "\n",
    "f = lambda x: x**2 + math.sin(x) + math.sin(10*x)\n",
    "fprime = lambda x: 2 * x + math.cos(x) + 10 * math.cos(10*x)\n",
    "secant(f, fprime, 0,-1, 100)\n",
    "\n",
    "\"\"\" The function has many local min and max and is therefore sensitive to the initial starting conditions\"\"\""
   ]
  },
  {
   "cell_type": "code",
   "execution_count": null,
   "metadata": {
    "collapsed": true
   },
   "outputs": [],
   "source": [
    "\"\"\" Problem 5 \"\"\"\n",
    "\n",
    "def backtrack(f, fprime, x0, p, alpha, c, rho, niter):\n",
    "    iternum = 0\n",
    "    while f(x0 + alpha * p) > f(x0) + c * alpha * fprime(x0) * p: and iternum < niter:\n",
    "        alpha = alpha * rho\n",
    "        iternum += 1\n",
    "    return alpha, iternum"
   ]
  },
  {
   "cell_type": "code",
   "execution_count": null,
   "metadata": {
    "collapsed": true
   },
   "outputs": [],
   "source": []
  }
 ],
 "metadata": {
  "kernelspec": {
   "display_name": "Python 3",
   "language": "python",
   "name": "python3"
  },
  "language_info": {
   "codemirror_mode": {
    "name": "ipython",
    "version": 3
   },
   "file_extension": ".py",
   "mimetype": "text/x-python",
   "name": "python",
   "nbconvert_exporter": "python",
   "pygments_lexer": "ipython3",
   "version": "3.6.1"
  }
 },
 "nbformat": 4,
 "nbformat_minor": 2
}

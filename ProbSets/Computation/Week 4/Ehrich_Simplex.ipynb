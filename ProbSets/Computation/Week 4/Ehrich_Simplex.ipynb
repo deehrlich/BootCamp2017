{
 "cells": [
  {
   "cell_type": "code",
   "execution_count": 1,
   "metadata": {
    "collapsed": true
   },
   "outputs": [],
   "source": [
    "import numpy as np"
   ]
  },
  {
   "cell_type": "code",
   "execution_count": 15,
   "metadata": {
    "collapsed": true
   },
   "outputs": [],
   "source": [
    "\"\"\" Problem 1,2,3,4,5,6\"\"\"\n",
    "\n",
    "class LinOpt:\n",
    "    \n",
    "    def __init__(self, c, A, b):\n",
    "        \n",
    "        x = np.zeros_like(c)\n",
    "        if np.any(A.dot(x) > b):\n",
    "            raise ValueError(\"Problem is not feasible at the origin\")\n",
    "        else:\n",
    "            self.c = c\n",
    "            self.A = A\n",
    "            self.b = b\n",
    "        \n",
    "        #track variables\n",
    "        m, n = A.shape\n",
    "        self.L = list(range(n, n + m)) + list(range(n))\n",
    "        \n",
    "    def tableau(self):\n",
    "        m,n = self.A.shape\n",
    "        Im = np.eye(m)\n",
    "        Abar = np.concatenate([self.A, np.eye(m)], axis = 1)\n",
    "        cbar =  - np.concatenate([self.c, np.zeros(m)])\n",
    "        col1 =  np.concatenate((np.array([0]), self.b))\n",
    "        col2 =  np.vstack((cbar, Abar))\n",
    "        col3 = np.concatenate((np.array([1]), np.zeros_like(self.b)))\n",
    "        self.T = np.column_stack((col1, col2, col3))\n",
    "        return self.T\n",
    "        \n",
    "    def pivot(self):\n",
    "        m,n = self.T.shape\n",
    "        index_col = 0\n",
    "        while self.T[0,index_col] >= 0:\n",
    "            index_col+=1\n",
    "        if not np.any(self.T[:,index_col] > 0):\n",
    "            raise ValueError(\"Cannot use Bland's Method\")\n",
    "        else:\n",
    "            ratio = np.zeros(m)\n",
    "            ratio = self.T[:, 0]/self.T[:,index_col]\n",
    "            ratio[ratio <= 0] = np.inf\n",
    "            index_row = np.where(ratio == min(ratio))[0][0]\n",
    "        self.row = index_row\n",
    "        self.col = index_col\n",
    "        return self.row, self.col\n",
    "    \n",
    "    def pivot_op(self):\n",
    "        row, col = self.row, self.col\n",
    "        l1 = row-1\n",
    "        l2 = self.L.index(col-1)\n",
    "        self.L[l1], self.L[l2] = self.L[l2], self.L[l1]\n",
    "        self.T[row,:] = self.T[row,:]/self.T[row, col]\n",
    "        m, n = self.T.shape\n",
    "        for i in range(m):\n",
    "            if i == row:\n",
    "                self.T[i,:] = self.T[i,:]\n",
    "            else:\n",
    "                coef = self.T[i, col]/self.T[row, col]\n",
    "                self.T[i,:] = self.T[i,:]- coef* self.T[row,:]\n",
    "        return self.L, self.T\n",
    "    \n",
    "    def solve(self):\n",
    "        self.tableau()\n",
    "        while np.any(self.T[0, 1:] < 0):\n",
    "            self.pivot()\n",
    "            self.pivot_op()\n",
    "        optimal = self.T[0,0]\n",
    "        return optimal"
   ]
  },
  {
   "cell_type": "code",
   "execution_count": 16,
   "metadata": {},
   "outputs": [
    {
     "name": "stdout",
     "output_type": "stream",
     "text": [
      "(5.2000000000000002, {2: 0.59999999999999964, 0: 1.6000000000000001, 1: 0.19999999999999982}, {4: 0})\n"
     ]
    }
   ],
   "source": [
    "A = np.array([[1,-1],[3,1],[4,3]])\n",
    "b = np.array([2,5,7])\n",
    "c = np.array([3,2])\n",
    "solver = LinOpt(c, A, b)\n",
    "solver.tableau()\n",
    "solver.pivot()\n",
    "sol = solver.solve()\n",
    "print(sol)"
   ]
  },
  {
   "cell_type": "code",
   "execution_count": 17,
   "metadata": {},
   "outputs": [
    {
     "name": "stdout",
     "output_type": "stream",
     "text": [
      "(7453.5964912280706, {1: 6.1929824561403484, 3: 1.7894736842105292, 6: 0.96596491228070158, 0: 10.0, 8: 13.807017543859653, 2: 12.0, 10: 8.2105263157894708}, {4: 0, 9: 0, 5: 0})\n"
     ]
    },
    {
     "name": "stderr",
     "output_type": "stream",
     "text": [
      "/Users/Deehrlich/anaconda/lib/python3.6/site-packages/ipykernel_launcher.py:39: RuntimeWarning: divide by zero encountered in true_divide\n"
     ]
    }
   ],
   "source": [
    "\"\"\" Problem 7 \"\"\"\n",
    "data = np.load(\"/Users/Deehrlich/Desktop/BootCamp2017/Computation/Wk4_DifIntOpt/productMix.npz\")\n",
    "A = data['A']\n",
    "p = data['p']\n",
    "m = data['m']\n",
    "d = data['d']\n",
    "A = np.vstack([A, np.eye(A.shape[1])])\n",
    "b = np.concatenate((m,d))\n",
    "solver = LinOpt(p, A, b)\n",
    "solver.tableau()\n",
    "solver.pivot()\n",
    "solver.pivot_op()\n",
    "sol = solver.solve()\n",
    "print(sol)"
   ]
  },
  {
   "cell_type": "code",
   "execution_count": null,
   "metadata": {
    "collapsed": true
   },
   "outputs": [],
   "source": []
  }
 ],
 "metadata": {
  "kernelspec": {
   "display_name": "Python 3",
   "language": "python",
   "name": "python3"
  },
  "language_info": {
   "codemirror_mode": {
    "name": "ipython",
    "version": 3
   },
   "file_extension": ".py",
   "mimetype": "text/x-python",
   "name": "python",
   "nbconvert_exporter": "python",
   "pygments_lexer": "ipython3",
   "version": "3.6.1"
  }
 },
 "nbformat": 4,
 "nbformat_minor": 2
}

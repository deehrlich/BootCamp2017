{
 "cells": [
  {
   "cell_type": "code",
   "execution_count": 7,
   "metadata": {
    "collapsed": true
   },
   "outputs": [],
   "source": [
    "import numpy as np\n",
    "from scipy import linalg as la\n",
    "from scipy.sparse import dok_matrix"
   ]
  },
  {
   "cell_type": "code",
   "execution_count": 52,
   "metadata": {},
   "outputs": [
    {
     "name": "stdout",
     "output_type": "stream",
     "text": [
      "[[ 0.  0.  0.  0.  0.  0.  0.  1.]\n",
      " [ 1.  0.  0.  0.  0.  0.  0.  0.]\n",
      " [ 0.  0.  0.  0.  0.  0.  0.  0.]\n",
      " [ 1.  0.  1.  0.  0.  0.  1.  0.]\n",
      " [ 1.  0.  0.  0.  0.  1.  1.  0.]\n",
      " [ 1.  0.  0.  0.  0.  0.  1.  0.]\n",
      " [ 1.  0.  0.  0.  0.  0.  0.  0.]\n",
      " [ 1.  0.  0.  0.  0.  0.  0.  0.]]\n"
     ]
    }
   ],
   "source": [
    "\"\"\" Problem 1 \"\"\"\n",
    "\n",
    "def get_A(N, filename = '/Users/Deehrlich/Desktop/BootCamp2017/Computation/Wk4_DifIntOpt/matrix.txt'):\n",
    "    with open(filename, 'r') as file:\n",
    "        lines = file.readlines()\n",
    "    \n",
    "    S = dok_matrix((N, N))\n",
    "    \n",
    "    for line in lines:\n",
    "        line = line.strip().split()\n",
    "        try: \n",
    "            i = int(line[0])\n",
    "            j = int(line[1])\n",
    "            S[i,j] = 1\n",
    "        except:\n",
    "            pass\n",
    "        \n",
    "    return S\n",
    "\n",
    "A = get_A(8)\n",
    "print(A.toarray())"
   ]
  },
  {
   "cell_type": "code",
   "execution_count": 123,
   "metadata": {},
   "outputs": [
    {
     "name": "stdout",
     "output_type": "stream",
     "text": [
      "[[ 0.          1.          0.125       0.33333333  0.33333333  0.5         1.\n",
      "   1.        ]\n",
      " [ 0.          0.          0.125       0.          0.          0.          0.\n",
      "   0.        ]\n",
      " [ 0.          0.          0.125       0.33333333  0.          0.          0.\n",
      "   0.        ]\n",
      " [ 0.          0.          0.125       0.          0.          0.          0.\n",
      "   0.        ]\n",
      " [ 0.          0.          0.125       0.          0.          0.          0.\n",
      "   0.        ]\n",
      " [ 0.          0.          0.125       0.          0.33333333  0.          0.\n",
      "   0.        ]\n",
      " [ 0.          0.          0.125       0.33333333  0.33333333  0.5         0.\n",
      "   0.        ]\n",
      " [ 1.          0.          0.125       0.          0.          0.          0.\n",
      "   0.        ]]\n"
     ]
    }
   ],
   "source": [
    "\"\"\" Problem 2 \"\"\"\n",
    "\n",
    "def get_K(A):\n",
    "    Am = A.copy()\n",
    "    rowsum = Am.sum(axis=1)\n",
    "    Am[np.where(rowsum == 0)[0],:] = 1\n",
    "    D = np.diagflat(Am.sum(axis=1))\n",
    "    return (la.inv(D)@Am).T\n",
    "\n",
    "K = get_K(A)\n",
    "print(K)"
   ]
  },
  {
   "cell_type": "code",
   "execution_count": 129,
   "metadata": {},
   "outputs": [
    {
     "name": "stdout",
     "output_type": "stream",
     "text": [
      "[[ 0.43871522]\n",
      " [ 0.02171029]\n",
      " [ 0.02786154]\n",
      " [ 0.02171029]\n",
      " [ 0.02171029]\n",
      " [ 0.02786154]\n",
      " [ 0.04585394]\n",
      " [ 0.39461609]]\n"
     ]
    }
   ],
   "source": [
    "\"\"\" Problem 3 \"\"\"\n",
    "\n",
    "def steadystate(A, N= None, d= 0.85, tol = 1e-5):\n",
    "    \n",
    "    K = get_K(A)\n",
    "    A = A.toarray()\n",
    "    n, n = A.shape \n",
    "    \n",
    "    if N != None:\n",
    "        K = K[:N,:N]\n",
    "    else:\n",
    "        N = n\n",
    "    \n",
    "    pt = np.random.rand(N,1)\n",
    "    error = 1\n",
    "    while error > tol:\n",
    "        pt1 = d*K@pt + (1-d)/N\n",
    "        error = np.linalg.norm(pt1 - pt)\n",
    "        pt = pt1\n",
    "        \n",
    "    return pt\n",
    "\n",
    "print(steadystate(A))"
   ]
  },
  {
   "cell_type": "code",
   "execution_count": 140,
   "metadata": {},
   "outputs": [
    {
     "name": "stdout",
     "output_type": "stream",
     "text": [
      "[ 0.43869288  0.02171029  0.02786154  0.02171029  0.02171029  0.02786154\n",
      "  0.04585394  0.39459924]\n"
     ]
    }
   ],
   "source": [
    "\"\"\" Problem 4 \"\"\"\n",
    "\n",
    "def eig_SS(A, N = None, d = 0.85):\n",
    "    \n",
    "    K = get_K(A)\n",
    "    A = A.toarray()\n",
    "    n, n = A.shape \n",
    "\n",
    "    if N != None:\n",
    "        K = K[:N,:N]\n",
    "    else:\n",
    "        N = n\n",
    "        \n",
    "    pt = np.random.rand(N,1)\n",
    "    \n",
    "    B = d*K + (1-d)/N\n",
    "    eigs, vecs = la.eig(B)\n",
    "    ss = vecs[:,0]/np.sum(vecs[:,0])\n",
    "    return ss\n",
    "\n",
    "eig_ss = eig_SS(A)\n",
    "print(eig_ss)"
   ]
  },
  {
   "cell_type": "code",
   "execution_count": 160,
   "metadata": {},
   "outputs": [
    {
     "name": "stdout",
     "output_type": "stream",
     "text": [
      "[['Duke' 'Butler' 'Louisville' 'Illinois' 'Indiana']]\n"
     ]
    }
   ],
   "source": [
    "\"\"\" Problem 5 \"\"\"\n",
    "\n",
    "def NCAA(filename = '/Users/Deehrlich/Desktop/BootCamp2017/Computation/Wk4_DifIntOpt/ncaa2013.csv'):\n",
    "\n",
    "    games = np.empty(shape=[0, 2])\n",
    "    with open(filename, 'r') as ncaafile:\n",
    "        ncaafile.readline()\n",
    "        for line in ncaafile:\n",
    "            teams = line.strip().split(',')\n",
    "            games = np.append(games, [[teams[0], teams[1]]], axis=0)\n",
    "        \n",
    "    names = np.unique(games)\n",
    "    index = {k: v for v, k in enumerate(names)}\n",
    "    A = dok_matrix((len(names), len(names)))\n",
    "    for i in range(len(games[:,0])):\n",
    "        A[index[games[i,1]],index[games[i,0]]] = 1\n",
    "        \n",
    "    ranks = steadystate(A, d= 0.7)\n",
    "    sort = np.argsort(-ranks.T)\n",
    "    return ranks[sort], names[sort]\n",
    "\n",
    "sortedranks, sortednames = NCAA()\n",
    "print(sortednames[:,:5])"
   ]
  },
  {
   "cell_type": "code",
   "execution_count": null,
   "metadata": {
    "collapsed": true
   },
   "outputs": [],
   "source": []
  }
 ],
 "metadata": {
  "kernelspec": {
   "display_name": "Python 3",
   "language": "python",
   "name": "python3"
  },
  "language_info": {
   "codemirror_mode": {
    "name": "ipython",
    "version": 3
   },
   "file_extension": ".py",
   "mimetype": "text/x-python",
   "name": "python",
   "nbconvert_exporter": "python",
   "pygments_lexer": "ipython3",
   "version": "3.6.1"
  }
 },
 "nbformat": 4,
 "nbformat_minor": 2
}
